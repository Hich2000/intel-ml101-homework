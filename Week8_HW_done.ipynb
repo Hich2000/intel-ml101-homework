{
 "cells": [
  {
   "cell_type": "markdown",
   "metadata": {},
   "source": [
    "# Decision Trees Exercises"
   ]
  },
  {
   "cell_type": "markdown",
   "metadata": {},
   "source": [
    "## Introduction\n",
    "\n",
    "We will be using the wine quality data set for these exercises. This data set contains various chemical properties of wine, such as acidity, sugar, pH, and alcohol. It also contains a quality metric (3-9, with highest being better) and a color (red or white). The name of the file is `Wine_Quality_Data.csv`."
   ]
  },
  {
   "cell_type": "markdown",
   "metadata": {
    "collapsed": true
   },
   "source": [
    "### Prerequisites\n",
    "\n",
    "Install pydotplus and seaborn in your own virtual environment\n",
    "\n",
    "!pip install pydotplus\n",
    "\n",
    "!pip install seaborn"
   ]
  },
  {
   "cell_type": "code",
   "execution_count": 117,
   "metadata": {
    "ExecuteTime": {
     "end_time": "2017-05-09T23:59:20.515409Z",
     "start_time": "2017-05-09T23:59:20.508062Z"
    },
    "collapsed": true
   },
   "outputs": [],
   "source": [
    "from __future__ import print_function\n",
    "import os\n",
    "data_path = ['data']"
   ]
  },
  {
   "cell_type": "markdown",
   "metadata": {},
   "source": [
    "## Question 1\n",
    "\n",
    "* Import the data and examine the features.\n",
    "* We will be using all of them to predict `color` (white or red), but the colors feature will need to be integer encoded."
   ]
  },
  {
   "cell_type": "code",
   "execution_count": 118,
   "metadata": {
    "ExecuteTime": {
     "end_time": "2017-05-09T23:59:21.203609Z",
     "start_time": "2017-05-09T23:59:20.517816Z"
    },
    "collapsed": true
   },
   "outputs": [],
   "source": [
    "import pandas as pd\n",
    "import numpy as np\n",
    "\n",
    "filepath = os.sep.join(data_path + ['Wine_Quality_Data.csv'])\n",
    "data = pd.read_csv(filepath, sep=',')"
   ]
  },
  {
   "cell_type": "code",
   "execution_count": 119,
   "metadata": {
    "ExecuteTime": {
     "end_time": "2017-05-09T23:59:21.237021Z",
     "start_time": "2017-05-09T23:59:21.205679Z"
    }
   },
   "outputs": [
    {
     "output_type": "execute_result",
     "data": {
      "text/plain": [
       "   fixed_acidity  volatile_acidity  citric_acid  residual_sugar  chlorides  \\\n",
       "0            7.4              0.70         0.00             1.9      0.076   \n",
       "1            7.8              0.88         0.00             2.6      0.098   \n",
       "2            7.8              0.76         0.04             2.3      0.092   \n",
       "3           11.2              0.28         0.56             1.9      0.075   \n",
       "4            7.4              0.70         0.00             1.9      0.076   \n",
       "\n",
       "   free_sulfur_dioxide  total_sulfur_dioxide  density    pH  sulphates  \\\n",
       "0                 11.0                  34.0   0.9978  3.51       0.56   \n",
       "1                 25.0                  67.0   0.9968  3.20       0.68   \n",
       "2                 15.0                  54.0   0.9970  3.26       0.65   \n",
       "3                 17.0                  60.0   0.9980  3.16       0.58   \n",
       "4                 11.0                  34.0   0.9978  3.51       0.56   \n",
       "\n",
       "   alcohol  quality color  \n",
       "0      9.4        5   red  \n",
       "1      9.8        5   red  \n",
       "2      9.8        5   red  \n",
       "3      9.8        6   red  \n",
       "4      9.4        5   red  "
      ],
      "text/html": "<div>\n<style scoped>\n    .dataframe tbody tr th:only-of-type {\n        vertical-align: middle;\n    }\n\n    .dataframe tbody tr th {\n        vertical-align: top;\n    }\n\n    .dataframe thead th {\n        text-align: right;\n    }\n</style>\n<table border=\"1\" class=\"dataframe\">\n  <thead>\n    <tr style=\"text-align: right;\">\n      <th></th>\n      <th>fixed_acidity</th>\n      <th>volatile_acidity</th>\n      <th>citric_acid</th>\n      <th>residual_sugar</th>\n      <th>chlorides</th>\n      <th>free_sulfur_dioxide</th>\n      <th>total_sulfur_dioxide</th>\n      <th>density</th>\n      <th>pH</th>\n      <th>sulphates</th>\n      <th>alcohol</th>\n      <th>quality</th>\n      <th>color</th>\n    </tr>\n  </thead>\n  <tbody>\n    <tr>\n      <th>0</th>\n      <td>7.4</td>\n      <td>0.70</td>\n      <td>0.00</td>\n      <td>1.9</td>\n      <td>0.076</td>\n      <td>11.0</td>\n      <td>34.0</td>\n      <td>0.9978</td>\n      <td>3.51</td>\n      <td>0.56</td>\n      <td>9.4</td>\n      <td>5</td>\n      <td>red</td>\n    </tr>\n    <tr>\n      <th>1</th>\n      <td>7.8</td>\n      <td>0.88</td>\n      <td>0.00</td>\n      <td>2.6</td>\n      <td>0.098</td>\n      <td>25.0</td>\n      <td>67.0</td>\n      <td>0.9968</td>\n      <td>3.20</td>\n      <td>0.68</td>\n      <td>9.8</td>\n      <td>5</td>\n      <td>red</td>\n    </tr>\n    <tr>\n      <th>2</th>\n      <td>7.8</td>\n      <td>0.76</td>\n      <td>0.04</td>\n      <td>2.3</td>\n      <td>0.092</td>\n      <td>15.0</td>\n      <td>54.0</td>\n      <td>0.9970</td>\n      <td>3.26</td>\n      <td>0.65</td>\n      <td>9.8</td>\n      <td>5</td>\n      <td>red</td>\n    </tr>\n    <tr>\n      <th>3</th>\n      <td>11.2</td>\n      <td>0.28</td>\n      <td>0.56</td>\n      <td>1.9</td>\n      <td>0.075</td>\n      <td>17.0</td>\n      <td>60.0</td>\n      <td>0.9980</td>\n      <td>3.16</td>\n      <td>0.58</td>\n      <td>9.8</td>\n      <td>6</td>\n      <td>red</td>\n    </tr>\n    <tr>\n      <th>4</th>\n      <td>7.4</td>\n      <td>0.70</td>\n      <td>0.00</td>\n      <td>1.9</td>\n      <td>0.076</td>\n      <td>11.0</td>\n      <td>34.0</td>\n      <td>0.9978</td>\n      <td>3.51</td>\n      <td>0.56</td>\n      <td>9.4</td>\n      <td>5</td>\n      <td>red</td>\n    </tr>\n  </tbody>\n</table>\n</div>"
     },
     "metadata": {},
     "execution_count": 119
    }
   ],
   "source": [
    "data.head()"
   ]
  },
  {
   "cell_type": "code",
   "execution_count": 120,
   "metadata": {
    "ExecuteTime": {
     "end_time": "2017-05-09T23:59:21.252443Z",
     "start_time": "2017-05-09T23:59:21.240366Z"
    }
   },
   "outputs": [
    {
     "output_type": "execute_result",
     "data": {
      "text/plain": [
       "fixed_acidity           float64\n",
       "volatile_acidity        float64\n",
       "citric_acid             float64\n",
       "residual_sugar          float64\n",
       "chlorides               float64\n",
       "free_sulfur_dioxide     float64\n",
       "total_sulfur_dioxide    float64\n",
       "density                 float64\n",
       "pH                      float64\n",
       "sulphates               float64\n",
       "alcohol                 float64\n",
       "quality                   int64\n",
       "color                    object\n",
       "dtype: object"
      ]
     },
     "metadata": {},
     "execution_count": 120
    }
   ],
   "source": [
    "data.dtypes"
   ]
  },
  {
   "cell_type": "markdown",
   "metadata": {},
   "source": [
    "Convert the color feature to an integer. This is a quick way to do it using Pandas."
   ]
  },
  {
   "cell_type": "code",
   "execution_count": 121,
   "metadata": {
    "ExecuteTime": {
     "end_time": "2017-05-09T23:59:21.265375Z",
     "start_time": "2017-05-09T23:59:21.255260Z"
    },
    "collapsed": true
   },
   "outputs": [],
   "source": [
    "data['color'] = data.color.replace('white',0).replace('red',1).astype(np.int)"
   ]
  },
  {
   "cell_type": "markdown",
   "metadata": {},
   "source": [
    "## Question 2\n",
    "\n",
    "* Use `StratifiedShuffleSplit` to split data into train and test sets that are stratified by wine quality. If possible, preserve the indices of the split for question 5 below.\n",
    "* Check the percent composition of each quality level for both the train and test data sets."
   ]
  },
  {
   "cell_type": "code",
   "execution_count": 122,
   "metadata": {
    "ExecuteTime": {
     "end_time": "2017-05-09T23:59:21.274460Z",
     "start_time": "2017-05-09T23:59:21.270038Z"
    },
    "collapsed": true
   },
   "outputs": [],
   "source": [
    "# All data columns except for color\n",
    "feature_cols = [x for x in data.columns if x not in 'color']"
   ]
  },
  {
   "cell_type": "code",
   "execution_count": 123,
   "metadata": {
    "ExecuteTime": {
     "end_time": "2017-05-09T23:59:21.627973Z",
     "start_time": "2017-05-09T23:59:21.283564Z"
    },
    "collapsed": true
   },
   "outputs": [],
   "source": [
    "from sklearn.model_selection import StratifiedShuffleSplit\n",
    "\n",
    "# Split the data into two parts with 1000 points in the test data\n",
    "# This creates a generator\n",
    "strat_shuff_split = StratifiedShuffleSplit(n_splits=1, test_size=1000, random_state=42)\n",
    "\n",
    "# Get the index values from the generator\n",
    "train_idx, test_idx = next(strat_shuff_split.split(data[feature_cols], data['color']))\n",
    "\n",
    "# Create the data sets\n",
    "X_train = data.loc[train_idx, feature_cols]\n",
    "y_train = data.loc[train_idx, 'color']\n",
    "\n",
    "X_test = data.loc[test_idx, feature_cols]\n",
    "y_test = data.loc[test_idx, 'color']"
   ]
  },
  {
   "cell_type": "markdown",
   "metadata": {},
   "source": [
    "Now check the percent composition of each quality level in the train and test data sets. The data set is mostly white wine, as can be seen below."
   ]
  },
  {
   "cell_type": "code",
   "execution_count": 124,
   "metadata": {
    "ExecuteTime": {
     "end_time": "2017-05-09T23:59:21.639032Z",
     "start_time": "2017-05-09T23:59:21.629538Z"
    }
   },
   "outputs": [
    {
     "output_type": "execute_result",
     "data": {
      "text/plain": [
       "0    0.753866\n",
       "1    0.246134\n",
       "Name: color, dtype: float64"
      ]
     },
     "metadata": {},
     "execution_count": 124
    }
   ],
   "source": [
    "y_train.value_counts(normalize=True).sort_index()"
   ]
  },
  {
   "cell_type": "code",
   "execution_count": 125,
   "metadata": {
    "ExecuteTime": {
     "end_time": "2017-05-09T23:59:21.648983Z",
     "start_time": "2017-05-09T23:59:21.641824Z"
    }
   },
   "outputs": [
    {
     "output_type": "execute_result",
     "data": {
      "text/plain": [
       "0    0.754\n",
       "1    0.246\n",
       "Name: color, dtype: float64"
      ]
     },
     "metadata": {},
     "execution_count": 125
    }
   ],
   "source": [
    "y_test.value_counts(normalize=True).sort_index()"
   ]
  },
  {
   "cell_type": "code",
   "execution_count": 126,
   "metadata": {},
   "outputs": [
    {
     "output_type": "execute_result",
     "data": {
      "text/plain": [
       "      fixed_acidity  volatile_acidity  citric_acid  residual_sugar  chlorides  \\\n",
       "3627            8.9              0.21         0.34             7.1      0.037   \n",
       "1932            6.5              0.28         0.34             9.9      0.038   \n",
       "5055            6.0              0.39         0.13             1.2      0.042   \n",
       "2372            6.1              0.27         0.30            16.7      0.039   \n",
       "158             7.1              0.68         0.00             2.2      0.073   \n",
       "\n",
       "      free_sulfur_dioxide  total_sulfur_dioxide  density    pH  sulphates  \\\n",
       "3627                 33.0                 150.0  0.99620  3.10       0.45   \n",
       "1932                 30.0                 133.0  0.99540  3.11       0.44   \n",
       "5055                 60.0                 172.0  0.99114  3.06       0.52   \n",
       "2372                 49.0                 172.0  0.99985  3.40       0.45   \n",
       "158                  12.0                  22.0  0.99690  3.48       0.50   \n",
       "\n",
       "      alcohol  quality  \n",
       "3627      9.7        6  \n",
       "1932      9.8        5  \n",
       "5055     10.6        5  \n",
       "2372      9.4        5  \n",
       "158       9.3        5  "
      ],
      "text/html": "<div>\n<style scoped>\n    .dataframe tbody tr th:only-of-type {\n        vertical-align: middle;\n    }\n\n    .dataframe tbody tr th {\n        vertical-align: top;\n    }\n\n    .dataframe thead th {\n        text-align: right;\n    }\n</style>\n<table border=\"1\" class=\"dataframe\">\n  <thead>\n    <tr style=\"text-align: right;\">\n      <th></th>\n      <th>fixed_acidity</th>\n      <th>volatile_acidity</th>\n      <th>citric_acid</th>\n      <th>residual_sugar</th>\n      <th>chlorides</th>\n      <th>free_sulfur_dioxide</th>\n      <th>total_sulfur_dioxide</th>\n      <th>density</th>\n      <th>pH</th>\n      <th>sulphates</th>\n      <th>alcohol</th>\n      <th>quality</th>\n    </tr>\n  </thead>\n  <tbody>\n    <tr>\n      <th>3627</th>\n      <td>8.9</td>\n      <td>0.21</td>\n      <td>0.34</td>\n      <td>7.1</td>\n      <td>0.037</td>\n      <td>33.0</td>\n      <td>150.0</td>\n      <td>0.99620</td>\n      <td>3.10</td>\n      <td>0.45</td>\n      <td>9.7</td>\n      <td>6</td>\n    </tr>\n    <tr>\n      <th>1932</th>\n      <td>6.5</td>\n      <td>0.28</td>\n      <td>0.34</td>\n      <td>9.9</td>\n      <td>0.038</td>\n      <td>30.0</td>\n      <td>133.0</td>\n      <td>0.99540</td>\n      <td>3.11</td>\n      <td>0.44</td>\n      <td>9.8</td>\n      <td>5</td>\n    </tr>\n    <tr>\n      <th>5055</th>\n      <td>6.0</td>\n      <td>0.39</td>\n      <td>0.13</td>\n      <td>1.2</td>\n      <td>0.042</td>\n      <td>60.0</td>\n      <td>172.0</td>\n      <td>0.99114</td>\n      <td>3.06</td>\n      <td>0.52</td>\n      <td>10.6</td>\n      <td>5</td>\n    </tr>\n    <tr>\n      <th>2372</th>\n      <td>6.1</td>\n      <td>0.27</td>\n      <td>0.30</td>\n      <td>16.7</td>\n      <td>0.039</td>\n      <td>49.0</td>\n      <td>172.0</td>\n      <td>0.99985</td>\n      <td>3.40</td>\n      <td>0.45</td>\n      <td>9.4</td>\n      <td>5</td>\n    </tr>\n    <tr>\n      <th>158</th>\n      <td>7.1</td>\n      <td>0.68</td>\n      <td>0.00</td>\n      <td>2.2</td>\n      <td>0.073</td>\n      <td>12.0</td>\n      <td>22.0</td>\n      <td>0.99690</td>\n      <td>3.48</td>\n      <td>0.50</td>\n      <td>9.3</td>\n      <td>5</td>\n    </tr>\n  </tbody>\n</table>\n</div>"
     },
     "metadata": {},
     "execution_count": 126
    }
   ],
   "source": [
    "X_train.head()"
   ]
  },
  {
   "cell_type": "markdown",
   "metadata": {},
   "source": [
    "## Question 3\n",
    "\n",
    "* Fit a decision tree classifier with no set limits on maximum depth, features, or leaves.\n",
    "* Determine how many nodes are present and what the depth of this (very large) tree is.\n",
    "* Using this tree, measure the prediction error in the train and test data sets. What do you think is going on here based on the differences in prediction error?"
   ]
  },
  {
   "cell_type": "code",
   "execution_count": 127,
   "metadata": {
    "ExecuteTime": {
     "end_time": "2017-05-09T23:59:21.711217Z",
     "start_time": "2017-05-09T23:59:21.651488Z"
    },
    "collapsed": true
   },
   "outputs": [],
   "source": [
    "from sklearn.tree import DecisionTreeClassifier\n",
    "\n",
    "dt = DecisionTreeClassifier(random_state=42)\n",
    "dt = dt.fit(X_train, y_train)"
   ]
  },
  {
   "cell_type": "markdown",
   "metadata": {},
   "source": [
    "The number of nodes and the maximum actual depth."
   ]
  },
  {
   "cell_type": "code",
   "execution_count": 128,
   "metadata": {
    "ExecuteTime": {
     "end_time": "2017-05-09T23:59:21.717346Z",
     "start_time": "2017-05-09T23:59:21.712743Z"
    }
   },
   "outputs": [
    {
     "output_type": "execute_result",
     "data": {
      "text/plain": [
       "(171, 22)"
      ]
     },
     "metadata": {},
     "execution_count": 128
    }
   ],
   "source": [
    "dt.tree_.node_count, dt.tree_.max_depth"
   ]
  },
  {
   "cell_type": "markdown",
   "metadata": {},
   "source": [
    "A function to return error metrics."
   ]
  },
  {
   "cell_type": "code",
   "execution_count": 129,
   "metadata": {
    "ExecuteTime": {
     "end_time": "2017-05-09T23:59:21.730535Z",
     "start_time": "2017-05-09T23:59:21.723077Z"
    },
    "collapsed": true
   },
   "outputs": [],
   "source": [
    "from sklearn.metrics import accuracy_score, precision_score, recall_score, f1_score\n",
    "\n",
    "def measure_error(y_true, y_pred, label):\n",
    "    return pd.Series({'accuracy':accuracy_score(y_true, y_pred),\n",
    "                      'precision': precision_score(y_true, y_pred),\n",
    "                      'recall': recall_score(y_true, y_pred),\n",
    "                      'f1': f1_score(y_true, y_pred)},\n",
    "                      name=label)"
   ]
  },
  {
   "cell_type": "markdown",
   "metadata": {},
   "source": [
    "The decision tree predicts a little better on the training data than the test data, which is consistent with (mild)  overfitting. Also notice the perfect recall score for the training data. In many instances, this prediction difference is even greater than that seen here. "
   ]
  },
  {
   "cell_type": "code",
   "execution_count": 130,
   "metadata": {
    "ExecuteTime": {
     "end_time": "2017-05-09T23:59:21.751859Z",
     "start_time": "2017-05-09T23:59:21.732680Z"
    }
   },
   "outputs": [
    {
     "output_type": "execute_result",
     "data": {
      "text/plain": [
       "              train      test\n",
       "accuracy   0.999818  0.984000\n",
       "precision  0.999261  0.963710\n",
       "recall     1.000000  0.971545\n",
       "f1         0.999631  0.967611"
      ],
      "text/html": "<div>\n<style scoped>\n    .dataframe tbody tr th:only-of-type {\n        vertical-align: middle;\n    }\n\n    .dataframe tbody tr th {\n        vertical-align: top;\n    }\n\n    .dataframe thead th {\n        text-align: right;\n    }\n</style>\n<table border=\"1\" class=\"dataframe\">\n  <thead>\n    <tr style=\"text-align: right;\">\n      <th></th>\n      <th>train</th>\n      <th>test</th>\n    </tr>\n  </thead>\n  <tbody>\n    <tr>\n      <th>accuracy</th>\n      <td>0.999818</td>\n      <td>0.984000</td>\n    </tr>\n    <tr>\n      <th>precision</th>\n      <td>0.999261</td>\n      <td>0.963710</td>\n    </tr>\n    <tr>\n      <th>recall</th>\n      <td>1.000000</td>\n      <td>0.971545</td>\n    </tr>\n    <tr>\n      <th>f1</th>\n      <td>0.999631</td>\n      <td>0.967611</td>\n    </tr>\n  </tbody>\n</table>\n</div>"
     },
     "metadata": {},
     "execution_count": 130
    }
   ],
   "source": [
    "# The error on the training and test data sets\n",
    "y_train_pred = dt.predict(X_train)\n",
    "y_test_pred = dt.predict(X_test)\n",
    "\n",
    "train_test_full_error = pd.concat([measure_error(y_train, y_train_pred, 'train'),\n",
    "                              measure_error(y_test, y_test_pred, 'test')],\n",
    "                              axis=1)\n",
    "\n",
    "train_test_full_error"
   ]
  },
  {
   "cell_type": "markdown",
   "metadata": {},
   "source": [
    "## Question 4\n",
    "\n",
    "* Using grid search with cross validation, find a decision tree that performs well on the test data set. Use a different variable name for this decision tree model than in question 3 so that both can be used in question 6.\n",
    "* Determine the number of nodes and the depth of this tree.\n",
    "* Measure the errors on the training and test sets as before and compare them to those from the tree in question 3."
   ]
  },
  {
   "cell_type": "code",
   "execution_count": 131,
   "metadata": {
    "ExecuteTime": {
     "end_time": "2017-05-09T23:59:24.274020Z",
     "start_time": "2017-05-09T23:59:21.753343Z"
    },
    "collapsed": true
   },
   "outputs": [],
   "source": [
    "from sklearn.model_selection import GridSearchCV\n",
    "\n",
    "param_grid = {'max_depth':range(1, dt.tree_.max_depth+1, 2),\n",
    "              'max_features': range(1, len(dt.feature_importances_)+1)}\n",
    "\n",
    "GR = GridSearchCV(DecisionTreeClassifier(random_state=42),\n",
    "                  param_grid=param_grid,\n",
    "                  scoring='accuracy',\n",
    "                  n_jobs=-1)\n",
    "\n",
    "GR = GR.fit(X_train, y_train)"
   ]
  },
  {
   "cell_type": "markdown",
   "metadata": {},
   "source": [
    "The number of nodes and the maximum depth of the tree."
   ]
  },
  {
   "cell_type": "code",
   "execution_count": 132,
   "metadata": {
    "ExecuteTime": {
     "end_time": "2017-05-09T23:59:24.280804Z",
     "start_time": "2017-05-09T23:59:24.275977Z"
    }
   },
   "outputs": [
    {
     "output_type": "execute_result",
     "data": {
      "text/plain": [
       "(99, 7)"
      ]
     },
     "metadata": {},
     "execution_count": 132
    }
   ],
   "source": [
    "GR.best_estimator_.tree_.node_count, GR.best_estimator_.tree_.max_depth"
   ]
  },
  {
   "cell_type": "markdown",
   "metadata": {},
   "source": [
    "These test errors are a little better than the previous ones. So it would seem the previous example overfit the data, but only slightly so."
   ]
  },
  {
   "cell_type": "code",
   "execution_count": 133,
   "metadata": {
    "ExecuteTime": {
     "end_time": "2017-05-09T23:59:24.295309Z",
     "start_time": "2017-05-09T23:59:24.282493Z"
    },
    "collapsed": true
   },
   "outputs": [],
   "source": [
    "y_train_pred_gr = GR.predict(X_train)\n",
    "y_test_pred_gr = GR.predict(X_test)\n",
    "\n",
    "train_test_gr_error = pd.concat([measure_error(y_train, y_train_pred_gr, 'train'),\n",
    "                                 measure_error(y_test, y_test_pred_gr, 'test')],\n",
    "                                axis=1)"
   ]
  },
  {
   "cell_type": "code",
   "execution_count": 134,
   "metadata": {
    "ExecuteTime": {
     "end_time": "2017-05-09T23:59:24.303642Z",
     "start_time": "2017-05-09T23:59:24.296649Z"
    }
   },
   "outputs": [
    {
     "output_type": "execute_result",
     "data": {
      "text/plain": [
       "              train      test\n",
       "accuracy   0.995816  0.989000\n",
       "precision  0.998501  0.983539\n",
       "recall     0.984479  0.971545\n",
       "f1         0.991440  0.977505"
      ],
      "text/html": "<div>\n<style scoped>\n    .dataframe tbody tr th:only-of-type {\n        vertical-align: middle;\n    }\n\n    .dataframe tbody tr th {\n        vertical-align: top;\n    }\n\n    .dataframe thead th {\n        text-align: right;\n    }\n</style>\n<table border=\"1\" class=\"dataframe\">\n  <thead>\n    <tr style=\"text-align: right;\">\n      <th></th>\n      <th>train</th>\n      <th>test</th>\n    </tr>\n  </thead>\n  <tbody>\n    <tr>\n      <th>accuracy</th>\n      <td>0.995816</td>\n      <td>0.989000</td>\n    </tr>\n    <tr>\n      <th>precision</th>\n      <td>0.998501</td>\n      <td>0.983539</td>\n    </tr>\n    <tr>\n      <th>recall</th>\n      <td>0.984479</td>\n      <td>0.971545</td>\n    </tr>\n    <tr>\n      <th>f1</th>\n      <td>0.991440</td>\n      <td>0.977505</td>\n    </tr>\n  </tbody>\n</table>\n</div>"
     },
     "metadata": {},
     "execution_count": 134
    }
   ],
   "source": [
    "train_test_gr_error"
   ]
  },
  {
   "cell_type": "markdown",
   "metadata": {},
   "source": [
    "## Question 5\n",
    "\n",
    "* Re-split the data into `X` and `y` parts, this time with `residual_sugar` being the predicted (`y`) data. *Note:* if the indices were preserved from the `StratifiedShuffleSplit` output in question 2, they can be used again to split the data.\n",
    "* Using grid search with cross validation, find a decision tree **regression** model that performs well on the test data set.\n",
    "* Measure the errors on the training and test sets using mean squared error.\n",
    "* Make a plot of actual *vs* predicted residual sugar."
   ]
  },
  {
   "cell_type": "code",
   "execution_count": 135,
   "metadata": {
    "ExecuteTime": {
     "end_time": "2017-05-09T23:59:24.317443Z",
     "start_time": "2017-05-09T23:59:24.305043Z"
    },
    "collapsed": true
   },
   "outputs": [],
   "source": [
    "feature_cols = [x for x in data.columns if x != 'residual_sugar']\n",
    "\n",
    "# Create the data sets\n",
    "X_train = data.loc[train_idx, feature_cols]\n",
    "y_train = data.loc[train_idx, 'residual_sugar']\n",
    "\n",
    "X_test = data.loc[test_idx, feature_cols]\n",
    "y_test = data.loc[test_idx, 'residual_sugar']"
   ]
  },
  {
   "cell_type": "code",
   "execution_count": 136,
   "metadata": {
    "ExecuteTime": {
     "end_time": "2017-05-09T23:59:28.931614Z",
     "start_time": "2017-05-09T23:59:24.318919Z"
    },
    "collapsed": true
   },
   "outputs": [],
   "source": [
    "from sklearn.tree import DecisionTreeRegressor\n",
    "\n",
    "dr = DecisionTreeRegressor().fit(X_train, y_train)\n",
    "\n",
    "param_grid = {'max_depth':range(1, dr.tree_.max_depth+1, 2),\n",
    "              'max_features': range(1, len(dr.feature_importances_)+1)}\n",
    "\n",
    "GR_sugar = GridSearchCV(DecisionTreeRegressor(random_state=42),\n",
    "                     param_grid=param_grid,\n",
    "                     scoring='neg_mean_squared_error',\n",
    "                      n_jobs=-1)\n",
    "\n",
    "GR_sugar = GR_sugar.fit(X_train, y_train)"
   ]
  },
  {
   "cell_type": "markdown",
   "metadata": {},
   "source": [
    "The number of nodes and the maximum depth of the tree. This tree has lots of nodes, which is not so surprising given the continuous data."
   ]
  },
  {
   "cell_type": "code",
   "execution_count": 137,
   "metadata": {
    "ExecuteTime": {
     "end_time": "2017-05-09T23:59:28.941182Z",
     "start_time": "2017-05-09T23:59:28.933876Z"
    }
   },
   "outputs": [
    {
     "output_type": "execute_result",
     "data": {
      "text/plain": [
       "(2891, 13)"
      ]
     },
     "metadata": {},
     "execution_count": 137
    }
   ],
   "source": [
    "GR_sugar.best_estimator_.tree_.node_count, GR_sugar.best_estimator_.tree_.max_depth"
   ]
  },
  {
   "cell_type": "markdown",
   "metadata": {},
   "source": [
    "The error on train and test data sets. Since this is continuous, we will use mean squared error."
   ]
  },
  {
   "cell_type": "code",
   "execution_count": 138,
   "metadata": {
    "ExecuteTime": {
     "end_time": "2017-05-09T23:59:28.962134Z",
     "start_time": "2017-05-09T23:59:28.943461Z"
    }
   },
   "outputs": [
    {
     "output_type": "execute_result",
     "data": {
      "text/plain": [
       "        train      test\n",
       "MSE  0.401886  3.204129"
      ],
      "text/html": "<div>\n<style scoped>\n    .dataframe tbody tr th:only-of-type {\n        vertical-align: middle;\n    }\n\n    .dataframe tbody tr th {\n        vertical-align: top;\n    }\n\n    .dataframe thead th {\n        text-align: right;\n    }\n</style>\n<table border=\"1\" class=\"dataframe\">\n  <thead>\n    <tr style=\"text-align: right;\">\n      <th></th>\n      <th>train</th>\n      <th>test</th>\n    </tr>\n  </thead>\n  <tbody>\n    <tr>\n      <th>MSE</th>\n      <td>0.401886</td>\n      <td>3.204129</td>\n    </tr>\n  </tbody>\n</table>\n</div>"
     },
     "metadata": {},
     "execution_count": 138
    }
   ],
   "source": [
    "from sklearn.metrics import mean_squared_error\n",
    "\n",
    "y_train_pred_gr_sugar = GR_sugar.predict(X_train)\n",
    "y_test_pred_gr_sugar  = GR_sugar.predict(X_test)\n",
    "\n",
    "train_test_gr_sugar_error = pd.Series({'train': mean_squared_error(y_train, y_train_pred_gr_sugar),\n",
    "                                         'test':  mean_squared_error(y_test, y_test_pred_gr_sugar)},\n",
    "                                          name='MSE').to_frame().T\n",
    "\n",
    "train_test_gr_sugar_error"
   ]
  },
  {
   "cell_type": "markdown",
   "metadata": {},
   "source": [
    "A plot of actual vs predicted residual sugar."
   ]
  },
  {
   "cell_type": "code",
   "execution_count": 139,
   "metadata": {
    "ExecuteTime": {
     "end_time": "2017-05-09T23:59:29.172915Z",
     "start_time": "2017-05-09T23:59:28.964448Z"
    },
    "collapsed": true
   },
   "outputs": [
    {
     "output_type": "stream",
     "name": "stderr",
     "text": [
      "UsageError: Line magic function `%` not found.\n"
     ]
    }
   ],
   "source": [
    "import matplotlib.pyplot as plt\n",
    "import seaborn as sns\n",
    "\n",
    "sns.set_context('notebook')\n",
    "sns.set_style('white')\n",
    "sns.set_palette('dark')\n",
    "\n",
    "% matplotlib inline"
   ]
  },
  {
   "cell_type": "code",
   "execution_count": 140,
   "metadata": {
    "ExecuteTime": {
     "end_time": "2017-05-09T23:59:29.415847Z",
     "start_time": "2017-05-09T23:59:29.174948Z"
    }
   },
   "outputs": [
    {
     "output_type": "display_data",
     "data": {
      "text/plain": "<Figure size 432x432 with 1 Axes>",
      "image/svg+xml": "<?xml version=\"1.0\" encoding=\"utf-8\" standalone=\"no\"?>\r\n<!DOCTYPE svg PUBLIC \"-//W3C//DTD SVG 1.1//EN\"\r\n  \"http://www.w3.org/Graphics/SVG/1.1/DTD/svg11.dtd\">\r\n<!-- Created with matplotlib (https://matplotlib.org/) -->\r\n<svg height=\"379.031016pt\" version=\"1.1\" viewBox=\"0 0 392.025469 379.031016\" width=\"392.025469pt\" xmlns=\"http://www.w3.org/2000/svg\" xmlns:xlink=\"http://www.w3.org/1999/xlink\">\r\n <metadata>\r\n  <rdf:RDF xmlns:cc=\"http://creativecommons.org/ns#\" xmlns:dc=\"http://purl.org/dc/elements/1.1/\" xmlns:rdf=\"http://www.w3.org/1999/02/22-rdf-syntax-ns#\">\r\n   <cc:Work>\r\n    <dc:type rdf:resource=\"http://purl.org/dc/dcmitype/StillImage\"/>\r\n    <dc:date>2021-01-05T12:15:20.436150</dc:date>\r\n    <dc:format>image/svg+xml</dc:format>\r\n    <dc:creator>\r\n     <cc:Agent>\r\n      <dc:title>Matplotlib v3.3.2, https://matplotlib.org/</dc:title>\r\n     </cc:Agent>\r\n    </dc:creator>\r\n   </cc:Work>\r\n  </rdf:RDF>\r\n </metadata>\r\n <defs>\r\n  <style type=\"text/css\">*{stroke-linecap:butt;stroke-linejoin:round;}</style>\r\n </defs>\r\n <g id=\"figure_1\">\r\n  <g id=\"patch_1\">\r\n   <path d=\"M 0 379.031016 \r\nL 392.025469 379.031016 \r\nL 392.025469 0 \r\nL 0 0 \r\nz\r\n\" style=\"fill:#ffffff;\"/>\r\n  </g>\r\n  <g id=\"axes_1\">\r\n   <g id=\"patch_2\">\r\n    <path d=\"M 43.908438 337.296797 \r\nL 378.708438 337.296797 \r\nL 378.708438 11.136797 \r\nL 43.908438 11.136797 \r\nz\r\n\" style=\"fill:#ffffff;\"/>\r\n   </g>\r\n   <g id=\"matplotlib.axis_1\">\r\n    <g id=\"xtick_1\">\r\n     <g id=\"text_1\">\r\n      <!-- 0 -->\r\n      <g style=\"fill:#262626;\" transform=\"translate(40.849922 354.670391)scale(0.11 -0.11)\">\r\n       <defs>\r\n        <path d=\"M 4.15625 35.296875 \r\nQ 4.15625 48 6.765625 55.734375 \r\nQ 9.375 63.484375 14.515625 67.671875 \r\nQ 19.671875 71.875 27.484375 71.875 \r\nQ 33.25 71.875 37.59375 69.546875 \r\nQ 41.9375 67.234375 44.765625 62.859375 \r\nQ 47.609375 58.5 49.21875 52.21875 \r\nQ 50.828125 45.953125 50.828125 35.296875 \r\nQ 50.828125 22.703125 48.234375 14.96875 \r\nQ 45.65625 7.234375 40.5 3 \r\nQ 35.359375 -1.21875 27.484375 -1.21875 \r\nQ 17.140625 -1.21875 11.234375 6.203125 \r\nQ 4.15625 15.140625 4.15625 35.296875 \r\nz\r\nM 13.1875 35.296875 \r\nQ 13.1875 17.671875 17.3125 11.828125 \r\nQ 21.4375 6 27.484375 6 \r\nQ 33.546875 6 37.671875 11.859375 \r\nQ 41.796875 17.71875 41.796875 35.296875 \r\nQ 41.796875 52.984375 37.671875 58.78125 \r\nQ 33.546875 64.59375 27.390625 64.59375 \r\nQ 21.34375 64.59375 17.71875 59.46875 \r\nQ 13.1875 52.9375 13.1875 35.296875 \r\nz\r\n\" id=\"ArialMT-48\"/>\r\n       </defs>\r\n       <use xlink:href=\"#ArialMT-48\"/>\r\n      </g>\r\n     </g>\r\n    </g>\r\n    <g id=\"xtick_2\">\r\n     <g id=\"text_2\">\r\n      <!-- 5 -->\r\n      <g style=\"fill:#262626;\" transform=\"translate(88.678493 354.670391)scale(0.11 -0.11)\">\r\n       <defs>\r\n        <path d=\"M 4.15625 18.75 \r\nL 13.375 19.53125 \r\nQ 14.40625 12.796875 18.140625 9.390625 \r\nQ 21.875 6 27.15625 6 \r\nQ 33.5 6 37.890625 10.78125 \r\nQ 42.28125 15.578125 42.28125 23.484375 \r\nQ 42.28125 31 38.0625 35.34375 \r\nQ 33.84375 39.703125 27 39.703125 \r\nQ 22.75 39.703125 19.328125 37.765625 \r\nQ 15.921875 35.84375 13.96875 32.765625 \r\nL 5.71875 33.84375 \r\nL 12.640625 70.609375 \r\nL 48.25 70.609375 \r\nL 48.25 62.203125 \r\nL 19.671875 62.203125 \r\nL 15.828125 42.96875 \r\nQ 22.265625 47.46875 29.34375 47.46875 \r\nQ 38.71875 47.46875 45.15625 40.96875 \r\nQ 51.609375 34.46875 51.609375 24.265625 \r\nQ 51.609375 14.546875 45.953125 7.46875 \r\nQ 39.0625 -1.21875 27.15625 -1.21875 \r\nQ 17.390625 -1.21875 11.203125 4.25 \r\nQ 5.03125 9.71875 4.15625 18.75 \r\nz\r\n\" id=\"ArialMT-53\"/>\r\n       </defs>\r\n       <use xlink:href=\"#ArialMT-53\"/>\r\n      </g>\r\n     </g>\r\n    </g>\r\n    <g id=\"xtick_3\">\r\n     <g id=\"text_3\">\r\n      <!-- 10 -->\r\n      <g style=\"fill:#262626;\" transform=\"translate(133.448549 354.670391)scale(0.11 -0.11)\">\r\n       <defs>\r\n        <path d=\"M 37.25 0 \r\nL 28.46875 0 \r\nL 28.46875 56 \r\nQ 25.296875 52.984375 20.140625 49.953125 \r\nQ 14.984375 46.921875 10.890625 45.40625 \r\nL 10.890625 53.90625 \r\nQ 18.265625 57.375 23.78125 62.296875 \r\nQ 29.296875 67.234375 31.59375 71.875 \r\nL 37.25 71.875 \r\nz\r\n\" id=\"ArialMT-49\"/>\r\n       </defs>\r\n       <use xlink:href=\"#ArialMT-49\"/>\r\n       <use x=\"55.615234\" xlink:href=\"#ArialMT-48\"/>\r\n      </g>\r\n     </g>\r\n    </g>\r\n    <g id=\"xtick_4\">\r\n     <g id=\"text_4\">\r\n      <!-- 15 -->\r\n      <g style=\"fill:#262626;\" transform=\"translate(181.277121 354.670391)scale(0.11 -0.11)\">\r\n       <use xlink:href=\"#ArialMT-49\"/>\r\n       <use x=\"55.615234\" xlink:href=\"#ArialMT-53\"/>\r\n      </g>\r\n     </g>\r\n    </g>\r\n    <g id=\"xtick_5\">\r\n     <g id=\"text_5\">\r\n      <!-- 20 -->\r\n      <g style=\"fill:#262626;\" transform=\"translate(229.105692 354.670391)scale(0.11 -0.11)\">\r\n       <defs>\r\n        <path d=\"M 50.34375 8.453125 \r\nL 50.34375 0 \r\nL 3.03125 0 \r\nQ 2.9375 3.171875 4.046875 6.109375 \r\nQ 5.859375 10.9375 9.828125 15.625 \r\nQ 13.8125 20.3125 21.34375 26.46875 \r\nQ 33.015625 36.03125 37.109375 41.625 \r\nQ 41.21875 47.21875 41.21875 52.203125 \r\nQ 41.21875 57.421875 37.46875 61 \r\nQ 33.734375 64.59375 27.734375 64.59375 \r\nQ 21.390625 64.59375 17.578125 60.78125 \r\nQ 13.765625 56.984375 13.71875 50.25 \r\nL 4.6875 51.171875 \r\nQ 5.609375 61.28125 11.65625 66.578125 \r\nQ 17.71875 71.875 27.9375 71.875 \r\nQ 38.234375 71.875 44.234375 66.15625 \r\nQ 50.25 60.453125 50.25 52 \r\nQ 50.25 47.703125 48.484375 43.546875 \r\nQ 46.734375 39.40625 42.65625 34.8125 \r\nQ 38.578125 30.21875 29.109375 22.21875 \r\nQ 21.1875 15.578125 18.9375 13.203125 \r\nQ 16.703125 10.84375 15.234375 8.453125 \r\nz\r\n\" id=\"ArialMT-50\"/>\r\n       </defs>\r\n       <use xlink:href=\"#ArialMT-50\"/>\r\n       <use x=\"55.615234\" xlink:href=\"#ArialMT-48\"/>\r\n      </g>\r\n     </g>\r\n    </g>\r\n    <g id=\"xtick_6\">\r\n     <g id=\"text_6\">\r\n      <!-- 25 -->\r\n      <g style=\"fill:#262626;\" transform=\"translate(276.934263 354.670391)scale(0.11 -0.11)\">\r\n       <use xlink:href=\"#ArialMT-50\"/>\r\n       <use x=\"55.615234\" xlink:href=\"#ArialMT-53\"/>\r\n      </g>\r\n     </g>\r\n    </g>\r\n    <g id=\"xtick_7\">\r\n     <g id=\"text_7\">\r\n      <!-- 30 -->\r\n      <g style=\"fill:#262626;\" transform=\"translate(324.762835 354.670391)scale(0.11 -0.11)\">\r\n       <defs>\r\n        <path d=\"M 4.203125 18.890625 \r\nL 12.984375 20.0625 \r\nQ 14.5 12.59375 18.140625 9.296875 \r\nQ 21.78125 6 27 6 \r\nQ 33.203125 6 37.46875 10.296875 \r\nQ 41.75 14.59375 41.75 20.953125 \r\nQ 41.75 27 37.796875 30.921875 \r\nQ 33.84375 34.859375 27.734375 34.859375 \r\nQ 25.25 34.859375 21.53125 33.890625 \r\nL 22.515625 41.609375 \r\nQ 23.390625 41.5 23.921875 41.5 \r\nQ 29.546875 41.5 34.03125 44.421875 \r\nQ 38.53125 47.359375 38.53125 53.46875 \r\nQ 38.53125 58.296875 35.25 61.46875 \r\nQ 31.984375 64.65625 26.8125 64.65625 \r\nQ 21.6875 64.65625 18.265625 61.421875 \r\nQ 14.84375 58.203125 13.875 51.765625 \r\nL 5.078125 53.328125 \r\nQ 6.6875 62.15625 12.390625 67.015625 \r\nQ 18.109375 71.875 26.609375 71.875 \r\nQ 32.46875 71.875 37.390625 69.359375 \r\nQ 42.328125 66.84375 44.9375 62.5 \r\nQ 47.5625 58.15625 47.5625 53.265625 \r\nQ 47.5625 48.640625 45.0625 44.828125 \r\nQ 42.578125 41.015625 37.703125 38.765625 \r\nQ 44.046875 37.3125 47.5625 32.6875 \r\nQ 51.078125 28.078125 51.078125 21.140625 \r\nQ 51.078125 11.765625 44.234375 5.25 \r\nQ 37.40625 -1.265625 26.953125 -1.265625 \r\nQ 17.53125 -1.265625 11.296875 4.34375 \r\nQ 5.078125 9.96875 4.203125 18.890625 \r\nz\r\n\" id=\"ArialMT-51\"/>\r\n       </defs>\r\n       <use xlink:href=\"#ArialMT-51\"/>\r\n       <use x=\"55.615234\" xlink:href=\"#ArialMT-48\"/>\r\n      </g>\r\n     </g>\r\n    </g>\r\n    <g id=\"xtick_8\">\r\n     <g id=\"text_8\">\r\n      <!-- 35 -->\r\n      <g style=\"fill:#262626;\" transform=\"translate(372.591406 354.670391)scale(0.11 -0.11)\">\r\n       <use xlink:href=\"#ArialMT-51\"/>\r\n       <use x=\"55.615234\" xlink:href=\"#ArialMT-53\"/>\r\n      </g>\r\n     </g>\r\n    </g>\r\n    <g id=\"text_9\">\r\n     <!-- Test -->\r\n     <g style=\"fill:#262626;\" transform=\"translate(200.307813 369.446016)scale(0.12 -0.12)\">\r\n      <defs>\r\n       <path d=\"M 25.921875 0 \r\nL 25.921875 63.140625 \r\nL 2.34375 63.140625 \r\nL 2.34375 71.578125 \r\nL 59.078125 71.578125 \r\nL 59.078125 63.140625 \r\nL 35.40625 63.140625 \r\nL 35.40625 0 \r\nz\r\n\" id=\"ArialMT-84\"/>\r\n       <path d=\"M 42.09375 16.703125 \r\nL 51.171875 15.578125 \r\nQ 49.03125 7.625 43.21875 3.21875 \r\nQ 37.40625 -1.171875 28.375 -1.171875 \r\nQ 17 -1.171875 10.328125 5.828125 \r\nQ 3.65625 12.84375 3.65625 25.484375 \r\nQ 3.65625 38.578125 10.390625 45.796875 \r\nQ 17.140625 53.03125 27.875 53.03125 \r\nQ 38.28125 53.03125 44.875 45.953125 \r\nQ 51.46875 38.875 51.46875 26.03125 \r\nQ 51.46875 25.25 51.421875 23.6875 \r\nL 12.75 23.6875 \r\nQ 13.234375 15.140625 17.578125 10.59375 \r\nQ 21.921875 6.0625 28.421875 6.0625 \r\nQ 33.25 6.0625 36.671875 8.59375 \r\nQ 40.09375 11.140625 42.09375 16.703125 \r\nz\r\nM 13.234375 30.90625 \r\nL 42.1875 30.90625 \r\nQ 41.609375 37.453125 38.875 40.71875 \r\nQ 34.671875 45.796875 27.984375 45.796875 \r\nQ 21.921875 45.796875 17.796875 41.75 \r\nQ 13.671875 37.703125 13.234375 30.90625 \r\nz\r\n\" id=\"ArialMT-101\"/>\r\n       <path d=\"M 3.078125 15.484375 \r\nL 11.765625 16.84375 \r\nQ 12.5 11.625 15.84375 8.84375 \r\nQ 19.1875 6.0625 25.203125 6.0625 \r\nQ 31.25 6.0625 34.171875 8.515625 \r\nQ 37.109375 10.984375 37.109375 14.3125 \r\nQ 37.109375 17.28125 34.515625 19 \r\nQ 32.71875 20.171875 25.53125 21.96875 \r\nQ 15.875 24.421875 12.140625 26.203125 \r\nQ 8.40625 27.984375 6.46875 31.125 \r\nQ 4.546875 34.28125 4.546875 38.09375 \r\nQ 4.546875 41.546875 6.125 44.5 \r\nQ 7.71875 47.46875 10.453125 49.421875 \r\nQ 12.5 50.921875 16.03125 51.96875 \r\nQ 19.578125 53.03125 23.640625 53.03125 \r\nQ 29.734375 53.03125 34.34375 51.265625 \r\nQ 38.96875 49.515625 41.15625 46.5 \r\nQ 43.359375 43.5 44.1875 38.484375 \r\nL 35.59375 37.3125 \r\nQ 35.015625 41.3125 32.203125 43.546875 \r\nQ 29.390625 45.796875 24.265625 45.796875 \r\nQ 18.21875 45.796875 15.625 43.796875 \r\nQ 13.03125 41.796875 13.03125 39.109375 \r\nQ 13.03125 37.40625 14.109375 36.03125 \r\nQ 15.1875 34.625 17.484375 33.6875 \r\nQ 18.796875 33.203125 25.25 31.453125 \r\nQ 34.578125 28.953125 38.25 27.359375 \r\nQ 41.9375 25.78125 44.03125 22.75 \r\nQ 46.140625 19.734375 46.140625 15.234375 \r\nQ 46.140625 10.84375 43.578125 6.953125 \r\nQ 41.015625 3.078125 36.171875 0.953125 \r\nQ 31.34375 -1.171875 25.25 -1.171875 \r\nQ 15.140625 -1.171875 9.84375 3.03125 \r\nQ 4.546875 7.234375 3.078125 15.484375 \r\nz\r\n\" id=\"ArialMT-115\"/>\r\n       <path d=\"M 25.78125 7.859375 \r\nL 27.046875 0.09375 \r\nQ 23.34375 -0.6875 20.40625 -0.6875 \r\nQ 15.625 -0.6875 12.984375 0.828125 \r\nQ 10.359375 2.34375 9.28125 4.8125 \r\nQ 8.203125 7.28125 8.203125 15.1875 \r\nL 8.203125 45.015625 \r\nL 1.765625 45.015625 \r\nL 1.765625 51.859375 \r\nL 8.203125 51.859375 \r\nL 8.203125 64.703125 \r\nL 16.9375 69.96875 \r\nL 16.9375 51.859375 \r\nL 25.78125 51.859375 \r\nL 25.78125 45.015625 \r\nL 16.9375 45.015625 \r\nL 16.9375 14.703125 \r\nQ 16.9375 10.9375 17.40625 9.859375 \r\nQ 17.875 8.796875 18.921875 8.15625 \r\nQ 19.96875 7.515625 21.921875 7.515625 \r\nQ 23.390625 7.515625 25.78125 7.859375 \r\nz\r\n\" id=\"ArialMT-116\"/>\r\n      </defs>\r\n      <use xlink:href=\"#ArialMT-84\"/>\r\n      <use x=\"49.958984\" xlink:href=\"#ArialMT-101\"/>\r\n      <use x=\"105.574219\" xlink:href=\"#ArialMT-115\"/>\r\n      <use x=\"155.574219\" xlink:href=\"#ArialMT-116\"/>\r\n     </g>\r\n    </g>\r\n   </g>\r\n   <g id=\"matplotlib.axis_2\">\r\n    <g id=\"ytick_1\">\r\n     <g id=\"text_10\">\r\n      <!-- 0 -->\r\n      <g style=\"fill:#262626;\" transform=\"translate(28.291406 341.233594)scale(0.11 -0.11)\">\r\n       <use xlink:href=\"#ArialMT-48\"/>\r\n      </g>\r\n     </g>\r\n    </g>\r\n    <g id=\"ytick_2\">\r\n     <g id=\"text_11\">\r\n      <!-- 5 -->\r\n      <g style=\"fill:#262626;\" transform=\"translate(28.291406 294.639308)scale(0.11 -0.11)\">\r\n       <use xlink:href=\"#ArialMT-53\"/>\r\n      </g>\r\n     </g>\r\n    </g>\r\n    <g id=\"ytick_3\">\r\n     <g id=\"text_12\">\r\n      <!-- 10 -->\r\n      <g style=\"fill:#262626;\" transform=\"translate(22.174375 248.045022)scale(0.11 -0.11)\">\r\n       <use xlink:href=\"#ArialMT-49\"/>\r\n       <use x=\"55.615234\" xlink:href=\"#ArialMT-48\"/>\r\n      </g>\r\n     </g>\r\n    </g>\r\n    <g id=\"ytick_4\">\r\n     <g id=\"text_13\">\r\n      <!-- 15 -->\r\n      <g style=\"fill:#262626;\" transform=\"translate(22.174375 201.450737)scale(0.11 -0.11)\">\r\n       <use xlink:href=\"#ArialMT-49\"/>\r\n       <use x=\"55.615234\" xlink:href=\"#ArialMT-53\"/>\r\n      </g>\r\n     </g>\r\n    </g>\r\n    <g id=\"ytick_5\">\r\n     <g id=\"text_14\">\r\n      <!-- 20 -->\r\n      <g style=\"fill:#262626;\" transform=\"translate(22.174375 154.856451)scale(0.11 -0.11)\">\r\n       <use xlink:href=\"#ArialMT-50\"/>\r\n       <use x=\"55.615234\" xlink:href=\"#ArialMT-48\"/>\r\n      </g>\r\n     </g>\r\n    </g>\r\n    <g id=\"ytick_6\">\r\n     <g id=\"text_15\">\r\n      <!-- 25 -->\r\n      <g style=\"fill:#262626;\" transform=\"translate(22.174375 108.262165)scale(0.11 -0.11)\">\r\n       <use xlink:href=\"#ArialMT-50\"/>\r\n       <use x=\"55.615234\" xlink:href=\"#ArialMT-53\"/>\r\n      </g>\r\n     </g>\r\n    </g>\r\n    <g id=\"ytick_7\">\r\n     <g id=\"text_16\">\r\n      <!-- 30 -->\r\n      <g style=\"fill:#262626;\" transform=\"translate(22.174375 61.667879)scale(0.11 -0.11)\">\r\n       <use xlink:href=\"#ArialMT-51\"/>\r\n       <use x=\"55.615234\" xlink:href=\"#ArialMT-48\"/>\r\n      </g>\r\n     </g>\r\n    </g>\r\n    <g id=\"ytick_8\">\r\n     <g id=\"text_17\">\r\n      <!-- 35 -->\r\n      <g style=\"fill:#262626;\" transform=\"translate(22.174375 15.073594)scale(0.11 -0.11)\">\r\n       <use xlink:href=\"#ArialMT-51\"/>\r\n       <use x=\"55.615234\" xlink:href=\"#ArialMT-53\"/>\r\n      </g>\r\n     </g>\r\n    </g>\r\n    <g id=\"text_18\">\r\n     <!-- Predict -->\r\n     <g style=\"fill:#262626;\" transform=\"translate(15.789375 192.889922)rotate(-90)scale(0.12 -0.12)\">\r\n      <defs>\r\n       <path d=\"M 7.71875 0 \r\nL 7.71875 71.578125 \r\nL 34.71875 71.578125 \r\nQ 41.84375 71.578125 45.609375 70.90625 \r\nQ 50.875 70.015625 54.4375 67.546875 \r\nQ 58.015625 65.09375 60.1875 60.640625 \r\nQ 62.359375 56.203125 62.359375 50.875 \r\nQ 62.359375 41.75 56.546875 35.421875 \r\nQ 50.734375 29.109375 35.546875 29.109375 \r\nL 17.1875 29.109375 \r\nL 17.1875 0 \r\nz\r\nM 17.1875 37.546875 \r\nL 35.6875 37.546875 \r\nQ 44.875 37.546875 48.734375 40.96875 \r\nQ 52.59375 44.390625 52.59375 50.59375 \r\nQ 52.59375 55.078125 50.3125 58.265625 \r\nQ 48.046875 61.46875 44.34375 62.5 \r\nQ 41.9375 63.140625 35.5 63.140625 \r\nL 17.1875 63.140625 \r\nz\r\n\" id=\"ArialMT-80\"/>\r\n       <path d=\"M 6.5 0 \r\nL 6.5 51.859375 \r\nL 14.40625 51.859375 \r\nL 14.40625 44 \r\nQ 17.4375 49.515625 20 51.265625 \r\nQ 22.5625 53.03125 25.640625 53.03125 \r\nQ 30.078125 53.03125 34.671875 50.203125 \r\nL 31.640625 42.046875 \r\nQ 28.421875 43.953125 25.203125 43.953125 \r\nQ 22.3125 43.953125 20.015625 42.21875 \r\nQ 17.71875 40.484375 16.75 37.40625 \r\nQ 15.28125 32.71875 15.28125 27.15625 \r\nL 15.28125 0 \r\nz\r\n\" id=\"ArialMT-114\"/>\r\n       <path d=\"M 40.234375 0 \r\nL 40.234375 6.546875 \r\nQ 35.296875 -1.171875 25.734375 -1.171875 \r\nQ 19.53125 -1.171875 14.328125 2.25 \r\nQ 9.125 5.671875 6.265625 11.796875 \r\nQ 3.421875 17.921875 3.421875 25.875 \r\nQ 3.421875 33.640625 6 39.96875 \r\nQ 8.59375 46.296875 13.765625 49.65625 \r\nQ 18.953125 53.03125 25.34375 53.03125 \r\nQ 30.03125 53.03125 33.6875 51.046875 \r\nQ 37.359375 49.078125 39.65625 45.90625 \r\nL 39.65625 71.578125 \r\nL 48.390625 71.578125 \r\nL 48.390625 0 \r\nz\r\nM 12.453125 25.875 \r\nQ 12.453125 15.921875 16.640625 10.984375 \r\nQ 20.84375 6.0625 26.5625 6.0625 \r\nQ 32.328125 6.0625 36.34375 10.765625 \r\nQ 40.375 15.484375 40.375 25.140625 \r\nQ 40.375 35.796875 36.265625 40.765625 \r\nQ 32.171875 45.75 26.171875 45.75 \r\nQ 20.3125 45.75 16.375 40.96875 \r\nQ 12.453125 36.1875 12.453125 25.875 \r\nz\r\n\" id=\"ArialMT-100\"/>\r\n       <path d=\"M 6.640625 61.46875 \r\nL 6.640625 71.578125 \r\nL 15.4375 71.578125 \r\nL 15.4375 61.46875 \r\nz\r\nM 6.640625 0 \r\nL 6.640625 51.859375 \r\nL 15.4375 51.859375 \r\nL 15.4375 0 \r\nz\r\n\" id=\"ArialMT-105\"/>\r\n       <path d=\"M 40.4375 19 \r\nL 49.078125 17.875 \r\nQ 47.65625 8.9375 41.8125 3.875 \r\nQ 35.984375 -1.171875 27.484375 -1.171875 \r\nQ 16.84375 -1.171875 10.375 5.78125 \r\nQ 3.90625 12.75 3.90625 25.734375 \r\nQ 3.90625 34.125 6.6875 40.421875 \r\nQ 9.46875 46.734375 15.15625 49.875 \r\nQ 20.84375 53.03125 27.546875 53.03125 \r\nQ 35.984375 53.03125 41.359375 48.75 \r\nQ 46.734375 44.484375 48.25 36.625 \r\nL 39.703125 35.296875 \r\nQ 38.484375 40.53125 35.375 43.15625 \r\nQ 32.28125 45.796875 27.875 45.796875 \r\nQ 21.234375 45.796875 17.078125 41.03125 \r\nQ 12.9375 36.28125 12.9375 25.984375 \r\nQ 12.9375 15.53125 16.9375 10.796875 \r\nQ 20.953125 6.0625 27.390625 6.0625 \r\nQ 32.5625 6.0625 36.03125 9.234375 \r\nQ 39.5 12.40625 40.4375 19 \r\nz\r\n\" id=\"ArialMT-99\"/>\r\n      </defs>\r\n      <use xlink:href=\"#ArialMT-80\"/>\r\n      <use x=\"66.699219\" xlink:href=\"#ArialMT-114\"/>\r\n      <use x=\"100\" xlink:href=\"#ArialMT-101\"/>\r\n      <use x=\"155.615234\" xlink:href=\"#ArialMT-100\"/>\r\n      <use x=\"211.230469\" xlink:href=\"#ArialMT-105\"/>\r\n      <use x=\"233.447266\" xlink:href=\"#ArialMT-99\"/>\r\n      <use x=\"283.447266\" xlink:href=\"#ArialMT-116\"/>\r\n     </g>\r\n    </g>\r\n   </g>\r\n   <g id=\"line2d_1\">\r\n    <defs>\r\n     <path d=\"M 0 3 \r\nC 0.795609 3 1.55874 2.683901 2.12132 2.12132 \r\nC 2.683901 1.55874 3 0.795609 3 0 \r\nC 3 -0.795609 2.683901 -1.55874 2.12132 -2.12132 \r\nC 1.55874 -2.683901 0.795609 -3 0 -3 \r\nC -0.795609 -3 -1.55874 -2.683901 -2.12132 -2.12132 \r\nC -2.683901 -1.55874 -3 -0.795609 -3 0 \r\nC -3 0.795609 -2.683901 1.55874 -2.12132 2.12132 \r\nC -1.55874 2.683901 -0.795609 3 0 3 \r\nz\r\n\" id=\"m6a01eba466\" style=\"stroke:#001c7f;\"/>\r\n    </defs>\r\n    <g clip-path=\"url(#p3e015b566c)\">\r\n     <use style=\"fill:#001c7f;stroke:#001c7f;\" x=\"49.647866\" xlink:href=\"#m6a01eba466\" y=\"331.705483\"/>\r\n     <use style=\"fill:#001c7f;stroke:#001c7f;\" x=\"50.604438\" xlink:href=\"#m6a01eba466\" y=\"328.443883\"/>\r\n     <use style=\"fill:#001c7f;stroke:#001c7f;\" x=\"51.561009\" xlink:href=\"#m6a01eba466\" y=\"324.250397\"/>\r\n     <use style=\"fill:#001c7f;stroke:#001c7f;\" x=\"51.561009\" xlink:href=\"#m6a01eba466\" y=\"327.046054\"/>\r\n     <use style=\"fill:#001c7f;stroke:#001c7f;\" x=\"52.51758\" xlink:href=\"#m6a01eba466\" y=\"325.499124\"/>\r\n     <use style=\"fill:#001c7f;stroke:#001c7f;\" x=\"52.51758\" xlink:href=\"#m6a01eba466\" y=\"325.881197\"/>\r\n     <use style=\"fill:#001c7f;stroke:#001c7f;\" x=\"52.51758\" xlink:href=\"#m6a01eba466\" y=\"327.698374\"/>\r\n     <use style=\"fill:#001c7f;stroke:#001c7f;\" x=\"52.51758\" xlink:href=\"#m6a01eba466\" y=\"297.225711\"/>\r\n     <use style=\"fill:#001c7f;stroke:#001c7f;\" x=\"52.51758\" xlink:href=\"#m6a01eba466\" y=\"328.350694\"/>\r\n     <use style=\"fill:#001c7f;stroke:#001c7f;\" x=\"52.51758\" xlink:href=\"#m6a01eba466\" y=\"327.698374\"/>\r\n     <use style=\"fill:#001c7f;stroke:#001c7f;\" x=\"52.51758\" xlink:href=\"#m6a01eba466\" y=\"287.906854\"/>\r\n     <use style=\"fill:#001c7f;stroke:#001c7f;\" x=\"52.51758\" xlink:href=\"#m6a01eba466\" y=\"326.580111\"/>\r\n     <use style=\"fill:#001c7f;stroke:#001c7f;\" x=\"52.51758\" xlink:href=\"#m6a01eba466\" y=\"317.549695\"/>\r\n     <use style=\"fill:#001c7f;stroke:#001c7f;\" x=\"52.995866\" xlink:href=\"#m6a01eba466\" y=\"324.250397\"/>\r\n     <use style=\"fill:#001c7f;stroke:#001c7f;\" x=\"53.474152\" xlink:href=\"#m6a01eba466\" y=\"327.97794\"/>\r\n     <use style=\"fill:#001c7f;stroke:#001c7f;\" x=\"53.474152\" xlink:href=\"#m6a01eba466\" y=\"327.046054\"/>\r\n     <use style=\"fill:#001c7f;stroke:#001c7f;\" x=\"53.474152\" xlink:href=\"#m6a01eba466\" y=\"327.123711\"/>\r\n     <use style=\"fill:#001c7f;stroke:#001c7f;\" x=\"53.474152\" xlink:href=\"#m6a01eba466\" y=\"326.368319\"/>\r\n     <use style=\"fill:#001c7f;stroke:#001c7f;\" x=\"53.474152\" xlink:href=\"#m6a01eba466\" y=\"323.024231\"/>\r\n     <use style=\"fill:#001c7f;stroke:#001c7f;\" x=\"53.474152\" xlink:href=\"#m6a01eba466\" y=\"325.499124\"/>\r\n     <use style=\"fill:#001c7f;stroke:#001c7f;\" x=\"53.474152\" xlink:href=\"#m6a01eba466\" y=\"328.288568\"/>\r\n     <use style=\"fill:#001c7f;stroke:#001c7f;\" x=\"53.474152\" xlink:href=\"#m6a01eba466\" y=\"325.730451\"/>\r\n     <use style=\"fill:#001c7f;stroke:#001c7f;\" x=\"53.474152\" xlink:href=\"#m6a01eba466\" y=\"325.730451\"/>\r\n     <use style=\"fill:#001c7f;stroke:#001c7f;\" x=\"53.474152\" xlink:href=\"#m6a01eba466\" y=\"325.499124\"/>\r\n     <use style=\"fill:#001c7f;stroke:#001c7f;\" x=\"53.474152\" xlink:href=\"#m6a01eba466\" y=\"328.909825\"/>\r\n     <use style=\"fill:#001c7f;stroke:#001c7f;\" x=\"54.430723\" xlink:href=\"#m6a01eba466\" y=\"322.174833\"/>\r\n     <use style=\"fill:#001c7f;stroke:#001c7f;\" x=\"54.430723\" xlink:href=\"#m6a01eba466\" y=\"327.046054\"/>\r\n     <use style=\"fill:#001c7f;stroke:#001c7f;\" x=\"54.430723\" xlink:href=\"#m6a01eba466\" y=\"325.492911\"/>\r\n     <use style=\"fill:#001c7f;stroke:#001c7f;\" x=\"54.430723\" xlink:href=\"#m6a01eba466\" y=\"320.312428\"/>\r\n     <use style=\"fill:#001c7f;stroke:#001c7f;\" x=\"54.430723\" xlink:href=\"#m6a01eba466\" y=\"323.024231\"/>\r\n     <use style=\"fill:#001c7f;stroke:#001c7f;\" x=\"54.430723\" xlink:href=\"#m6a01eba466\" y=\"324.71634\"/>\r\n     <use style=\"fill:#001c7f;stroke:#001c7f;\" x=\"54.430723\" xlink:href=\"#m6a01eba466\" y=\"327.046054\"/>\r\n     <use style=\"fill:#001c7f;stroke:#001c7f;\" x=\"54.430723\" xlink:href=\"#m6a01eba466\" y=\"314.895698\"/>\r\n     <use style=\"fill:#001c7f;stroke:#001c7f;\" x=\"54.430723\" xlink:href=\"#m6a01eba466\" y=\"322.386625\"/>\r\n     <use style=\"fill:#001c7f;stroke:#001c7f;\" x=\"54.430723\" xlink:href=\"#m6a01eba466\" y=\"324.250397\"/>\r\n     <use style=\"fill:#001c7f;stroke:#001c7f;\" x=\"54.430723\" xlink:href=\"#m6a01eba466\" y=\"323.024231\"/>\r\n     <use style=\"fill:#001c7f;stroke:#001c7f;\" x=\"54.430723\" xlink:href=\"#m6a01eba466\" y=\"323.61502\"/>\r\n     <use style=\"fill:#001c7f;stroke:#001c7f;\" x=\"54.430723\" xlink:href=\"#m6a01eba466\" y=\"328.909825\"/>\r\n     <use style=\"fill:#001c7f;stroke:#001c7f;\" x=\"54.430723\" xlink:href=\"#m6a01eba466\" y=\"328.288568\"/>\r\n     <use style=\"fill:#001c7f;stroke:#001c7f;\" x=\"54.430723\" xlink:href=\"#m6a01eba466\" y=\"324.526511\"/>\r\n     <use style=\"fill:#001c7f;stroke:#001c7f;\" x=\"54.430723\" xlink:href=\"#m6a01eba466\" y=\"320.41322\"/>\r\n     <use style=\"fill:#001c7f;stroke:#001c7f;\" x=\"54.430723\" xlink:href=\"#m6a01eba466\" y=\"325.920025\"/>\r\n     <use style=\"fill:#001c7f;stroke:#001c7f;\" x=\"54.430723\" xlink:href=\"#m6a01eba466\" y=\"306.544568\"/>\r\n     <use style=\"fill:#001c7f;stroke:#001c7f;\" x=\"54.430723\" xlink:href=\"#m6a01eba466\" y=\"327.046054\"/>\r\n     <use style=\"fill:#001c7f;stroke:#001c7f;\" x=\"54.430723\" xlink:href=\"#m6a01eba466\" y=\"326.580111\"/>\r\n     <use style=\"fill:#001c7f;stroke:#001c7f;\" x=\"54.430723\" xlink:href=\"#m6a01eba466\" y=\"302.817025\"/>\r\n     <use style=\"fill:#001c7f;stroke:#001c7f;\" x=\"54.430723\" xlink:href=\"#m6a01eba466\" y=\"325.182283\"/>\r\n     <use style=\"fill:#001c7f;stroke:#001c7f;\" x=\"54.430723\" xlink:href=\"#m6a01eba466\" y=\"323.61502\"/>\r\n     <use style=\"fill:#001c7f;stroke:#001c7f;\" x=\"54.430723\" xlink:href=\"#m6a01eba466\" y=\"325.499124\"/>\r\n     <use style=\"fill:#001c7f;stroke:#001c7f;\" x=\"55.387295\" xlink:href=\"#m6a01eba466\" y=\"324.250397\"/>\r\n     <use style=\"fill:#001c7f;stroke:#001c7f;\" x=\"55.387295\" xlink:href=\"#m6a01eba466\" y=\"320.127509\"/>\r\n     <use style=\"fill:#001c7f;stroke:#001c7f;\" x=\"55.387295\" xlink:href=\"#m6a01eba466\" y=\"321.033888\"/>\r\n     <use style=\"fill:#001c7f;stroke:#001c7f;\" x=\"55.387295\" xlink:href=\"#m6a01eba466\" y=\"323.024231\"/>\r\n     <use style=\"fill:#001c7f;stroke:#001c7f;\" x=\"55.387295\" xlink:href=\"#m6a01eba466\" y=\"323.163197\"/>\r\n     <use style=\"fill:#001c7f;stroke:#001c7f;\" x=\"55.387295\" xlink:href=\"#m6a01eba466\" y=\"327.046054\"/>\r\n     <use style=\"fill:#001c7f;stroke:#001c7f;\" x=\"55.387295\" xlink:href=\"#m6a01eba466\" y=\"327.123711\"/>\r\n     <use style=\"fill:#001c7f;stroke:#001c7f;\" x=\"55.387295\" xlink:href=\"#m6a01eba466\" y=\"331.705483\"/>\r\n     <use style=\"fill:#001c7f;stroke:#001c7f;\" x=\"55.387295\" xlink:href=\"#m6a01eba466\" y=\"323.007883\"/>\r\n     <use style=\"fill:#001c7f;stroke:#001c7f;\" x=\"55.387295\" xlink:href=\"#m6a01eba466\" y=\"325.730451\"/>\r\n     <use style=\"fill:#001c7f;stroke:#001c7f;\" x=\"55.387295\" xlink:href=\"#m6a01eba466\" y=\"327.698374\"/>\r\n     <use style=\"fill:#001c7f;stroke:#001c7f;\" x=\"55.387295\" xlink:href=\"#m6a01eba466\" y=\"325.499124\"/>\r\n     <use style=\"fill:#001c7f;stroke:#001c7f;\" x=\"55.387295\" xlink:href=\"#m6a01eba466\" y=\"317.727197\"/>\r\n     <use style=\"fill:#001c7f;stroke:#001c7f;\" x=\"55.387295\" xlink:href=\"#m6a01eba466\" y=\"323.163197\"/>\r\n     <use style=\"fill:#001c7f;stroke:#001c7f;\" x=\"55.387295\" xlink:href=\"#m6a01eba466\" y=\"325.499124\"/>\r\n     <use style=\"fill:#001c7f;stroke:#001c7f;\" x=\"55.387295\" xlink:href=\"#m6a01eba466\" y=\"321.332123\"/>\r\n     <use style=\"fill:#001c7f;stroke:#001c7f;\" x=\"55.387295\" xlink:href=\"#m6a01eba466\" y=\"326.247295\"/>\r\n     <use style=\"fill:#001c7f;stroke:#001c7f;\" x=\"55.387295\" xlink:href=\"#m6a01eba466\" y=\"321.610054\"/>\r\n     <use style=\"fill:#001c7f;stroke:#001c7f;\" x=\"55.387295\" xlink:href=\"#m6a01eba466\" y=\"312.135883\"/>\r\n     <use style=\"fill:#001c7f;stroke:#001c7f;\" x=\"55.387295\" xlink:href=\"#m6a01eba466\" y=\"323.007883\"/>\r\n     <use style=\"fill:#001c7f;stroke:#001c7f;\" x=\"55.387295\" xlink:href=\"#m6a01eba466\" y=\"324.526511\"/>\r\n     <use style=\"fill:#001c7f;stroke:#001c7f;\" x=\"55.387295\" xlink:href=\"#m6a01eba466\" y=\"326.247295\"/>\r\n     <use style=\"fill:#001c7f;stroke:#001c7f;\" x=\"55.387295\" xlink:href=\"#m6a01eba466\" y=\"324.526511\"/>\r\n     <use style=\"fill:#001c7f;stroke:#001c7f;\" x=\"55.387295\" xlink:href=\"#m6a01eba466\" y=\"322.956111\"/>\r\n     <use style=\"fill:#001c7f;stroke:#001c7f;\" x=\"56.343866\" xlink:href=\"#m6a01eba466\" y=\"323.984144\"/>\r\n     <use style=\"fill:#001c7f;stroke:#001c7f;\" x=\"56.343866\" xlink:href=\"#m6a01eba466\" y=\"297.575168\"/>\r\n     <use style=\"fill:#001c7f;stroke:#001c7f;\" x=\"56.343866\" xlink:href=\"#m6a01eba466\" y=\"324.250397\"/>\r\n     <use style=\"fill:#001c7f;stroke:#001c7f;\" x=\"56.343866\" xlink:href=\"#m6a01eba466\" y=\"323.163197\"/>\r\n     <use style=\"fill:#001c7f;stroke:#001c7f;\" x=\"56.343866\" xlink:href=\"#m6a01eba466\" y=\"289.770625\"/>\r\n     <use style=\"fill:#001c7f;stroke:#001c7f;\" x=\"56.343866\" xlink:href=\"#m6a01eba466\" y=\"314.93154\"/>\r\n     <use style=\"fill:#001c7f;stroke:#001c7f;\" x=\"56.343866\" xlink:href=\"#m6a01eba466\" y=\"315.397483\"/>\r\n     <use style=\"fill:#001c7f;stroke:#001c7f;\" x=\"56.343866\" xlink:href=\"#m6a01eba466\" y=\"315.397483\"/>\r\n     <use style=\"fill:#001c7f;stroke:#001c7f;\" x=\"56.343866\" xlink:href=\"#m6a01eba466\" y=\"324.250397\"/>\r\n     <use style=\"fill:#001c7f;stroke:#001c7f;\" x=\"56.343866\" xlink:href=\"#m6a01eba466\" y=\"310.58274\"/>\r\n     <use style=\"fill:#001c7f;stroke:#001c7f;\" x=\"56.343866\" xlink:href=\"#m6a01eba466\" y=\"321.033888\"/>\r\n     <use style=\"fill:#001c7f;stroke:#001c7f;\" x=\"56.343866\" xlink:href=\"#m6a01eba466\" y=\"321.033888\"/>\r\n     <use style=\"fill:#001c7f;stroke:#001c7f;\" x=\"56.343866\" xlink:href=\"#m6a01eba466\" y=\"323.024231\"/>\r\n     <use style=\"fill:#001c7f;stroke:#001c7f;\" x=\"56.343866\" xlink:href=\"#m6a01eba466\" y=\"323.984144\"/>\r\n     <use style=\"fill:#001c7f;stroke:#001c7f;\" x=\"56.343866\" xlink:href=\"#m6a01eba466\" y=\"321.221768\"/>\r\n     <use style=\"fill:#001c7f;stroke:#001c7f;\" x=\"56.343866\" xlink:href=\"#m6a01eba466\" y=\"325.182283\"/>\r\n     <use style=\"fill:#001c7f;stroke:#001c7f;\" x=\"56.343866\" xlink:href=\"#m6a01eba466\" y=\"325.499124\"/>\r\n     <use style=\"fill:#001c7f;stroke:#001c7f;\" x=\"56.343866\" xlink:href=\"#m6a01eba466\" y=\"324.250397\"/>\r\n     <use style=\"fill:#001c7f;stroke:#001c7f;\" x=\"56.343866\" xlink:href=\"#m6a01eba466\" y=\"323.024231\"/>\r\n     <use style=\"fill:#001c7f;stroke:#001c7f;\" x=\"56.343866\" xlink:href=\"#m6a01eba466\" y=\"324.51665\"/>\r\n     <use style=\"fill:#001c7f;stroke:#001c7f;\" x=\"56.343866\" xlink:href=\"#m6a01eba466\" y=\"324.250397\"/>\r\n     <use style=\"fill:#001c7f;stroke:#001c7f;\" x=\"56.343866\" xlink:href=\"#m6a01eba466\" y=\"321.033888\"/>\r\n     <use style=\"fill:#001c7f;stroke:#001c7f;\" x=\"56.343866\" xlink:href=\"#m6a01eba466\" y=\"323.024231\"/>\r\n     <use style=\"fill:#001c7f;stroke:#001c7f;\" x=\"56.343866\" xlink:href=\"#m6a01eba466\" y=\"314.895698\"/>\r\n     <use style=\"fill:#001c7f;stroke:#001c7f;\" x=\"57.300438\" xlink:href=\"#m6a01eba466\" y=\"324.685277\"/>\r\n     <use style=\"fill:#001c7f;stroke:#001c7f;\" x=\"57.300438\" xlink:href=\"#m6a01eba466\" y=\"324.250397\"/>\r\n     <use style=\"fill:#001c7f;stroke:#001c7f;\" x=\"57.300438\" xlink:href=\"#m6a01eba466\" y=\"319.204335\"/>\r\n     <use style=\"fill:#001c7f;stroke:#001c7f;\" x=\"57.300438\" xlink:href=\"#m6a01eba466\" y=\"323.318511\"/>\r\n     <use style=\"fill:#001c7f;stroke:#001c7f;\" x=\"57.300438\" xlink:href=\"#m6a01eba466\" y=\"316.404636\"/>\r\n     <use style=\"fill:#001c7f;stroke:#001c7f;\" x=\"57.300438\" xlink:href=\"#m6a01eba466\" y=\"322.75938\"/>\r\n     <use style=\"fill:#001c7f;stroke:#001c7f;\" x=\"57.300438\" xlink:href=\"#m6a01eba466\" y=\"264.445261\"/>\r\n     <use style=\"fill:#001c7f;stroke:#001c7f;\" x=\"57.300438\" xlink:href=\"#m6a01eba466\" y=\"320.988797\"/>\r\n     <use style=\"fill:#001c7f;stroke:#001c7f;\" x=\"57.300438\" xlink:href=\"#m6a01eba466\" y=\"300.953254\"/>\r\n     <use style=\"fill:#001c7f;stroke:#001c7f;\" x=\"57.300438\" xlink:href=\"#m6a01eba466\" y=\"274.653368\"/>\r\n     <use style=\"fill:#001c7f;stroke:#001c7f;\" x=\"57.300438\" xlink:href=\"#m6a01eba466\" y=\"321.033888\"/>\r\n     <use style=\"fill:#001c7f;stroke:#001c7f;\" x=\"57.300438\" xlink:href=\"#m6a01eba466\" y=\"324.250397\"/>\r\n     <use style=\"fill:#001c7f;stroke:#001c7f;\" x=\"57.300438\" xlink:href=\"#m6a01eba466\" y=\"320.127509\"/>\r\n     <use style=\"fill:#001c7f;stroke:#001c7f;\" x=\"57.300438\" xlink:href=\"#m6a01eba466\" y=\"322.945757\"/>\r\n     <use style=\"fill:#001c7f;stroke:#001c7f;\" x=\"57.300438\" xlink:href=\"#m6a01eba466\" y=\"281.383654\"/>\r\n     <use style=\"fill:#001c7f;stroke:#001c7f;\" x=\"57.300438\" xlink:href=\"#m6a01eba466\" y=\"320.709231\"/>\r\n     <use style=\"fill:#001c7f;stroke:#001c7f;\" x=\"57.300438\" xlink:href=\"#m6a01eba466\" y=\"305.426305\"/>\r\n     <use style=\"fill:#001c7f;stroke:#001c7f;\" x=\"57.300438\" xlink:href=\"#m6a01eba466\" y=\"326.114168\"/>\r\n     <use style=\"fill:#001c7f;stroke:#001c7f;\" x=\"57.300438\" xlink:href=\"#m6a01eba466\" y=\"324.250397\"/>\r\n     <use style=\"fill:#001c7f;stroke:#001c7f;\" x=\"57.300438\" xlink:href=\"#m6a01eba466\" y=\"320.988797\"/>\r\n     <use style=\"fill:#001c7f;stroke:#001c7f;\" x=\"57.300438\" xlink:href=\"#m6a01eba466\" y=\"314.106921\"/>\r\n     <use style=\"fill:#001c7f;stroke:#001c7f;\" x=\"57.300438\" xlink:href=\"#m6a01eba466\" y=\"324.250397\"/>\r\n     <use style=\"fill:#001c7f;stroke:#001c7f;\" x=\"57.300438\" xlink:href=\"#m6a01eba466\" y=\"326.580111\"/>\r\n     <use style=\"fill:#001c7f;stroke:#001c7f;\" x=\"57.300438\" xlink:href=\"#m6a01eba466\" y=\"320.127509\"/>\r\n     <use style=\"fill:#001c7f;stroke:#001c7f;\" x=\"57.300438\" xlink:href=\"#m6a01eba466\" y=\"323.61502\"/>\r\n     <use style=\"fill:#001c7f;stroke:#001c7f;\" x=\"57.300438\" xlink:href=\"#m6a01eba466\" y=\"323.551483\"/>\r\n     <use style=\"fill:#001c7f;stroke:#001c7f;\" x=\"57.300438\" xlink:href=\"#m6a01eba466\" y=\"320.789107\"/>\r\n     <use style=\"fill:#001c7f;stroke:#001c7f;\" x=\"57.300438\" xlink:href=\"#m6a01eba466\" y=\"323.984144\"/>\r\n     <use style=\"fill:#001c7f;stroke:#001c7f;\" x=\"57.778723\" xlink:href=\"#m6a01eba466\" y=\"317.549695\"/>\r\n     <use style=\"fill:#001c7f;stroke:#001c7f;\" x=\"58.257009\" xlink:href=\"#m6a01eba466\" y=\"323.052258\"/>\r\n     <use style=\"fill:#001c7f;stroke:#001c7f;\" x=\"58.257009\" xlink:href=\"#m6a01eba466\" y=\"302.584054\"/>\r\n     <use style=\"fill:#001c7f;stroke:#001c7f;\" x=\"58.257009\" xlink:href=\"#m6a01eba466\" y=\"316.795311\"/>\r\n     <use style=\"fill:#001c7f;stroke:#001c7f;\" x=\"58.257009\" xlink:href=\"#m6a01eba466\" y=\"324.250397\"/>\r\n     <use style=\"fill:#001c7f;stroke:#001c7f;\" x=\"58.257009\" xlink:href=\"#m6a01eba466\" y=\"323.143783\"/>\r\n     <use style=\"fill:#001c7f;stroke:#001c7f;\" x=\"58.257009\" xlink:href=\"#m6a01eba466\" y=\"316.767072\"/>\r\n     <use style=\"fill:#001c7f;stroke:#001c7f;\" x=\"58.257009\" xlink:href=\"#m6a01eba466\" y=\"316.404636\"/>\r\n     <use style=\"fill:#001c7f;stroke:#001c7f;\" x=\"58.257009\" xlink:href=\"#m6a01eba466\" y=\"313.067768\"/>\r\n     <use style=\"fill:#001c7f;stroke:#001c7f;\" x=\"58.257009\" xlink:href=\"#m6a01eba466\" y=\"315.397483\"/>\r\n     <use style=\"fill:#001c7f;stroke:#001c7f;\" x=\"58.257009\" xlink:href=\"#m6a01eba466\" y=\"323.007883\"/>\r\n     <use style=\"fill:#001c7f;stroke:#001c7f;\" x=\"58.257009\" xlink:href=\"#m6a01eba466\" y=\"322.386625\"/>\r\n     <use style=\"fill:#001c7f;stroke:#001c7f;\" x=\"58.257009\" xlink:href=\"#m6a01eba466\" y=\"320.312428\"/>\r\n     <use style=\"fill:#001c7f;stroke:#001c7f;\" x=\"58.257009\" xlink:href=\"#m6a01eba466\" y=\"322.386625\"/>\r\n     <use style=\"fill:#001c7f;stroke:#001c7f;\" x=\"58.257009\" xlink:href=\"#m6a01eba466\" y=\"320.383071\"/>\r\n     <use style=\"fill:#001c7f;stroke:#001c7f;\" x=\"58.257009\" xlink:href=\"#m6a01eba466\" y=\"320.41322\"/>\r\n     <use style=\"fill:#001c7f;stroke:#001c7f;\" x=\"58.257009\" xlink:href=\"#m6a01eba466\" y=\"323.318511\"/>\r\n     <use style=\"fill:#001c7f;stroke:#001c7f;\" x=\"58.257009\" xlink:href=\"#m6a01eba466\" y=\"316.767072\"/>\r\n     <use style=\"fill:#001c7f;stroke:#001c7f;\" x=\"58.257009\" xlink:href=\"#m6a01eba466\" y=\"272.686054\"/>\r\n     <use style=\"fill:#001c7f;stroke:#001c7f;\" x=\"58.257009\" xlink:href=\"#m6a01eba466\" y=\"314.864976\"/>\r\n     <use style=\"fill:#001c7f;stroke:#001c7f;\" x=\"58.257009\" xlink:href=\"#m6a01eba466\" y=\"320.988797\"/>\r\n     <use style=\"fill:#001c7f;stroke:#001c7f;\" x=\"58.257009\" xlink:href=\"#m6a01eba466\" y=\"320.127509\"/>\r\n     <use style=\"fill:#001c7f;stroke:#001c7f;\" x=\"58.257009\" xlink:href=\"#m6a01eba466\" y=\"324.685277\"/>\r\n     <use style=\"fill:#001c7f;stroke:#001c7f;\" x=\"58.257009\" xlink:href=\"#m6a01eba466\" y=\"307.476454\"/>\r\n     <use style=\"fill:#001c7f;stroke:#001c7f;\" x=\"58.257009\" xlink:href=\"#m6a01eba466\" y=\"270.259268\"/>\r\n     <use style=\"fill:#001c7f;stroke:#001c7f;\" x=\"58.257009\" xlink:href=\"#m6a01eba466\" y=\"325.182283\"/>\r\n     <use style=\"fill:#001c7f;stroke:#001c7f;\" x=\"59.21358\" xlink:href=\"#m6a01eba466\" y=\"322.153654\"/>\r\n     <use style=\"fill:#001c7f;stroke:#001c7f;\" x=\"59.21358\" xlink:href=\"#m6a01eba466\" y=\"315.952176\"/>\r\n     <use style=\"fill:#001c7f;stroke:#001c7f;\" x=\"59.21358\" xlink:href=\"#m6a01eba466\" y=\"323.024231\"/>\r\n     <use style=\"fill:#001c7f;stroke:#001c7f;\" x=\"59.21358\" xlink:href=\"#m6a01eba466\" y=\"325.499124\"/>\r\n     <use style=\"fill:#001c7f;stroke:#001c7f;\" x=\"59.21358\" xlink:href=\"#m6a01eba466\" y=\"323.007883\"/>\r\n     <use style=\"fill:#001c7f;stroke:#001c7f;\" x=\"59.21358\" xlink:href=\"#m6a01eba466\" y=\"268.897736\"/>\r\n     <use style=\"fill:#001c7f;stroke:#001c7f;\" x=\"59.21358\" xlink:href=\"#m6a01eba466\" y=\"292.566283\"/>\r\n     <use style=\"fill:#001c7f;stroke:#001c7f;\" x=\"59.21358\" xlink:href=\"#m6a01eba466\" y=\"321.332123\"/>\r\n     <use style=\"fill:#001c7f;stroke:#001c7f;\" x=\"59.21358\" xlink:href=\"#m6a01eba466\" y=\"324.250397\"/>\r\n     <use style=\"fill:#001c7f;stroke:#001c7f;\" x=\"59.21358\" xlink:href=\"#m6a01eba466\" y=\"321.332123\"/>\r\n     <use style=\"fill:#001c7f;stroke:#001c7f;\" x=\"59.21358\" xlink:href=\"#m6a01eba466\" y=\"316.404636\"/>\r\n     <use style=\"fill:#001c7f;stroke:#001c7f;\" x=\"59.21358\" xlink:href=\"#m6a01eba466\" y=\"323.551483\"/>\r\n     <use style=\"fill:#001c7f;stroke:#001c7f;\" x=\"59.21358\" xlink:href=\"#m6a01eba466\" y=\"323.143783\"/>\r\n     <use style=\"fill:#001c7f;stroke:#001c7f;\" x=\"59.21358\" xlink:href=\"#m6a01eba466\" y=\"324.250397\"/>\r\n     <use style=\"fill:#001c7f;stroke:#001c7f;\" x=\"59.21358\" xlink:href=\"#m6a01eba466\" y=\"321.332123\"/>\r\n     <use style=\"fill:#001c7f;stroke:#001c7f;\" x=\"59.21358\" xlink:href=\"#m6a01eba466\" y=\"283.734548\"/>\r\n     <use style=\"fill:#001c7f;stroke:#001c7f;\" x=\"59.21358\" xlink:href=\"#m6a01eba466\" y=\"322.386625\"/>\r\n     <use style=\"fill:#001c7f;stroke:#001c7f;\" x=\"59.21358\" xlink:href=\"#m6a01eba466\" y=\"320.183986\"/>\r\n     <use style=\"fill:#001c7f;stroke:#001c7f;\" x=\"59.21358\" xlink:href=\"#m6a01eba466\" y=\"322.945757\"/>\r\n     <use style=\"fill:#001c7f;stroke:#001c7f;\" x=\"59.21358\" xlink:href=\"#m6a01eba466\" y=\"325.182283\"/>\r\n     <use style=\"fill:#001c7f;stroke:#001c7f;\" x=\"59.21358\" xlink:href=\"#m6a01eba466\" y=\"238.756942\"/>\r\n     <use style=\"fill:#001c7f;stroke:#001c7f;\" x=\"59.691866\" xlink:href=\"#m6a01eba466\" y=\"325.920025\"/>\r\n     <use style=\"fill:#001c7f;stroke:#001c7f;\" x=\"60.170152\" xlink:href=\"#m6a01eba466\" y=\"322.75938\"/>\r\n     <use style=\"fill:#001c7f;stroke:#001c7f;\" x=\"60.170152\" xlink:href=\"#m6a01eba466\" y=\"317.502697\"/>\r\n     <use style=\"fill:#001c7f;stroke:#001c7f;\" x=\"60.170152\" xlink:href=\"#m6a01eba466\" y=\"315.304294\"/>\r\n     <use style=\"fill:#001c7f;stroke:#001c7f;\" x=\"60.170152\" xlink:href=\"#m6a01eba466\" y=\"323.024231\"/>\r\n     <use style=\"fill:#001c7f;stroke:#001c7f;\" x=\"60.170152\" xlink:href=\"#m6a01eba466\" y=\"321.332123\"/>\r\n     <use style=\"fill:#001c7f;stroke:#001c7f;\" x=\"60.170152\" xlink:href=\"#m6a01eba466\" y=\"292.566283\"/>\r\n     <use style=\"fill:#001c7f;stroke:#001c7f;\" x=\"60.170152\" xlink:href=\"#m6a01eba466\" y=\"325.499124\"/>\r\n     <use style=\"fill:#001c7f;stroke:#001c7f;\" x=\"60.170152\" xlink:href=\"#m6a01eba466\" y=\"325.730451\"/>\r\n     <use style=\"fill:#001c7f;stroke:#001c7f;\" x=\"60.170152\" xlink:href=\"#m6a01eba466\" y=\"317.727197\"/>\r\n     <use style=\"fill:#001c7f;stroke:#001c7f;\" x=\"60.170152\" xlink:href=\"#m6a01eba466\" y=\"321.45474\"/>\r\n     <use style=\"fill:#001c7f;stroke:#001c7f;\" x=\"60.170152\" xlink:href=\"#m6a01eba466\" y=\"319.204335\"/>\r\n     <use style=\"fill:#001c7f;stroke:#001c7f;\" x=\"60.170152\" xlink:href=\"#m6a01eba466\" y=\"324.250397\"/>\r\n     <use style=\"fill:#001c7f;stroke:#001c7f;\" x=\"60.170152\" xlink:href=\"#m6a01eba466\" y=\"320.383071\"/>\r\n     <use style=\"fill:#001c7f;stroke:#001c7f;\" x=\"60.170152\" xlink:href=\"#m6a01eba466\" y=\"303.748911\"/>\r\n     <use style=\"fill:#001c7f;stroke:#001c7f;\" x=\"60.170152\" xlink:href=\"#m6a01eba466\" y=\"323.163197\"/>\r\n     <use style=\"fill:#001c7f;stroke:#001c7f;\" x=\"60.170152\" xlink:href=\"#m6a01eba466\" y=\"318.348454\"/>\r\n     <use style=\"fill:#001c7f;stroke:#001c7f;\" x=\"60.170152\" xlink:href=\"#m6a01eba466\" y=\"317.727197\"/>\r\n     <use style=\"fill:#001c7f;stroke:#001c7f;\" x=\"60.170152\" xlink:href=\"#m6a01eba466\" y=\"321.920683\"/>\r\n     <use style=\"fill:#001c7f;stroke:#001c7f;\" x=\"60.170152\" xlink:href=\"#m6a01eba466\" y=\"323.61502\"/>\r\n     <use style=\"fill:#001c7f;stroke:#001c7f;\" x=\"60.170152\" xlink:href=\"#m6a01eba466\" y=\"328.350694\"/>\r\n     <use style=\"fill:#001c7f;stroke:#001c7f;\" x=\"60.170152\" xlink:href=\"#m6a01eba466\" y=\"317.502697\"/>\r\n     <use style=\"fill:#001c7f;stroke:#001c7f;\" x=\"60.170152\" xlink:href=\"#m6a01eba466\" y=\"326.247295\"/>\r\n     <use style=\"fill:#001c7f;stroke:#001c7f;\" x=\"60.170152\" xlink:href=\"#m6a01eba466\" y=\"324.250397\"/>\r\n     <use style=\"fill:#001c7f;stroke:#001c7f;\" x=\"60.170152\" xlink:href=\"#m6a01eba466\" y=\"319.963723\"/>\r\n     <use style=\"fill:#001c7f;stroke:#001c7f;\" x=\"60.170152\" xlink:href=\"#m6a01eba466\" y=\"325.436433\"/>\r\n     <use style=\"fill:#001c7f;stroke:#001c7f;\" x=\"61.126723\" xlink:href=\"#m6a01eba466\" y=\"302.620839\"/>\r\n     <use style=\"fill:#001c7f;stroke:#001c7f;\" x=\"61.126723\" xlink:href=\"#m6a01eba466\" y=\"323.007883\"/>\r\n     <use style=\"fill:#001c7f;stroke:#001c7f;\" x=\"61.126723\" xlink:href=\"#m6a01eba466\" y=\"320.522854\"/>\r\n     <use style=\"fill:#001c7f;stroke:#001c7f;\" x=\"61.126723\" xlink:href=\"#m6a01eba466\" y=\"323.024231\"/>\r\n     <use style=\"fill:#001c7f;stroke:#001c7f;\" x=\"61.126723\" xlink:href=\"#m6a01eba466\" y=\"319.204335\"/>\r\n     <use style=\"fill:#001c7f;stroke:#001c7f;\" x=\"61.126723\" xlink:href=\"#m6a01eba466\" y=\"319.204335\"/>\r\n     <use style=\"fill:#001c7f;stroke:#001c7f;\" x=\"61.126723\" xlink:href=\"#m6a01eba466\" y=\"323.318511\"/>\r\n     <use style=\"fill:#001c7f;stroke:#001c7f;\" x=\"61.126723\" xlink:href=\"#m6a01eba466\" y=\"297.225711\"/>\r\n     <use style=\"fill:#001c7f;stroke:#001c7f;\" x=\"61.126723\" xlink:href=\"#m6a01eba466\" y=\"320.117686\"/>\r\n     <use style=\"fill:#001c7f;stroke:#001c7f;\" x=\"61.126723\" xlink:href=\"#m6a01eba466\" y=\"314.895698\"/>\r\n     <use style=\"fill:#001c7f;stroke:#001c7f;\" x=\"61.126723\" xlink:href=\"#m6a01eba466\" y=\"317.960168\"/>\r\n     <use style=\"fill:#001c7f;stroke:#001c7f;\" x=\"61.126723\" xlink:href=\"#m6a01eba466\" y=\"320.522854\"/>\r\n     <use style=\"fill:#001c7f;stroke:#001c7f;\" x=\"61.126723\" xlink:href=\"#m6a01eba466\" y=\"318.1316\"/>\r\n     <use style=\"fill:#001c7f;stroke:#001c7f;\" x=\"61.126723\" xlink:href=\"#m6a01eba466\" y=\"318.1316\"/>\r\n     <use style=\"fill:#001c7f;stroke:#001c7f;\" x=\"61.126723\" xlink:href=\"#m6a01eba466\" y=\"304.680797\"/>\r\n     <use style=\"fill:#001c7f;stroke:#001c7f;\" x=\"61.126723\" xlink:href=\"#m6a01eba466\" y=\"326.114168\"/>\r\n     <use style=\"fill:#001c7f;stroke:#001c7f;\" x=\"61.126723\" xlink:href=\"#m6a01eba466\" y=\"317.502697\"/>\r\n     <use style=\"fill:#001c7f;stroke:#001c7f;\" x=\"61.126723\" xlink:href=\"#m6a01eba466\" y=\"319.204335\"/>\r\n     <use style=\"fill:#001c7f;stroke:#001c7f;\" x=\"61.126723\" xlink:href=\"#m6a01eba466\" y=\"316.404636\"/>\r\n     <use style=\"fill:#001c7f;stroke:#001c7f;\" x=\"61.126723\" xlink:href=\"#m6a01eba466\" y=\"312.135883\"/>\r\n     <use style=\"fill:#001c7f;stroke:#001c7f;\" x=\"61.126723\" xlink:href=\"#m6a01eba466\" y=\"320.117686\"/>\r\n     <use style=\"fill:#001c7f;stroke:#001c7f;\" x=\"61.126723\" xlink:href=\"#m6a01eba466\" y=\"320.117686\"/>\r\n     <use style=\"fill:#001c7f;stroke:#001c7f;\" x=\"61.126723\" xlink:href=\"#m6a01eba466\" y=\"329.841711\"/>\r\n     <use style=\"fill:#001c7f;stroke:#001c7f;\" x=\"61.126723\" xlink:href=\"#m6a01eba466\" y=\"291.634397\"/>\r\n     <use style=\"fill:#001c7f;stroke:#001c7f;\" x=\"61.126723\" xlink:href=\"#m6a01eba466\" y=\"320.000998\"/>\r\n     <use style=\"fill:#001c7f;stroke:#001c7f;\" x=\"61.126723\" xlink:href=\"#m6a01eba466\" y=\"320.522854\"/>\r\n     <use style=\"fill:#001c7f;stroke:#001c7f;\" x=\"61.126723\" xlink:href=\"#m6a01eba466\" y=\"315.74694\"/>\r\n     <use style=\"fill:#001c7f;stroke:#001c7f;\" x=\"61.126723\" xlink:href=\"#m6a01eba466\" y=\"320.117686\"/>\r\n     <use style=\"fill:#001c7f;stroke:#001c7f;\" x=\"61.126723\" xlink:href=\"#m6a01eba466\" y=\"318.1316\"/>\r\n     <use style=\"fill:#001c7f;stroke:#001c7f;\" x=\"61.126723\" xlink:href=\"#m6a01eba466\" y=\"313.067768\"/>\r\n     <use style=\"fill:#001c7f;stroke:#001c7f;\" x=\"61.126723\" xlink:href=\"#m6a01eba466\" y=\"322.209123\"/>\r\n     <use style=\"fill:#001c7f;stroke:#001c7f;\" x=\"61.126723\" xlink:href=\"#m6a01eba466\" y=\"312.135883\"/>\r\n     <use style=\"fill:#001c7f;stroke:#001c7f;\" x=\"61.126723\" xlink:href=\"#m6a01eba466\" y=\"319.204335\"/>\r\n     <use style=\"fill:#001c7f;stroke:#001c7f;\" x=\"61.126723\" xlink:href=\"#m6a01eba466\" y=\"323.024231\"/>\r\n     <use style=\"fill:#001c7f;stroke:#001c7f;\" x=\"61.126723\" xlink:href=\"#m6a01eba466\" y=\"323.143783\"/>\r\n     <use style=\"fill:#001c7f;stroke:#001c7f;\" x=\"61.126723\" xlink:href=\"#m6a01eba466\" y=\"321.687711\"/>\r\n     <use style=\"fill:#001c7f;stroke:#001c7f;\" x=\"61.126723\" xlink:href=\"#m6a01eba466\" y=\"320.117686\"/>\r\n     <use style=\"fill:#001c7f;stroke:#001c7f;\" x=\"61.126723\" xlink:href=\"#m6a01eba466\" y=\"317.960168\"/>\r\n     <use style=\"fill:#001c7f;stroke:#001c7f;\" x=\"61.126723\" xlink:href=\"#m6a01eba466\" y=\"324.405711\"/>\r\n     <use style=\"fill:#001c7f;stroke:#001c7f;\" x=\"61.126723\" xlink:href=\"#m6a01eba466\" y=\"322.153654\"/>\r\n     <use style=\"fill:#001c7f;stroke:#001c7f;\" x=\"62.083295\" xlink:href=\"#m6a01eba466\" y=\"325.436433\"/>\r\n     <use style=\"fill:#001c7f;stroke:#001c7f;\" x=\"62.083295\" xlink:href=\"#m6a01eba466\" y=\"316.767072\"/>\r\n     <use style=\"fill:#001c7f;stroke:#001c7f;\" x=\"62.083295\" xlink:href=\"#m6a01eba466\" y=\"325.436433\"/>\r\n     <use style=\"fill:#001c7f;stroke:#001c7f;\" x=\"62.083295\" xlink:href=\"#m6a01eba466\" y=\"322.209123\"/>\r\n     <use style=\"fill:#001c7f;stroke:#001c7f;\" x=\"62.083295\" xlink:href=\"#m6a01eba466\" y=\"320.709231\"/>\r\n     <use style=\"fill:#001c7f;stroke:#001c7f;\" x=\"62.083295\" xlink:href=\"#m6a01eba466\" y=\"320.000998\"/>\r\n     <use style=\"fill:#001c7f;stroke:#001c7f;\" x=\"62.083295\" xlink:href=\"#m6a01eba466\" y=\"316.404636\"/>\r\n     <use style=\"fill:#001c7f;stroke:#001c7f;\" x=\"62.083295\" xlink:href=\"#m6a01eba466\" y=\"320.117686\"/>\r\n     <use style=\"fill:#001c7f;stroke:#001c7f;\" x=\"62.083295\" xlink:href=\"#m6a01eba466\" y=\"320.117686\"/>\r\n     <use style=\"fill:#001c7f;stroke:#001c7f;\" x=\"62.083295\" xlink:href=\"#m6a01eba466\" y=\"316.767072\"/>\r\n     <use style=\"fill:#001c7f;stroke:#001c7f;\" x=\"62.083295\" xlink:href=\"#m6a01eba466\" y=\"315.952176\"/>\r\n     <use style=\"fill:#001c7f;stroke:#001c7f;\" x=\"62.083295\" xlink:href=\"#m6a01eba466\" y=\"320.117686\"/>\r\n     <use style=\"fill:#001c7f;stroke:#001c7f;\" x=\"62.083295\" xlink:href=\"#m6a01eba466\" y=\"316.767072\"/>\r\n     <use style=\"fill:#001c7f;stroke:#001c7f;\" x=\"62.083295\" xlink:href=\"#m6a01eba466\" y=\"319.204335\"/>\r\n     <use style=\"fill:#001c7f;stroke:#001c7f;\" x=\"62.083295\" xlink:href=\"#m6a01eba466\" y=\"286.974968\"/>\r\n     <use style=\"fill:#001c7f;stroke:#001c7f;\" x=\"62.083295\" xlink:href=\"#m6a01eba466\" y=\"318.659083\"/>\r\n     <use style=\"fill:#001c7f;stroke:#001c7f;\" x=\"62.083295\" xlink:href=\"#m6a01eba466\" y=\"308.470465\"/>\r\n     <use style=\"fill:#001c7f;stroke:#001c7f;\" x=\"62.083295\" xlink:href=\"#m6a01eba466\" y=\"316.404636\"/>\r\n     <use style=\"fill:#001c7f;stroke:#001c7f;\" x=\"62.083295\" xlink:href=\"#m6a01eba466\" y=\"315.952176\"/>\r\n     <use style=\"fill:#001c7f;stroke:#001c7f;\" x=\"62.083295\" xlink:href=\"#m6a01eba466\" y=\"316.404636\"/>\r\n     <use style=\"fill:#001c7f;stroke:#001c7f;\" x=\"62.083295\" xlink:href=\"#m6a01eba466\" y=\"320.183986\"/>\r\n     <use style=\"fill:#001c7f;stroke:#001c7f;\" x=\"62.083295\" xlink:href=\"#m6a01eba466\" y=\"316.404636\"/>\r\n     <use style=\"fill:#001c7f;stroke:#001c7f;\" x=\"62.083295\" xlink:href=\"#m6a01eba466\" y=\"317.549695\"/>\r\n     <use style=\"fill:#001c7f;stroke:#001c7f;\" x=\"62.083295\" xlink:href=\"#m6a01eba466\" y=\"320.755825\"/>\r\n     <use style=\"fill:#001c7f;stroke:#001c7f;\" x=\"62.083295\" xlink:href=\"#m6a01eba466\" y=\"325.499124\"/>\r\n     <use style=\"fill:#001c7f;stroke:#001c7f;\" x=\"62.083295\" xlink:href=\"#m6a01eba466\" y=\"320.117686\"/>\r\n     <use style=\"fill:#001c7f;stroke:#001c7f;\" x=\"62.083295\" xlink:href=\"#m6a01eba466\" y=\"277.656111\"/>\r\n     <use style=\"fill:#001c7f;stroke:#001c7f;\" x=\"62.083295\" xlink:href=\"#m6a01eba466\" y=\"319.590968\"/>\r\n     <use style=\"fill:#001c7f;stroke:#001c7f;\" x=\"62.083295\" xlink:href=\"#m6a01eba466\" y=\"316.404636\"/>\r\n     <use style=\"fill:#001c7f;stroke:#001c7f;\" x=\"63.039866\" xlink:href=\"#m6a01eba466\" y=\"315.74694\"/>\r\n     <use style=\"fill:#001c7f;stroke:#001c7f;\" x=\"63.039866\" xlink:href=\"#m6a01eba466\" y=\"319.963723\"/>\r\n     <use style=\"fill:#001c7f;stroke:#001c7f;\" x=\"63.039866\" xlink:href=\"#m6a01eba466\" y=\"307.476454\"/>\r\n     <use style=\"fill:#001c7f;stroke:#001c7f;\" x=\"63.039866\" xlink:href=\"#m6a01eba466\" y=\"319.204335\"/>\r\n     <use style=\"fill:#001c7f;stroke:#001c7f;\" x=\"63.039866\" xlink:href=\"#m6a01eba466\" y=\"314.93154\"/>\r\n     <use style=\"fill:#001c7f;stroke:#001c7f;\" x=\"63.039866\" xlink:href=\"#m6a01eba466\" y=\"318.659083\"/>\r\n     <use style=\"fill:#001c7f;stroke:#001c7f;\" x=\"63.039866\" xlink:href=\"#m6a01eba466\" y=\"324.250397\"/>\r\n     <use style=\"fill:#001c7f;stroke:#001c7f;\" x=\"63.039866\" xlink:href=\"#m6a01eba466\" y=\"319.204335\"/>\r\n     <use style=\"fill:#001c7f;stroke:#001c7f;\" x=\"63.039866\" xlink:href=\"#m6a01eba466\" y=\"318.1316\"/>\r\n     <use style=\"fill:#001c7f;stroke:#001c7f;\" x=\"63.039866\" xlink:href=\"#m6a01eba466\" y=\"323.318511\"/>\r\n     <use style=\"fill:#001c7f;stroke:#001c7f;\" x=\"63.039866\" xlink:href=\"#m6a01eba466\" y=\"316.795311\"/>\r\n     <use style=\"fill:#001c7f;stroke:#001c7f;\" x=\"63.039866\" xlink:href=\"#m6a01eba466\" y=\"319.204335\"/>\r\n     <use style=\"fill:#001c7f;stroke:#001c7f;\" x=\"63.039866\" xlink:href=\"#m6a01eba466\" y=\"317.676825\"/>\r\n     <use style=\"fill:#001c7f;stroke:#001c7f;\" x=\"63.039866\" xlink:href=\"#m6a01eba466\" y=\"318.659083\"/>\r\n     <use style=\"fill:#001c7f;stroke:#001c7f;\" x=\"63.039866\" xlink:href=\"#m6a01eba466\" y=\"317.502697\"/>\r\n     <use style=\"fill:#001c7f;stroke:#001c7f;\" x=\"63.039866\" xlink:href=\"#m6a01eba466\" y=\"323.024231\"/>\r\n     <use style=\"fill:#001c7f;stroke:#001c7f;\" x=\"63.039866\" xlink:href=\"#m6a01eba466\" y=\"323.504888\"/>\r\n     <use style=\"fill:#001c7f;stroke:#001c7f;\" x=\"63.039866\" xlink:href=\"#m6a01eba466\" y=\"316.404636\"/>\r\n     <use style=\"fill:#001c7f;stroke:#001c7f;\" x=\"63.039866\" xlink:href=\"#m6a01eba466\" y=\"317.676825\"/>\r\n     <use style=\"fill:#001c7f;stroke:#001c7f;\" x=\"63.039866\" xlink:href=\"#m6a01eba466\" y=\"324.685277\"/>\r\n     <use style=\"fill:#001c7f;stroke:#001c7f;\" x=\"63.039866\" xlink:href=\"#m6a01eba466\" y=\"320.709231\"/>\r\n     <use style=\"fill:#001c7f;stroke:#001c7f;\" x=\"63.039866\" xlink:href=\"#m6a01eba466\" y=\"311.355699\"/>\r\n     <use style=\"fill:#001c7f;stroke:#001c7f;\" x=\"63.039866\" xlink:href=\"#m6a01eba466\" y=\"320.117686\"/>\r\n     <use style=\"fill:#001c7f;stroke:#001c7f;\" x=\"63.039866\" xlink:href=\"#m6a01eba466\" y=\"322.945757\"/>\r\n     <use style=\"fill:#001c7f;stroke:#001c7f;\" x=\"63.039866\" xlink:href=\"#m6a01eba466\" y=\"318.1316\"/>\r\n     <use style=\"fill:#001c7f;stroke:#001c7f;\" x=\"63.039866\" xlink:href=\"#m6a01eba466\" y=\"323.163197\"/>\r\n     <use style=\"fill:#001c7f;stroke:#001c7f;\" x=\"63.039866\" xlink:href=\"#m6a01eba466\" y=\"317.676825\"/>\r\n     <use style=\"fill:#001c7f;stroke:#001c7f;\" x=\"63.039866\" xlink:href=\"#m6a01eba466\" y=\"315.304294\"/>\r\n     <use style=\"fill:#001c7f;stroke:#001c7f;\" x=\"63.039866\" xlink:href=\"#m6a01eba466\" y=\"318.1316\"/>\r\n     <use style=\"fill:#001c7f;stroke:#001c7f;\" x=\"63.039866\" xlink:href=\"#m6a01eba466\" y=\"323.318511\"/>\r\n     <use style=\"fill:#001c7f;stroke:#001c7f;\" x=\"63.039866\" xlink:href=\"#m6a01eba466\" y=\"319.204335\"/>\r\n     <use style=\"fill:#001c7f;stroke:#001c7f;\" x=\"63.039866\" xlink:href=\"#m6a01eba466\" y=\"316.404636\"/>\r\n     <use style=\"fill:#001c7f;stroke:#001c7f;\" x=\"63.039866\" xlink:href=\"#m6a01eba466\" y=\"318.1316\"/>\r\n     <use style=\"fill:#001c7f;stroke:#001c7f;\" x=\"63.039866\" xlink:href=\"#m6a01eba466\" y=\"319.204335\"/>\r\n     <use style=\"fill:#001c7f;stroke:#001c7f;\" x=\"63.039866\" xlink:href=\"#m6a01eba466\" y=\"317.502697\"/>\r\n     <use style=\"fill:#001c7f;stroke:#001c7f;\" x=\"63.039866\" xlink:href=\"#m6a01eba466\" y=\"324.250397\"/>\r\n     <use style=\"fill:#001c7f;stroke:#001c7f;\" x=\"63.039866\" xlink:href=\"#m6a01eba466\" y=\"318.925336\"/>\r\n     <use style=\"fill:#001c7f;stroke:#001c7f;\" x=\"63.039866\" xlink:href=\"#m6a01eba466\" y=\"318.925336\"/>\r\n     <use style=\"fill:#001c7f;stroke:#001c7f;\" x=\"63.039866\" xlink:href=\"#m6a01eba466\" y=\"318.925336\"/>\r\n     <use style=\"fill:#001c7f;stroke:#001c7f;\" x=\"63.996438\" xlink:href=\"#m6a01eba466\" y=\"320.117686\"/>\r\n     <use style=\"fill:#001c7f;stroke:#001c7f;\" x=\"63.996438\" xlink:href=\"#m6a01eba466\" y=\"314.106921\"/>\r\n     <use style=\"fill:#001c7f;stroke:#001c7f;\" x=\"63.996438\" xlink:href=\"#m6a01eba466\" y=\"317.676825\"/>\r\n     <use style=\"fill:#001c7f;stroke:#001c7f;\" x=\"63.996438\" xlink:href=\"#m6a01eba466\" y=\"324.250397\"/>\r\n     <use style=\"fill:#001c7f;stroke:#001c7f;\" x=\"63.996438\" xlink:href=\"#m6a01eba466\" y=\"320.117686\"/>\r\n     <use style=\"fill:#001c7f;stroke:#001c7f;\" x=\"63.996438\" xlink:href=\"#m6a01eba466\" y=\"319.204335\"/>\r\n     <use style=\"fill:#001c7f;stroke:#001c7f;\" x=\"63.996438\" xlink:href=\"#m6a01eba466\" y=\"313.933091\"/>\r\n     <use style=\"fill:#001c7f;stroke:#001c7f;\" x=\"63.996438\" xlink:href=\"#m6a01eba466\" y=\"319.204335\"/>\r\n     <use style=\"fill:#001c7f;stroke:#001c7f;\" x=\"63.996438\" xlink:href=\"#m6a01eba466\" y=\"316.795311\"/>\r\n     <use style=\"fill:#001c7f;stroke:#001c7f;\" x=\"63.996438\" xlink:href=\"#m6a01eba466\" y=\"307.942397\"/>\r\n     <use style=\"fill:#001c7f;stroke:#001c7f;\" x=\"63.996438\" xlink:href=\"#m6a01eba466\" y=\"293.18754\"/>\r\n     <use style=\"fill:#001c7f;stroke:#001c7f;\" x=\"63.996438\" xlink:href=\"#m6a01eba466\" y=\"316.657254\"/>\r\n     <use style=\"fill:#001c7f;stroke:#001c7f;\" x=\"63.996438\" xlink:href=\"#m6a01eba466\" y=\"307.476454\"/>\r\n     <use style=\"fill:#001c7f;stroke:#001c7f;\" x=\"63.996438\" xlink:href=\"#m6a01eba466\" y=\"316.767072\"/>\r\n     <use style=\"fill:#001c7f;stroke:#001c7f;\" x=\"63.996438\" xlink:href=\"#m6a01eba466\" y=\"317.502697\"/>\r\n     <use style=\"fill:#001c7f;stroke:#001c7f;\" x=\"63.996438\" xlink:href=\"#m6a01eba466\" y=\"314.106921\"/>\r\n     <use style=\"fill:#001c7f;stroke:#001c7f;\" x=\"63.996438\" xlink:href=\"#m6a01eba466\" y=\"315.863425\"/>\r\n     <use style=\"fill:#001c7f;stroke:#001c7f;\" x=\"63.996438\" xlink:href=\"#m6a01eba466\" y=\"321.033888\"/>\r\n     <use style=\"fill:#001c7f;stroke:#001c7f;\" x=\"63.996438\" xlink:href=\"#m6a01eba466\" y=\"315.863425\"/>\r\n     <use style=\"fill:#001c7f;stroke:#001c7f;\" x=\"63.996438\" xlink:href=\"#m6a01eba466\" y=\"296.293825\"/>\r\n     <use style=\"fill:#001c7f;stroke:#001c7f;\" x=\"63.996438\" xlink:href=\"#m6a01eba466\" y=\"320.127509\"/>\r\n     <use style=\"fill:#001c7f;stroke:#001c7f;\" x=\"63.996438\" xlink:href=\"#m6a01eba466\" y=\"320.117686\"/>\r\n     <use style=\"fill:#001c7f;stroke:#001c7f;\" x=\"63.996438\" xlink:href=\"#m6a01eba466\" y=\"279.209254\"/>\r\n     <use style=\"fill:#001c7f;stroke:#001c7f;\" x=\"63.996438\" xlink:href=\"#m6a01eba466\" y=\"313.067768\"/>\r\n     <use style=\"fill:#001c7f;stroke:#001c7f;\" x=\"63.996438\" xlink:href=\"#m6a01eba466\" y=\"317.727197\"/>\r\n     <use style=\"fill:#001c7f;stroke:#001c7f;\" x=\"63.996438\" xlink:href=\"#m6a01eba466\" y=\"316.404636\"/>\r\n     <use style=\"fill:#001c7f;stroke:#001c7f;\" x=\"63.996438\" xlink:href=\"#m6a01eba466\" y=\"316.795311\"/>\r\n     <use style=\"fill:#001c7f;stroke:#001c7f;\" x=\"63.996438\" xlink:href=\"#m6a01eba466\" y=\"316.767072\"/>\r\n     <use style=\"fill:#001c7f;stroke:#001c7f;\" x=\"63.996438\" xlink:href=\"#m6a01eba466\" y=\"316.404636\"/>\r\n     <use style=\"fill:#001c7f;stroke:#001c7f;\" x=\"63.996438\" xlink:href=\"#m6a01eba466\" y=\"315.006692\"/>\r\n     <use style=\"fill:#001c7f;stroke:#001c7f;\" x=\"64.953009\" xlink:href=\"#m6a01eba466\" y=\"302.118111\"/>\r\n     <use style=\"fill:#001c7f;stroke:#001c7f;\" x=\"64.953009\" xlink:href=\"#m6a01eba466\" y=\"316.404636\"/>\r\n     <use style=\"fill:#001c7f;stroke:#001c7f;\" x=\"64.953009\" xlink:href=\"#m6a01eba466\" y=\"318.1316\"/>\r\n     <use style=\"fill:#001c7f;stroke:#001c7f;\" x=\"64.953009\" xlink:href=\"#m6a01eba466\" y=\"319.204335\"/>\r\n     <use style=\"fill:#001c7f;stroke:#001c7f;\" x=\"64.953009\" xlink:href=\"#m6a01eba466\" y=\"315.006692\"/>\r\n     <use style=\"fill:#001c7f;stroke:#001c7f;\" x=\"64.953009\" xlink:href=\"#m6a01eba466\" y=\"319.357997\"/>\r\n     <use style=\"fill:#001c7f;stroke:#001c7f;\" x=\"64.953009\" xlink:href=\"#m6a01eba466\" y=\"324.526511\"/>\r\n     <use style=\"fill:#001c7f;stroke:#001c7f;\" x=\"64.953009\" xlink:href=\"#m6a01eba466\" y=\"319.204335\"/>\r\n     <use style=\"fill:#001c7f;stroke:#001c7f;\" x=\"64.953009\" xlink:href=\"#m6a01eba466\" y=\"316.404636\"/>\r\n     <use style=\"fill:#001c7f;stroke:#001c7f;\" x=\"64.953009\" xlink:href=\"#m6a01eba466\" y=\"312.135883\"/>\r\n     <use style=\"fill:#001c7f;stroke:#001c7f;\" x=\"64.953009\" xlink:href=\"#m6a01eba466\" y=\"316.404636\"/>\r\n     <use style=\"fill:#001c7f;stroke:#001c7f;\" x=\"64.953009\" xlink:href=\"#m6a01eba466\" y=\"325.730451\"/>\r\n     <use style=\"fill:#001c7f;stroke:#001c7f;\" x=\"64.953009\" xlink:href=\"#m6a01eba466\" y=\"320.117686\"/>\r\n     <use style=\"fill:#001c7f;stroke:#001c7f;\" x=\"64.953009\" xlink:href=\"#m6a01eba466\" y=\"316.795311\"/>\r\n     <use style=\"fill:#001c7f;stroke:#001c7f;\" x=\"64.953009\" xlink:href=\"#m6a01eba466\" y=\"316.329368\"/>\r\n     <use style=\"fill:#001c7f;stroke:#001c7f;\" x=\"64.953009\" xlink:href=\"#m6a01eba466\" y=\"314.106921\"/>\r\n     <use style=\"fill:#001c7f;stroke:#001c7f;\" x=\"64.953009\" xlink:href=\"#m6a01eba466\" y=\"317.676825\"/>\r\n     <use style=\"fill:#001c7f;stroke:#001c7f;\" x=\"64.953009\" xlink:href=\"#m6a01eba466\" y=\"319.590968\"/>\r\n     <use style=\"fill:#001c7f;stroke:#001c7f;\" x=\"64.953009\" xlink:href=\"#m6a01eba466\" y=\"325.436433\"/>\r\n     <use style=\"fill:#001c7f;stroke:#001c7f;\" x=\"64.953009\" xlink:href=\"#m6a01eba466\" y=\"317.502697\"/>\r\n     <use style=\"fill:#001c7f;stroke:#001c7f;\" x=\"64.953009\" xlink:href=\"#m6a01eba466\" y=\"324.685277\"/>\r\n     <use style=\"fill:#001c7f;stroke:#001c7f;\" x=\"64.953009\" xlink:href=\"#m6a01eba466\" y=\"316.795311\"/>\r\n     <use style=\"fill:#001c7f;stroke:#001c7f;\" x=\"64.953009\" xlink:href=\"#m6a01eba466\" y=\"316.795311\"/>\r\n     <use style=\"fill:#001c7f;stroke:#001c7f;\" x=\"64.953009\" xlink:href=\"#m6a01eba466\" y=\"320.789107\"/>\r\n     <use style=\"fill:#001c7f;stroke:#001c7f;\" x=\"64.953009\" xlink:href=\"#m6a01eba466\" y=\"308.40834\"/>\r\n     <use style=\"fill:#001c7f;stroke:#001c7f;\" x=\"64.953009\" xlink:href=\"#m6a01eba466\" y=\"315.304294\"/>\r\n     <use style=\"fill:#001c7f;stroke:#001c7f;\" x=\"64.953009\" xlink:href=\"#m6a01eba466\" y=\"316.404636\"/>\r\n     <use style=\"fill:#001c7f;stroke:#001c7f;\" x=\"64.953009\" xlink:href=\"#m6a01eba466\" y=\"315.397483\"/>\r\n     <use style=\"fill:#001c7f;stroke:#001c7f;\" x=\"64.953009\" xlink:href=\"#m6a01eba466\" y=\"314.106921\"/>\r\n     <use style=\"fill:#001c7f;stroke:#001c7f;\" x=\"64.953009\" xlink:href=\"#m6a01eba466\" y=\"323.163197\"/>\r\n     <use style=\"fill:#001c7f;stroke:#001c7f;\" x=\"65.431295\" xlink:href=\"#m6a01eba466\" y=\"295.76964\"/>\r\n     <use style=\"fill:#001c7f;stroke:#001c7f;\" x=\"65.90958\" xlink:href=\"#m6a01eba466\" y=\"323.504888\"/>\r\n     <use style=\"fill:#001c7f;stroke:#001c7f;\" x=\"65.90958\" xlink:href=\"#m6a01eba466\" y=\"316.767072\"/>\r\n     <use style=\"fill:#001c7f;stroke:#001c7f;\" x=\"65.90958\" xlink:href=\"#m6a01eba466\" y=\"318.925336\"/>\r\n     <use style=\"fill:#001c7f;stroke:#001c7f;\" x=\"65.90958\" xlink:href=\"#m6a01eba466\" y=\"311.355699\"/>\r\n     <use style=\"fill:#001c7f;stroke:#001c7f;\" x=\"65.90958\" xlink:href=\"#m6a01eba466\" y=\"317.502697\"/>\r\n     <use style=\"fill:#001c7f;stroke:#001c7f;\" x=\"65.90958\" xlink:href=\"#m6a01eba466\" y=\"316.404636\"/>\r\n     <use style=\"fill:#001c7f;stroke:#001c7f;\" x=\"65.90958\" xlink:href=\"#m6a01eba466\" y=\"303.083279\"/>\r\n     <use style=\"fill:#001c7f;stroke:#001c7f;\" x=\"65.90958\" xlink:href=\"#m6a01eba466\" y=\"323.024231\"/>\r\n     <use style=\"fill:#001c7f;stroke:#001c7f;\" x=\"65.90958\" xlink:href=\"#m6a01eba466\" y=\"314.864976\"/>\r\n     <use style=\"fill:#001c7f;stroke:#001c7f;\" x=\"65.90958\" xlink:href=\"#m6a01eba466\" y=\"315.397483\"/>\r\n     <use style=\"fill:#001c7f;stroke:#001c7f;\" x=\"65.90958\" xlink:href=\"#m6a01eba466\" y=\"316.767072\"/>\r\n     <use style=\"fill:#001c7f;stroke:#001c7f;\" x=\"65.90958\" xlink:href=\"#m6a01eba466\" y=\"314.93154\"/>\r\n     <use style=\"fill:#001c7f;stroke:#001c7f;\" x=\"65.90958\" xlink:href=\"#m6a01eba466\" y=\"319.590968\"/>\r\n     <use style=\"fill:#001c7f;stroke:#001c7f;\" x=\"65.90958\" xlink:href=\"#m6a01eba466\" y=\"316.404636\"/>\r\n     <use style=\"fill:#001c7f;stroke:#001c7f;\" x=\"65.90958\" xlink:href=\"#m6a01eba466\" y=\"318.925336\"/>\r\n     <use style=\"fill:#001c7f;stroke:#001c7f;\" x=\"65.90958\" xlink:href=\"#m6a01eba466\" y=\"316.404636\"/>\r\n     <use style=\"fill:#001c7f;stroke:#001c7f;\" x=\"65.90958\" xlink:href=\"#m6a01eba466\" y=\"241.498945\"/>\r\n     <use style=\"fill:#001c7f;stroke:#001c7f;\" x=\"65.90958\" xlink:href=\"#m6a01eba466\" y=\"318.925336\"/>\r\n     <use style=\"fill:#001c7f;stroke:#001c7f;\" x=\"65.90958\" xlink:href=\"#m6a01eba466\" y=\"318.1316\"/>\r\n     <use style=\"fill:#001c7f;stroke:#001c7f;\" x=\"65.90958\" xlink:href=\"#m6a01eba466\" y=\"316.404636\"/>\r\n     <use style=\"fill:#001c7f;stroke:#001c7f;\" x=\"65.90958\" xlink:href=\"#m6a01eba466\" y=\"315.397483\"/>\r\n     <use style=\"fill:#001c7f;stroke:#001c7f;\" x=\"65.90958\" xlink:href=\"#m6a01eba466\" y=\"319.031837\"/>\r\n     <use style=\"fill:#001c7f;stroke:#001c7f;\" x=\"66.866152\" xlink:href=\"#m6a01eba466\" y=\"275.79234\"/>\r\n     <use style=\"fill:#001c7f;stroke:#001c7f;\" x=\"66.866152\" xlink:href=\"#m6a01eba466\" y=\"308.511883\"/>\r\n     <use style=\"fill:#001c7f;stroke:#001c7f;\" x=\"66.866152\" xlink:href=\"#m6a01eba466\" y=\"320.127509\"/>\r\n     <use style=\"fill:#001c7f;stroke:#001c7f;\" x=\"66.866152\" xlink:href=\"#m6a01eba466\" y=\"322.75938\"/>\r\n     <use style=\"fill:#001c7f;stroke:#001c7f;\" x=\"66.866152\" xlink:href=\"#m6a01eba466\" y=\"316.404636\"/>\r\n     <use style=\"fill:#001c7f;stroke:#001c7f;\" x=\"66.866152\" xlink:href=\"#m6a01eba466\" y=\"319.311403\"/>\r\n     <use style=\"fill:#001c7f;stroke:#001c7f;\" x=\"66.866152\" xlink:href=\"#m6a01eba466\" y=\"316.404636\"/>\r\n     <use style=\"fill:#001c7f;stroke:#001c7f;\" x=\"66.866152\" xlink:href=\"#m6a01eba466\" y=\"322.75938\"/>\r\n     <use style=\"fill:#001c7f;stroke:#001c7f;\" x=\"66.866152\" xlink:href=\"#m6a01eba466\" y=\"314.93154\"/>\r\n     <use style=\"fill:#001c7f;stroke:#001c7f;\" x=\"66.866152\" xlink:href=\"#m6a01eba466\" y=\"317.502697\"/>\r\n     <use style=\"fill:#001c7f;stroke:#001c7f;\" x=\"66.866152\" xlink:href=\"#m6a01eba466\" y=\"314.106921\"/>\r\n     <use style=\"fill:#001c7f;stroke:#001c7f;\" x=\"66.866152\" xlink:href=\"#m6a01eba466\" y=\"314.358072\"/>\r\n     <use style=\"fill:#001c7f;stroke:#001c7f;\" x=\"66.866152\" xlink:href=\"#m6a01eba466\" y=\"322.153654\"/>\r\n     <use style=\"fill:#001c7f;stroke:#001c7f;\" x=\"66.866152\" xlink:href=\"#m6a01eba466\" y=\"315.304294\"/>\r\n     <use style=\"fill:#001c7f;stroke:#001c7f;\" x=\"66.866152\" xlink:href=\"#m6a01eba466\" y=\"315.304294\"/>\r\n     <use style=\"fill:#001c7f;stroke:#001c7f;\" x=\"66.866152\" xlink:href=\"#m6a01eba466\" y=\"312.135883\"/>\r\n     <use style=\"fill:#001c7f;stroke:#001c7f;\" x=\"66.866152\" xlink:href=\"#m6a01eba466\" y=\"315.064666\"/>\r\n     <use style=\"fill:#001c7f;stroke:#001c7f;\" x=\"66.866152\" xlink:href=\"#m6a01eba466\" y=\"302.351083\"/>\r\n     <use style=\"fill:#001c7f;stroke:#001c7f;\" x=\"66.866152\" xlink:href=\"#m6a01eba466\" y=\"319.204335\"/>\r\n     <use style=\"fill:#001c7f;stroke:#001c7f;\" x=\"66.866152\" xlink:href=\"#m6a01eba466\" y=\"316.404636\"/>\r\n     <use style=\"fill:#001c7f;stroke:#001c7f;\" x=\"66.866152\" xlink:href=\"#m6a01eba466\" y=\"314.106921\"/>\r\n     <use style=\"fill:#001c7f;stroke:#001c7f;\" x=\"66.866152\" xlink:href=\"#m6a01eba466\" y=\"323.318511\"/>\r\n     <use style=\"fill:#001c7f;stroke:#001c7f;\" x=\"66.866152\" xlink:href=\"#m6a01eba466\" y=\"317.261254\"/>\r\n     <use style=\"fill:#001c7f;stroke:#001c7f;\" x=\"66.866152\" xlink:href=\"#m6a01eba466\" y=\"315.006692\"/>\r\n     <use style=\"fill:#001c7f;stroke:#001c7f;\" x=\"66.866152\" xlink:href=\"#m6a01eba466\" y=\"315.863425\"/>\r\n     <use style=\"fill:#001c7f;stroke:#001c7f;\" x=\"67.822723\" xlink:href=\"#m6a01eba466\" y=\"316.404636\"/>\r\n     <use style=\"fill:#001c7f;stroke:#001c7f;\" x=\"67.822723\" xlink:href=\"#m6a01eba466\" y=\"316.657254\"/>\r\n     <use style=\"fill:#001c7f;stroke:#001c7f;\" x=\"67.822723\" xlink:href=\"#m6a01eba466\" y=\"254.358968\"/>\r\n     <use style=\"fill:#001c7f;stroke:#001c7f;\" x=\"67.822723\" xlink:href=\"#m6a01eba466\" y=\"285.111197\"/>\r\n     <use style=\"fill:#001c7f;stroke:#001c7f;\" x=\"67.822723\" xlink:href=\"#m6a01eba466\" y=\"316.737068\"/>\r\n     <use style=\"fill:#001c7f;stroke:#001c7f;\" x=\"67.822723\" xlink:href=\"#m6a01eba466\" y=\"325.492911\"/>\r\n     <use style=\"fill:#001c7f;stroke:#001c7f;\" x=\"67.822723\" xlink:href=\"#m6a01eba466\" y=\"318.925336\"/>\r\n     <use style=\"fill:#001c7f;stroke:#001c7f;\" x=\"67.822723\" xlink:href=\"#m6a01eba466\" y=\"315.336707\"/>\r\n     <use style=\"fill:#001c7f;stroke:#001c7f;\" x=\"67.822723\" xlink:href=\"#m6a01eba466\" y=\"316.404636\"/>\r\n     <use style=\"fill:#001c7f;stroke:#001c7f;\" x=\"67.822723\" xlink:href=\"#m6a01eba466\" y=\"314.106921\"/>\r\n     <use style=\"fill:#001c7f;stroke:#001c7f;\" x=\"67.822723\" xlink:href=\"#m6a01eba466\" y=\"314.106921\"/>\r\n     <use style=\"fill:#001c7f;stroke:#001c7f;\" x=\"67.822723\" xlink:href=\"#m6a01eba466\" y=\"319.204335\"/>\r\n     <use style=\"fill:#001c7f;stroke:#001c7f;\" x=\"67.822723\" xlink:href=\"#m6a01eba466\" y=\"313.999654\"/>\r\n     <use style=\"fill:#001c7f;stroke:#001c7f;\" x=\"67.822723\" xlink:href=\"#m6a01eba466\" y=\"313.999654\"/>\r\n     <use style=\"fill:#001c7f;stroke:#001c7f;\" x=\"67.822723\" xlink:href=\"#m6a01eba466\" y=\"319.125025\"/>\r\n     <use style=\"fill:#001c7f;stroke:#001c7f;\" x=\"67.822723\" xlink:href=\"#m6a01eba466\" y=\"314.106921\"/>\r\n     <use style=\"fill:#001c7f;stroke:#001c7f;\" x=\"67.822723\" xlink:href=\"#m6a01eba466\" y=\"315.336707\"/>\r\n     <use style=\"fill:#001c7f;stroke:#001c7f;\" x=\"67.822723\" xlink:href=\"#m6a01eba466\" y=\"300.558995\"/>\r\n     <use style=\"fill:#001c7f;stroke:#001c7f;\" x=\"67.822723\" xlink:href=\"#m6a01eba466\" y=\"311.355699\"/>\r\n     <use style=\"fill:#001c7f;stroke:#001c7f;\" x=\"67.822723\" xlink:href=\"#m6a01eba466\" y=\"316.404636\"/>\r\n     <use style=\"fill:#001c7f;stroke:#001c7f;\" x=\"68.779295\" xlink:href=\"#m6a01eba466\" y=\"308.839117\"/>\r\n     <use style=\"fill:#001c7f;stroke:#001c7f;\" x=\"68.779295\" xlink:href=\"#m6a01eba466\" y=\"307.942397\"/>\r\n     <use style=\"fill:#001c7f;stroke:#001c7f;\" x=\"68.779295\" xlink:href=\"#m6a01eba466\" y=\"299.954805\"/>\r\n     <use style=\"fill:#001c7f;stroke:#001c7f;\" x=\"68.779295\" xlink:href=\"#m6a01eba466\" y=\"308.40834\"/>\r\n     <use style=\"fill:#001c7f;stroke:#001c7f;\" x=\"68.779295\" xlink:href=\"#m6a01eba466\" y=\"317.676825\"/>\r\n     <use style=\"fill:#001c7f;stroke:#001c7f;\" x=\"68.779295\" xlink:href=\"#m6a01eba466\" y=\"326.580111\"/>\r\n     <use style=\"fill:#001c7f;stroke:#001c7f;\" x=\"68.779295\" xlink:href=\"#m6a01eba466\" y=\"314.106921\"/>\r\n     <use style=\"fill:#001c7f;stroke:#001c7f;\" x=\"68.779295\" xlink:href=\"#m6a01eba466\" y=\"310.58274\"/>\r\n     <use style=\"fill:#001c7f;stroke:#001c7f;\" x=\"68.779295\" xlink:href=\"#m6a01eba466\" y=\"315.064666\"/>\r\n     <use style=\"fill:#001c7f;stroke:#001c7f;\" x=\"68.779295\" xlink:href=\"#m6a01eba466\" y=\"320.117686\"/>\r\n     <use style=\"fill:#001c7f;stroke:#001c7f;\" x=\"68.779295\" xlink:href=\"#m6a01eba466\" y=\"315.304294\"/>\r\n     <use style=\"fill:#001c7f;stroke:#001c7f;\" x=\"68.779295\" xlink:href=\"#m6a01eba466\" y=\"312.135883\"/>\r\n     <use style=\"fill:#001c7f;stroke:#001c7f;\" x=\"68.779295\" xlink:href=\"#m6a01eba466\" y=\"292.566283\"/>\r\n     <use style=\"fill:#001c7f;stroke:#001c7f;\" x=\"68.779295\" xlink:href=\"#m6a01eba466\" y=\"311.355699\"/>\r\n     <use style=\"fill:#001c7f;stroke:#001c7f;\" x=\"68.779295\" xlink:href=\"#m6a01eba466\" y=\"323.62914\"/>\r\n     <use style=\"fill:#001c7f;stroke:#001c7f;\" x=\"69.735866\" xlink:href=\"#m6a01eba466\" y=\"315.304294\"/>\r\n     <use style=\"fill:#001c7f;stroke:#001c7f;\" x=\"69.735866\" xlink:href=\"#m6a01eba466\" y=\"314.106921\"/>\r\n     <use style=\"fill:#001c7f;stroke:#001c7f;\" x=\"69.735866\" xlink:href=\"#m6a01eba466\" y=\"313.999654\"/>\r\n     <use style=\"fill:#001c7f;stroke:#001c7f;\" x=\"69.735866\" xlink:href=\"#m6a01eba466\" y=\"320.117686\"/>\r\n     <use style=\"fill:#001c7f;stroke:#001c7f;\" x=\"69.735866\" xlink:href=\"#m6a01eba466\" y=\"313.999654\"/>\r\n     <use style=\"fill:#001c7f;stroke:#001c7f;\" x=\"69.735866\" xlink:href=\"#m6a01eba466\" y=\"311.355699\"/>\r\n     <use style=\"fill:#001c7f;stroke:#001c7f;\" x=\"69.735866\" xlink:href=\"#m6a01eba466\" y=\"305.75829\"/>\r\n     <use style=\"fill:#001c7f;stroke:#001c7f;\" x=\"69.735866\" xlink:href=\"#m6a01eba466\" y=\"307.942397\"/>\r\n     <use style=\"fill:#001c7f;stroke:#001c7f;\" x=\"69.735866\" xlink:href=\"#m6a01eba466\" y=\"298.390568\"/>\r\n     <use style=\"fill:#001c7f;stroke:#001c7f;\" x=\"70.692438\" xlink:href=\"#m6a01eba466\" y=\"326.580111\"/>\r\n     <use style=\"fill:#001c7f;stroke:#001c7f;\" x=\"70.692438\" xlink:href=\"#m6a01eba466\" y=\"314.106921\"/>\r\n     <use style=\"fill:#001c7f;stroke:#001c7f;\" x=\"70.692438\" xlink:href=\"#m6a01eba466\" y=\"303.748911\"/>\r\n     <use style=\"fill:#001c7f;stroke:#001c7f;\" x=\"70.692438\" xlink:href=\"#m6a01eba466\" y=\"306.078625\"/>\r\n     <use style=\"fill:#001c7f;stroke:#001c7f;\" x=\"70.692438\" xlink:href=\"#m6a01eba466\" y=\"311.203997\"/>\r\n     <use style=\"fill:#001c7f;stroke:#001c7f;\" x=\"70.692438\" xlink:href=\"#m6a01eba466\" y=\"315.006692\"/>\r\n     <use style=\"fill:#001c7f;stroke:#001c7f;\" x=\"70.692438\" xlink:href=\"#m6a01eba466\" y=\"315.304294\"/>\r\n     <use style=\"fill:#001c7f;stroke:#001c7f;\" x=\"70.692438\" xlink:href=\"#m6a01eba466\" y=\"311.203997\"/>\r\n     <use style=\"fill:#001c7f;stroke:#001c7f;\" x=\"70.692438\" xlink:href=\"#m6a01eba466\" y=\"314.106921\"/>\r\n     <use style=\"fill:#001c7f;stroke:#001c7f;\" x=\"70.692438\" xlink:href=\"#m6a01eba466\" y=\"320.41322\"/>\r\n     <use style=\"fill:#001c7f;stroke:#001c7f;\" x=\"70.692438\" xlink:href=\"#m6a01eba466\" y=\"317.549695\"/>\r\n     <use style=\"fill:#001c7f;stroke:#001c7f;\" x=\"70.692438\" xlink:href=\"#m6a01eba466\" y=\"320.127509\"/>\r\n     <use style=\"fill:#001c7f;stroke:#001c7f;\" x=\"70.692438\" xlink:href=\"#m6a01eba466\" y=\"311.203997\"/>\r\n     <use style=\"fill:#001c7f;stroke:#001c7f;\" x=\"70.692438\" xlink:href=\"#m6a01eba466\" y=\"319.204335\"/>\r\n     <use style=\"fill:#001c7f;stroke:#001c7f;\" x=\"70.692438\" xlink:href=\"#m6a01eba466\" y=\"261.814054\"/>\r\n     <use style=\"fill:#001c7f;stroke:#001c7f;\" x=\"70.692438\" xlink:href=\"#m6a01eba466\" y=\"305.75829\"/>\r\n     <use style=\"fill:#001c7f;stroke:#001c7f;\" x=\"71.170723\" xlink:href=\"#m6a01eba466\" y=\"261.814054\"/>\r\n     <use style=\"fill:#001c7f;stroke:#001c7f;\" x=\"71.649009\" xlink:href=\"#m6a01eba466\" y=\"312.508637\"/>\r\n     <use style=\"fill:#001c7f;stroke:#001c7f;\" x=\"71.649009\" xlink:href=\"#m6a01eba466\" y=\"323.024231\"/>\r\n     <use style=\"fill:#001c7f;stroke:#001c7f;\" x=\"71.649009\" xlink:href=\"#m6a01eba466\" y=\"320.127509\"/>\r\n     <use style=\"fill:#001c7f;stroke:#001c7f;\" x=\"71.649009\" xlink:href=\"#m6a01eba466\" y=\"277.656111\"/>\r\n     <use style=\"fill:#001c7f;stroke:#001c7f;\" x=\"71.649009\" xlink:href=\"#m6a01eba466\" y=\"296.293825\"/>\r\n     <use style=\"fill:#001c7f;stroke:#001c7f;\" x=\"71.649009\" xlink:href=\"#m6a01eba466\" y=\"310.272111\"/>\r\n     <use style=\"fill:#001c7f;stroke:#001c7f;\" x=\"72.60558\" xlink:href=\"#m6a01eba466\" y=\"323.024231\"/>\r\n     <use style=\"fill:#001c7f;stroke:#001c7f;\" x=\"72.60558\" xlink:href=\"#m6a01eba466\" y=\"314.53216\"/>\r\n     <use style=\"fill:#001c7f;stroke:#001c7f;\" x=\"72.60558\" xlink:href=\"#m6a01eba466\" y=\"314.106921\"/>\r\n     <use style=\"fill:#001c7f;stroke:#001c7f;\" x=\"72.60558\" xlink:href=\"#m6a01eba466\" y=\"311.355699\"/>\r\n     <use style=\"fill:#001c7f;stroke:#001c7f;\" x=\"72.60558\" xlink:href=\"#m6a01eba466\" y=\"314.106921\"/>\r\n     <use style=\"fill:#001c7f;stroke:#001c7f;\" x=\"72.60558\" xlink:href=\"#m6a01eba466\" y=\"305.75829\"/>\r\n     <use style=\"fill:#001c7f;stroke:#001c7f;\" x=\"72.60558\" xlink:href=\"#m6a01eba466\" y=\"311.526573\"/>\r\n     <use style=\"fill:#001c7f;stroke:#001c7f;\" x=\"72.60558\" xlink:href=\"#m6a01eba466\" y=\"322.945757\"/>\r\n     <use style=\"fill:#001c7f;stroke:#001c7f;\" x=\"73.562152\" xlink:href=\"#m6a01eba466\" y=\"324.526511\"/>\r\n     <use style=\"fill:#001c7f;stroke:#001c7f;\" x=\"73.562152\" xlink:href=\"#m6a01eba466\" y=\"315.336707\"/>\r\n     <use style=\"fill:#001c7f;stroke:#001c7f;\" x=\"73.562152\" xlink:href=\"#m6a01eba466\" y=\"286.974968\"/>\r\n     <use style=\"fill:#001c7f;stroke:#001c7f;\" x=\"73.562152\" xlink:href=\"#m6a01eba466\" y=\"315.006692\"/>\r\n     <use style=\"fill:#001c7f;stroke:#001c7f;\" x=\"73.562152\" xlink:href=\"#m6a01eba466\" y=\"265.071086\"/>\r\n     <use style=\"fill:#001c7f;stroke:#001c7f;\" x=\"74.518723\" xlink:href=\"#m6a01eba466\" y=\"300.558995\"/>\r\n     <use style=\"fill:#001c7f;stroke:#001c7f;\" x=\"74.518723\" xlink:href=\"#m6a01eba466\" y=\"315.064666\"/>\r\n     <use style=\"fill:#001c7f;stroke:#001c7f;\" x=\"74.518723\" xlink:href=\"#m6a01eba466\" y=\"307.476454\"/>\r\n     <use style=\"fill:#001c7f;stroke:#001c7f;\" x=\"74.518723\" xlink:href=\"#m6a01eba466\" y=\"311.355699\"/>\r\n     <use style=\"fill:#001c7f;stroke:#001c7f;\" x=\"74.518723\" xlink:href=\"#m6a01eba466\" y=\"314.106921\"/>\r\n     <use style=\"fill:#001c7f;stroke:#001c7f;\" x=\"75.475295\" xlink:href=\"#m6a01eba466\" y=\"316.404636\"/>\r\n     <use style=\"fill:#001c7f;stroke:#001c7f;\" x=\"75.475295\" xlink:href=\"#m6a01eba466\" y=\"308.839117\"/>\r\n     <use style=\"fill:#001c7f;stroke:#001c7f;\" x=\"75.475295\" xlink:href=\"#m6a01eba466\" y=\"314.93154\"/>\r\n     <use style=\"fill:#001c7f;stroke:#001c7f;\" x=\"75.475295\" xlink:href=\"#m6a01eba466\" y=\"295.76964\"/>\r\n     <use style=\"fill:#001c7f;stroke:#001c7f;\" x=\"75.475295\" xlink:href=\"#m6a01eba466\" y=\"314.106921\"/>\r\n     <use style=\"fill:#001c7f;stroke:#001c7f;\" x=\"75.475295\" xlink:href=\"#m6a01eba466\" y=\"314.358072\"/>\r\n     <use style=\"fill:#001c7f;stroke:#001c7f;\" x=\"76.431866\" xlink:href=\"#m6a01eba466\" y=\"299.954805\"/>\r\n     <use style=\"fill:#001c7f;stroke:#001c7f;\" x=\"76.431866\" xlink:href=\"#m6a01eba466\" y=\"302.620839\"/>\r\n     <use style=\"fill:#001c7f;stroke:#001c7f;\" x=\"76.431866\" xlink:href=\"#m6a01eba466\" y=\"314.93154\"/>\r\n     <use style=\"fill:#001c7f;stroke:#001c7f;\" x=\"77.388438\" xlink:href=\"#m6a01eba466\" y=\"305.426305\"/>\r\n     <use style=\"fill:#001c7f;stroke:#001c7f;\" x=\"77.388438\" xlink:href=\"#m6a01eba466\" y=\"327.046054\"/>\r\n     <use style=\"fill:#001c7f;stroke:#001c7f;\" x=\"77.388438\" xlink:href=\"#m6a01eba466\" y=\"304.680797\"/>\r\n     <use style=\"fill:#001c7f;stroke:#001c7f;\" x=\"77.388438\" xlink:href=\"#m6a01eba466\" y=\"323.024231\"/>\r\n     <use style=\"fill:#001c7f;stroke:#001c7f;\" x=\"77.388438\" xlink:href=\"#m6a01eba466\" y=\"304.680797\"/>\r\n     <use style=\"fill:#001c7f;stroke:#001c7f;\" x=\"78.345009\" xlink:href=\"#m6a01eba466\" y=\"303.748911\"/>\r\n     <use style=\"fill:#001c7f;stroke:#001c7f;\" x=\"78.345009\" xlink:href=\"#m6a01eba466\" y=\"324.541611\"/>\r\n     <use style=\"fill:#001c7f;stroke:#001c7f;\" x=\"78.345009\" xlink:href=\"#m6a01eba466\" y=\"316.795311\"/>\r\n     <use style=\"fill:#001c7f;stroke:#001c7f;\" x=\"78.345009\" xlink:href=\"#m6a01eba466\" y=\"303.748911\"/>\r\n     <use style=\"fill:#001c7f;stroke:#001c7f;\" x=\"79.30158\" xlink:href=\"#m6a01eba466\" y=\"261.814054\"/>\r\n     <use style=\"fill:#001c7f;stroke:#001c7f;\" x=\"80.258152\" xlink:href=\"#m6a01eba466\" y=\"323.024231\"/>\r\n     <use style=\"fill:#001c7f;stroke:#001c7f;\" x=\"80.258152\" xlink:href=\"#m6a01eba466\" y=\"315.006692\"/>\r\n     <use style=\"fill:#001c7f;stroke:#001c7f;\" x=\"80.736438\" xlink:href=\"#m6a01eba466\" y=\"302.118111\"/>\r\n     <use style=\"fill:#001c7f;stroke:#001c7f;\" x=\"81.214723\" xlink:href=\"#m6a01eba466\" y=\"316.404636\"/>\r\n     <use style=\"fill:#001c7f;stroke:#001c7f;\" x=\"81.214723\" xlink:href=\"#m6a01eba466\" y=\"307.942397\"/>\r\n     <use style=\"fill:#001c7f;stroke:#001c7f;\" x=\"81.214723\" xlink:href=\"#m6a01eba466\" y=\"299.089483\"/>\r\n     <use style=\"fill:#001c7f;stroke:#001c7f;\" x=\"82.171295\" xlink:href=\"#m6a01eba466\" y=\"314.106921\"/>\r\n     <use style=\"fill:#001c7f;stroke:#001c7f;\" x=\"82.171295\" xlink:href=\"#m6a01eba466\" y=\"303.562534\"/>\r\n     <use style=\"fill:#001c7f;stroke:#001c7f;\" x=\"82.171295\" xlink:href=\"#m6a01eba466\" y=\"308.839117\"/>\r\n     <use style=\"fill:#001c7f;stroke:#001c7f;\" x=\"82.171295\" xlink:href=\"#m6a01eba466\" y=\"265.071086\"/>\r\n     <use style=\"fill:#001c7f;stroke:#001c7f;\" x=\"82.171295\" xlink:href=\"#m6a01eba466\" y=\"307.942397\"/>\r\n     <use style=\"fill:#001c7f;stroke:#001c7f;\" x=\"82.171295\" xlink:href=\"#m6a01eba466\" y=\"307.942397\"/>\r\n     <use style=\"fill:#001c7f;stroke:#001c7f;\" x=\"83.127866\" xlink:href=\"#m6a01eba466\" y=\"265.071086\"/>\r\n     <use style=\"fill:#001c7f;stroke:#001c7f;\" x=\"83.127866\" xlink:href=\"#m6a01eba466\" y=\"322.386625\"/>\r\n     <use style=\"fill:#001c7f;stroke:#001c7f;\" x=\"83.127866\" xlink:href=\"#m6a01eba466\" y=\"296.132538\"/>\r\n     <use style=\"fill:#001c7f;stroke:#001c7f;\" x=\"83.127866\" xlink:href=\"#m6a01eba466\" y=\"290.702511\"/>\r\n     <use style=\"fill:#001c7f;stroke:#001c7f;\" x=\"84.084438\" xlink:href=\"#m6a01eba466\" y=\"298.157597\"/>\r\n     <use style=\"fill:#001c7f;stroke:#001c7f;\" x=\"84.084438\" xlink:href=\"#m6a01eba466\" y=\"308.839117\"/>\r\n     <use style=\"fill:#001c7f;stroke:#001c7f;\" x=\"84.084438\" xlink:href=\"#m6a01eba466\" y=\"325.499124\"/>\r\n     <use style=\"fill:#001c7f;stroke:#001c7f;\" x=\"84.084438\" xlink:href=\"#m6a01eba466\" y=\"316.767072\"/>\r\n     <use style=\"fill:#001c7f;stroke:#001c7f;\" x=\"85.041009\" xlink:href=\"#m6a01eba466\" y=\"286.974968\"/>\r\n     <use style=\"fill:#001c7f;stroke:#001c7f;\" x=\"85.041009\" xlink:href=\"#m6a01eba466\" y=\"294.895997\"/>\r\n     <use style=\"fill:#001c7f;stroke:#001c7f;\" x=\"85.041009\" xlink:href=\"#m6a01eba466\" y=\"291.634397\"/>\r\n     <use style=\"fill:#001c7f;stroke:#001c7f;\" x=\"85.041009\" xlink:href=\"#m6a01eba466\" y=\"267.405368\"/>\r\n     <use style=\"fill:#001c7f;stroke:#001c7f;\" x=\"85.041009\" xlink:href=\"#m6a01eba466\" y=\"296.132538\"/>\r\n     <use style=\"fill:#001c7f;stroke:#001c7f;\" x=\"85.041009\" xlink:href=\"#m6a01eba466\" y=\"286.974968\"/>\r\n     <use style=\"fill:#001c7f;stroke:#001c7f;\" x=\"85.99758\" xlink:href=\"#m6a01eba466\" y=\"292.255654\"/>\r\n     <use style=\"fill:#001c7f;stroke:#001c7f;\" x=\"85.99758\" xlink:href=\"#m6a01eba466\" y=\"326.114168\"/>\r\n     <use style=\"fill:#001c7f;stroke:#001c7f;\" x=\"86.475866\" xlink:href=\"#m6a01eba466\" y=\"295.827883\"/>\r\n     <use style=\"fill:#001c7f;stroke:#001c7f;\" x=\"86.954152\" xlink:href=\"#m6a01eba466\" y=\"295.36194\"/>\r\n     <use style=\"fill:#001c7f;stroke:#001c7f;\" x=\"86.954152\" xlink:href=\"#m6a01eba466\" y=\"312.135883\"/>\r\n     <use style=\"fill:#001c7f;stroke:#001c7f;\" x=\"86.954152\" xlink:href=\"#m6a01eba466\" y=\"299.954805\"/>\r\n     <use style=\"fill:#001c7f;stroke:#001c7f;\" x=\"86.954152\" xlink:href=\"#m6a01eba466\" y=\"275.79234\"/>\r\n     <use style=\"fill:#001c7f;stroke:#001c7f;\" x=\"86.954152\" xlink:href=\"#m6a01eba466\" y=\"295.36194\"/>\r\n     <use style=\"fill:#001c7f;stroke:#001c7f;\" x=\"86.954152\" xlink:href=\"#m6a01eba466\" y=\"293.498168\"/>\r\n     <use style=\"fill:#001c7f;stroke:#001c7f;\" x=\"86.954152\" xlink:href=\"#m6a01eba466\" y=\"282.160225\"/>\r\n     <use style=\"fill:#001c7f;stroke:#001c7f;\" x=\"87.432438\" xlink:href=\"#m6a01eba466\" y=\"265.071086\"/>\r\n     <use style=\"fill:#001c7f;stroke:#001c7f;\" x=\"87.910723\" xlink:href=\"#m6a01eba466\" y=\"315.863425\"/>\r\n     <use style=\"fill:#001c7f;stroke:#001c7f;\" x=\"87.910723\" xlink:href=\"#m6a01eba466\" y=\"279.519883\"/>\r\n     <use style=\"fill:#001c7f;stroke:#001c7f;\" x=\"87.910723\" xlink:href=\"#m6a01eba466\" y=\"323.318511\"/>\r\n     <use style=\"fill:#001c7f;stroke:#001c7f;\" x=\"87.910723\" xlink:href=\"#m6a01eba466\" y=\"291.634397\"/>\r\n     <use style=\"fill:#001c7f;stroke:#001c7f;\" x=\"87.910723\" xlink:href=\"#m6a01eba466\" y=\"265.684964\"/>\r\n     <use style=\"fill:#001c7f;stroke:#001c7f;\" x=\"87.910723\" xlink:href=\"#m6a01eba466\" y=\"314.864976\"/>\r\n     <use style=\"fill:#001c7f;stroke:#001c7f;\" x=\"87.910723\" xlink:href=\"#m6a01eba466\" y=\"292.566283\"/>\r\n     <use style=\"fill:#001c7f;stroke:#001c7f;\" x=\"87.910723\" xlink:href=\"#m6a01eba466\" y=\"283.734548\"/>\r\n     <use style=\"fill:#001c7f;stroke:#001c7f;\" x=\"87.910723\" xlink:href=\"#m6a01eba466\" y=\"292.566283\"/>\r\n     <use style=\"fill:#001c7f;stroke:#001c7f;\" x=\"88.867295\" xlink:href=\"#m6a01eba466\" y=\"313.999654\"/>\r\n     <use style=\"fill:#001c7f;stroke:#001c7f;\" x=\"88.867295\" xlink:href=\"#m6a01eba466\" y=\"297.575168\"/>\r\n     <use style=\"fill:#001c7f;stroke:#001c7f;\" x=\"89.34558\" xlink:href=\"#m6a01eba466\" y=\"303.083279\"/>\r\n     <use style=\"fill:#001c7f;stroke:#001c7f;\" x=\"89.823866\" xlink:href=\"#m6a01eba466\" y=\"298.157597\"/>\r\n     <use style=\"fill:#001c7f;stroke:#001c7f;\" x=\"89.823866\" xlink:href=\"#m6a01eba466\" y=\"308.839117\"/>\r\n     <use style=\"fill:#001c7f;stroke:#001c7f;\" x=\"89.823866\" xlink:href=\"#m6a01eba466\" y=\"320.522854\"/>\r\n     <use style=\"fill:#001c7f;stroke:#001c7f;\" x=\"89.823866\" xlink:href=\"#m6a01eba466\" y=\"228.266168\"/>\r\n     <use style=\"fill:#001c7f;stroke:#001c7f;\" x=\"90.780438\" xlink:href=\"#m6a01eba466\" y=\"308.839117\"/>\r\n     <use style=\"fill:#001c7f;stroke:#001c7f;\" x=\"90.780438\" xlink:href=\"#m6a01eba466\" y=\"282.936797\"/>\r\n     <use style=\"fill:#001c7f;stroke:#001c7f;\" x=\"90.780438\" xlink:href=\"#m6a01eba466\" y=\"282.31554\"/>\r\n     <use style=\"fill:#001c7f;stroke:#001c7f;\" x=\"90.780438\" xlink:href=\"#m6a01eba466\" y=\"289.304683\"/>\r\n     <use style=\"fill:#001c7f;stroke:#001c7f;\" x=\"90.780438\" xlink:href=\"#m6a01eba466\" y=\"320.755825\"/>\r\n     <use style=\"fill:#001c7f;stroke:#001c7f;\" x=\"91.737009\" xlink:href=\"#m6a01eba466\" y=\"286.974968\"/>\r\n     <use style=\"fill:#001c7f;stroke:#001c7f;\" x=\"91.737009\" xlink:href=\"#m6a01eba466\" y=\"278.587997\"/>\r\n     <use style=\"fill:#001c7f;stroke:#001c7f;\" x=\"91.737009\" xlink:href=\"#m6a01eba466\" y=\"285.362089\"/>\r\n     <use style=\"fill:#001c7f;stroke:#001c7f;\" x=\"91.737009\" xlink:href=\"#m6a01eba466\" y=\"270.259268\"/>\r\n     <use style=\"fill:#001c7f;stroke:#001c7f;\" x=\"91.737009\" xlink:href=\"#m6a01eba466\" y=\"316.767072\"/>\r\n     <use style=\"fill:#001c7f;stroke:#001c7f;\" x=\"92.69358\" xlink:href=\"#m6a01eba466\" y=\"269.26914\"/>\r\n     <use style=\"fill:#001c7f;stroke:#001c7f;\" x=\"92.69358\" xlink:href=\"#m6a01eba466\" y=\"311.355699\"/>\r\n     <use style=\"fill:#001c7f;stroke:#001c7f;\" x=\"92.69358\" xlink:href=\"#m6a01eba466\" y=\"289.770625\"/>\r\n     <use style=\"fill:#001c7f;stroke:#001c7f;\" x=\"92.69358\" xlink:href=\"#m6a01eba466\" y=\"272.996683\"/>\r\n     <use style=\"fill:#001c7f;stroke:#001c7f;\" x=\"92.69358\" xlink:href=\"#m6a01eba466\" y=\"303.562534\"/>\r\n     <use style=\"fill:#001c7f;stroke:#001c7f;\" x=\"93.171866\" xlink:href=\"#m6a01eba466\" y=\"279.908168\"/>\r\n     <use style=\"fill:#001c7f;stroke:#001c7f;\" x=\"93.650152\" xlink:href=\"#m6a01eba466\" y=\"307.476454\"/>\r\n     <use style=\"fill:#001c7f;stroke:#001c7f;\" x=\"93.650152\" xlink:href=\"#m6a01eba466\" y=\"231.559358\"/>\r\n     <use style=\"fill:#001c7f;stroke:#001c7f;\" x=\"93.650152\" xlink:href=\"#m6a01eba466\" y=\"257.154625\"/>\r\n     <use style=\"fill:#001c7f;stroke:#001c7f;\" x=\"93.650152\" xlink:href=\"#m6a01eba466\" y=\"286.136271\"/>\r\n     <use style=\"fill:#001c7f;stroke:#001c7f;\" x=\"94.606723\" xlink:href=\"#m6a01eba466\" y=\"270.259268\"/>\r\n     <use style=\"fill:#001c7f;stroke:#001c7f;\" x=\"94.606723\" xlink:href=\"#m6a01eba466\" y=\"282.936797\"/>\r\n     <use style=\"fill:#001c7f;stroke:#001c7f;\" x=\"94.606723\" xlink:href=\"#m6a01eba466\" y=\"282.936797\"/>\r\n     <use style=\"fill:#001c7f;stroke:#001c7f;\" x=\"95.563295\" xlink:href=\"#m6a01eba466\" y=\"268.897736\"/>\r\n     <use style=\"fill:#001c7f;stroke:#001c7f;\" x=\"95.563295\" xlink:href=\"#m6a01eba466\" y=\"272.686054\"/>\r\n     <use style=\"fill:#001c7f;stroke:#001c7f;\" x=\"96.04158\" xlink:href=\"#m6a01eba466\" y=\"296.132538\"/>\r\n     <use style=\"fill:#001c7f;stroke:#001c7f;\" x=\"96.519866\" xlink:href=\"#m6a01eba466\" y=\"286.043083\"/>\r\n     <use style=\"fill:#001c7f;stroke:#001c7f;\" x=\"96.519866\" xlink:href=\"#m6a01eba466\" y=\"325.492911\"/>\r\n     <use style=\"fill:#001c7f;stroke:#001c7f;\" x=\"96.519866\" xlink:href=\"#m6a01eba466\" y=\"292.007151\"/>\r\n     <use style=\"fill:#001c7f;stroke:#001c7f;\" x=\"96.519866\" xlink:href=\"#m6a01eba466\" y=\"304.680797\"/>\r\n     <use style=\"fill:#001c7f;stroke:#001c7f;\" x=\"97.476438\" xlink:href=\"#m6a01eba466\" y=\"285.111197\"/>\r\n     <use style=\"fill:#001c7f;stroke:#001c7f;\" x=\"97.476438\" xlink:href=\"#m6a01eba466\" y=\"295.76964\"/>\r\n     <use style=\"fill:#001c7f;stroke:#001c7f;\" x=\"97.476438\" xlink:href=\"#m6a01eba466\" y=\"285.111197\"/>\r\n     <use style=\"fill:#001c7f;stroke:#001c7f;\" x=\"97.476438\" xlink:href=\"#m6a01eba466\" y=\"292.255654\"/>\r\n     <use style=\"fill:#001c7f;stroke:#001c7f;\" x=\"98.433009\" xlink:href=\"#m6a01eba466\" y=\"313.999654\"/>\r\n     <use style=\"fill:#001c7f;stroke:#001c7f;\" x=\"98.433009\" xlink:href=\"#m6a01eba466\" y=\"315.397483\"/>\r\n     <use style=\"fill:#001c7f;stroke:#001c7f;\" x=\"98.433009\" xlink:href=\"#m6a01eba466\" y=\"268.897736\"/>\r\n     <use style=\"fill:#001c7f;stroke:#001c7f;\" x=\"99.38958\" xlink:href=\"#m6a01eba466\" y=\"296.132538\"/>\r\n     <use style=\"fill:#001c7f;stroke:#001c7f;\" x=\"99.38958\" xlink:href=\"#m6a01eba466\" y=\"264.445261\"/>\r\n     <use style=\"fill:#001c7f;stroke:#001c7f;\" x=\"99.38958\" xlink:href=\"#m6a01eba466\" y=\"268.897736\"/>\r\n     <use style=\"fill:#001c7f;stroke:#001c7f;\" x=\"99.38958\" xlink:href=\"#m6a01eba466\" y=\"268.897736\"/>\r\n     <use style=\"fill:#001c7f;stroke:#001c7f;\" x=\"99.38958\" xlink:href=\"#m6a01eba466\" y=\"263.677825\"/>\r\n     <use style=\"fill:#001c7f;stroke:#001c7f;\" x=\"99.38958\" xlink:href=\"#m6a01eba466\" y=\"283.247425\"/>\r\n     <use style=\"fill:#001c7f;stroke:#001c7f;\" x=\"100.346152\" xlink:href=\"#m6a01eba466\" y=\"322.386625\"/>\r\n     <use style=\"fill:#001c7f;stroke:#001c7f;\" x=\"100.346152\" xlink:href=\"#m6a01eba466\" y=\"277.656111\"/>\r\n     <use style=\"fill:#001c7f;stroke:#001c7f;\" x=\"101.302723\" xlink:href=\"#m6a01eba466\" y=\"236.65314\"/>\r\n     <use style=\"fill:#001c7f;stroke:#001c7f;\" x=\"101.302723\" xlink:href=\"#m6a01eba466\" y=\"281.383654\"/>\r\n     <use style=\"fill:#001c7f;stroke:#001c7f;\" x=\"101.302723\" xlink:href=\"#m6a01eba466\" y=\"281.383654\"/>\r\n     <use style=\"fill:#001c7f;stroke:#001c7f;\" x=\"101.302723\" xlink:href=\"#m6a01eba466\" y=\"323.024231\"/>\r\n     <use style=\"fill:#001c7f;stroke:#001c7f;\" x=\"101.302723\" xlink:href=\"#m6a01eba466\" y=\"281.383654\"/>\r\n     <use style=\"fill:#001c7f;stroke:#001c7f;\" x=\"102.259295\" xlink:href=\"#m6a01eba466\" y=\"291.634397\"/>\r\n     <use style=\"fill:#001c7f;stroke:#001c7f;\" x=\"102.259295\" xlink:href=\"#m6a01eba466\" y=\"274.653368\"/>\r\n     <use style=\"fill:#001c7f;stroke:#001c7f;\" x=\"102.259295\" xlink:href=\"#m6a01eba466\" y=\"291.634397\"/>\r\n     <use style=\"fill:#001c7f;stroke:#001c7f;\" x=\"102.259295\" xlink:href=\"#m6a01eba466\" y=\"265.071086\"/>\r\n     <use style=\"fill:#001c7f;stroke:#001c7f;\" x=\"102.259295\" xlink:href=\"#m6a01eba466\" y=\"279.908168\"/>\r\n     <use style=\"fill:#001c7f;stroke:#001c7f;\" x=\"102.259295\" xlink:href=\"#m6a01eba466\" y=\"296.132538\"/>\r\n     <use style=\"fill:#001c7f;stroke:#001c7f;\" x=\"103.215866\" xlink:href=\"#m6a01eba466\" y=\"292.255654\"/>\r\n     <use style=\"fill:#001c7f;stroke:#001c7f;\" x=\"103.215866\" xlink:href=\"#m6a01eba466\" y=\"245.506054\"/>\r\n     <use style=\"fill:#001c7f;stroke:#001c7f;\" x=\"103.215866\" xlink:href=\"#m6a01eba466\" y=\"266.473483\"/>\r\n     <use style=\"fill:#001c7f;stroke:#001c7f;\" x=\"104.172438\" xlink:href=\"#m6a01eba466\" y=\"267.778123\"/>\r\n     <use style=\"fill:#001c7f;stroke:#001c7f;\" x=\"104.172438\" xlink:href=\"#m6a01eba466\" y=\"269.502111\"/>\r\n     <use style=\"fill:#001c7f;stroke:#001c7f;\" x=\"104.172438\" xlink:href=\"#m6a01eba466\" y=\"268.897736\"/>\r\n     <use style=\"fill:#001c7f;stroke:#001c7f;\" x=\"104.172438\" xlink:href=\"#m6a01eba466\" y=\"293.498168\"/>\r\n     <use style=\"fill:#001c7f;stroke:#001c7f;\" x=\"104.172438\" xlink:href=\"#m6a01eba466\" y=\"267.778123\"/>\r\n     <use style=\"fill:#001c7f;stroke:#001c7f;\" x=\"104.172438\" xlink:href=\"#m6a01eba466\" y=\"265.071086\"/>\r\n     <use style=\"fill:#001c7f;stroke:#001c7f;\" x=\"104.172438\" xlink:href=\"#m6a01eba466\" y=\"293.498168\"/>\r\n     <use style=\"fill:#001c7f;stroke:#001c7f;\" x=\"104.172438\" xlink:href=\"#m6a01eba466\" y=\"272.996683\"/>\r\n     <use style=\"fill:#001c7f;stroke:#001c7f;\" x=\"105.129009\" xlink:href=\"#m6a01eba466\" y=\"291.323768\"/>\r\n     <use style=\"fill:#001c7f;stroke:#001c7f;\" x=\"105.129009\" xlink:href=\"#m6a01eba466\" y=\"265.071086\"/>\r\n     <use style=\"fill:#001c7f;stroke:#001c7f;\" x=\"105.129009\" xlink:href=\"#m6a01eba466\" y=\"324.250397\"/>\r\n     <use style=\"fill:#001c7f;stroke:#001c7f;\" x=\"105.129009\" xlink:href=\"#m6a01eba466\" y=\"277.656111\"/>\r\n     <use style=\"fill:#001c7f;stroke:#001c7f;\" x=\"105.129009\" xlink:href=\"#m6a01eba466\" y=\"265.071086\"/>\r\n     <use style=\"fill:#001c7f;stroke:#001c7f;\" x=\"105.129009\" xlink:href=\"#m6a01eba466\" y=\"322.209123\"/>\r\n     <use style=\"fill:#001c7f;stroke:#001c7f;\" x=\"106.08558\" xlink:href=\"#m6a01eba466\" y=\"276.724225\"/>\r\n     <use style=\"fill:#001c7f;stroke:#001c7f;\" x=\"106.08558\" xlink:href=\"#m6a01eba466\" y=\"257.154625\"/>\r\n     <use style=\"fill:#001c7f;stroke:#001c7f;\" x=\"107.042152\" xlink:href=\"#m6a01eba466\" y=\"265.071086\"/>\r\n     <use style=\"fill:#001c7f;stroke:#001c7f;\" x=\"107.042152\" xlink:href=\"#m6a01eba466\" y=\"265.071086\"/>\r\n     <use style=\"fill:#001c7f;stroke:#001c7f;\" x=\"107.042152\" xlink:href=\"#m6a01eba466\" y=\"311.355699\"/>\r\n     <use style=\"fill:#001c7f;stroke:#001c7f;\" x=\"107.042152\" xlink:href=\"#m6a01eba466\" y=\"283.734548\"/>\r\n     <use style=\"fill:#001c7f;stroke:#001c7f;\" x=\"107.042152\" xlink:href=\"#m6a01eba466\" y=\"295.76964\"/>\r\n     <use style=\"fill:#001c7f;stroke:#001c7f;\" x=\"107.042152\" xlink:href=\"#m6a01eba466\" y=\"270.800095\"/>\r\n     <use style=\"fill:#001c7f;stroke:#001c7f;\" x=\"107.042152\" xlink:href=\"#m6a01eba466\" y=\"295.36194\"/>\r\n     <use style=\"fill:#001c7f;stroke:#001c7f;\" x=\"107.042152\" xlink:href=\"#m6a01eba466\" y=\"270.259268\"/>\r\n     <use style=\"fill:#001c7f;stroke:#001c7f;\" x=\"107.042152\" xlink:href=\"#m6a01eba466\" y=\"280.451768\"/>\r\n     <use style=\"fill:#001c7f;stroke:#001c7f;\" x=\"107.520438\" xlink:href=\"#m6a01eba466\" y=\"324.250397\"/>\r\n     <use style=\"fill:#001c7f;stroke:#001c7f;\" x=\"107.998723\" xlink:href=\"#m6a01eba466\" y=\"250.631425\"/>\r\n     <use style=\"fill:#001c7f;stroke:#001c7f;\" x=\"107.998723\" xlink:href=\"#m6a01eba466\" y=\"281.034197\"/>\r\n     <use style=\"fill:#001c7f;stroke:#001c7f;\" x=\"108.955295\" xlink:href=\"#m6a01eba466\" y=\"273.928568\"/>\r\n     <use style=\"fill:#001c7f;stroke:#001c7f;\" x=\"108.955295\" xlink:href=\"#m6a01eba466\" y=\"273.928568\"/>\r\n     <use style=\"fill:#001c7f;stroke:#001c7f;\" x=\"109.43358\" xlink:href=\"#m6a01eba466\" y=\"256.688683\"/>\r\n     <use style=\"fill:#001c7f;stroke:#001c7f;\" x=\"109.43358\" xlink:href=\"#m6a01eba466\" y=\"256.688683\"/>\r\n     <use style=\"fill:#001c7f;stroke:#001c7f;\" x=\"109.911866\" xlink:href=\"#m6a01eba466\" y=\"277.656111\"/>\r\n     <use style=\"fill:#001c7f;stroke:#001c7f;\" x=\"109.911866\" xlink:href=\"#m6a01eba466\" y=\"271.365883\"/>\r\n     <use style=\"fill:#001c7f;stroke:#001c7f;\" x=\"109.911866\" xlink:href=\"#m6a01eba466\" y=\"272.996683\"/>\r\n     <use style=\"fill:#001c7f;stroke:#001c7f;\" x=\"109.911866\" xlink:href=\"#m6a01eba466\" y=\"268.897736\"/>\r\n     <use style=\"fill:#001c7f;stroke:#001c7f;\" x=\"110.868438\" xlink:href=\"#m6a01eba466\" y=\"267.405368\"/>\r\n     <use style=\"fill:#001c7f;stroke:#001c7f;\" x=\"110.868438\" xlink:href=\"#m6a01eba466\" y=\"262.124683\"/>\r\n     <use style=\"fill:#001c7f;stroke:#001c7f;\" x=\"110.868438\" xlink:href=\"#m6a01eba466\" y=\"265.071086\"/>\r\n     <use style=\"fill:#001c7f;stroke:#001c7f;\" x=\"110.868438\" xlink:href=\"#m6a01eba466\" y=\"283.806557\"/>\r\n     <use style=\"fill:#001c7f;stroke:#001c7f;\" x=\"110.868438\" xlink:href=\"#m6a01eba466\" y=\"278.094646\"/>\r\n     <use style=\"fill:#001c7f;stroke:#001c7f;\" x=\"110.868438\" xlink:href=\"#m6a01eba466\" y=\"265.071086\"/>\r\n     <use style=\"fill:#001c7f;stroke:#001c7f;\" x=\"110.868438\" xlink:href=\"#m6a01eba466\" y=\"268.897736\"/>\r\n     <use style=\"fill:#001c7f;stroke:#001c7f;\" x=\"111.825009\" xlink:href=\"#m6a01eba466\" y=\"314.895698\"/>\r\n     <use style=\"fill:#001c7f;stroke:#001c7f;\" x=\"111.825009\" xlink:href=\"#m6a01eba466\" y=\"297.691654\"/>\r\n     <use style=\"fill:#001c7f;stroke:#001c7f;\" x=\"111.825009\" xlink:href=\"#m6a01eba466\" y=\"265.071086\"/>\r\n     <use style=\"fill:#001c7f;stroke:#001c7f;\" x=\"111.825009\" xlink:href=\"#m6a01eba466\" y=\"266.473483\"/>\r\n     <use style=\"fill:#001c7f;stroke:#001c7f;\" x=\"111.825009\" xlink:href=\"#m6a01eba466\" y=\"268.897736\"/>\r\n     <use style=\"fill:#001c7f;stroke:#001c7f;\" x=\"112.78158\" xlink:href=\"#m6a01eba466\" y=\"283.806557\"/>\r\n     <use style=\"fill:#001c7f;stroke:#001c7f;\" x=\"112.78158\" xlink:href=\"#m6a01eba466\" y=\"265.071086\"/>\r\n     <use style=\"fill:#001c7f;stroke:#001c7f;\" x=\"112.78158\" xlink:href=\"#m6a01eba466\" y=\"265.071086\"/>\r\n     <use style=\"fill:#001c7f;stroke:#001c7f;\" x=\"112.78158\" xlink:href=\"#m6a01eba466\" y=\"265.071086\"/>\r\n     <use style=\"fill:#001c7f;stroke:#001c7f;\" x=\"112.78158\" xlink:href=\"#m6a01eba466\" y=\"224.69394\"/>\r\n     <use style=\"fill:#001c7f;stroke:#001c7f;\" x=\"112.78158\" xlink:href=\"#m6a01eba466\" y=\"265.071086\"/>\r\n     <use style=\"fill:#001c7f;stroke:#001c7f;\" x=\"112.78158\" xlink:href=\"#m6a01eba466\" y=\"256.688683\"/>\r\n     <use style=\"fill:#001c7f;stroke:#001c7f;\" x=\"113.259866\" xlink:href=\"#m6a01eba466\" y=\"217.08354\"/>\r\n     <use style=\"fill:#001c7f;stroke:#001c7f;\" x=\"113.259866\" xlink:href=\"#m6a01eba466\" y=\"217.08354\"/>\r\n     <use style=\"fill:#001c7f;stroke:#001c7f;\" x=\"113.738152\" xlink:href=\"#m6a01eba466\" y=\"293.498168\"/>\r\n     <use style=\"fill:#001c7f;stroke:#001c7f;\" x=\"113.738152\" xlink:href=\"#m6a01eba466\" y=\"268.337254\"/>\r\n     <use style=\"fill:#001c7f;stroke:#001c7f;\" x=\"113.738152\" xlink:href=\"#m6a01eba466\" y=\"267.250054\"/>\r\n     <use style=\"fill:#001c7f;stroke:#001c7f;\" x=\"113.738152\" xlink:href=\"#m6a01eba466\" y=\"232.459654\"/>\r\n     <use style=\"fill:#001c7f;stroke:#001c7f;\" x=\"114.694723\" xlink:href=\"#m6a01eba466\" y=\"265.684964\"/>\r\n     <use style=\"fill:#001c7f;stroke:#001c7f;\" x=\"114.694723\" xlink:href=\"#m6a01eba466\" y=\"282.936797\"/>\r\n     <use style=\"fill:#001c7f;stroke:#001c7f;\" x=\"114.694723\" xlink:href=\"#m6a01eba466\" y=\"256.688683\"/>\r\n     <use style=\"fill:#001c7f;stroke:#001c7f;\" x=\"114.694723\" xlink:href=\"#m6a01eba466\" y=\"265.071086\"/>\r\n     <use style=\"fill:#001c7f;stroke:#001c7f;\" x=\"115.651295\" xlink:href=\"#m6a01eba466\" y=\"267.778123\"/>\r\n     <use style=\"fill:#001c7f;stroke:#001c7f;\" x=\"115.651295\" xlink:href=\"#m6a01eba466\" y=\"267.405368\"/>\r\n     <use style=\"fill:#001c7f;stroke:#001c7f;\" x=\"115.651295\" xlink:href=\"#m6a01eba466\" y=\"267.871311\"/>\r\n     <use style=\"fill:#001c7f;stroke:#001c7f;\" x=\"115.651295\" xlink:href=\"#m6a01eba466\" y=\"268.897736\"/>\r\n     <use style=\"fill:#001c7f;stroke:#001c7f;\" x=\"115.651295\" xlink:href=\"#m6a01eba466\" y=\"253.893025\"/>\r\n     <use style=\"fill:#001c7f;stroke:#001c7f;\" x=\"115.651295\" xlink:href=\"#m6a01eba466\" y=\"268.897736\"/>\r\n     <use style=\"fill:#001c7f;stroke:#001c7f;\" x=\"115.651295\" xlink:href=\"#m6a01eba466\" y=\"249.69954\"/>\r\n     <use style=\"fill:#001c7f;stroke:#001c7f;\" x=\"115.651295\" xlink:href=\"#m6a01eba466\" y=\"265.071086\"/>\r\n     <use style=\"fill:#001c7f;stroke:#001c7f;\" x=\"116.607866\" xlink:href=\"#m6a01eba466\" y=\"265.071086\"/>\r\n     <use style=\"fill:#001c7f;stroke:#001c7f;\" x=\"116.607866\" xlink:href=\"#m6a01eba466\" y=\"267.405368\"/>\r\n     <use style=\"fill:#001c7f;stroke:#001c7f;\" x=\"116.607866\" xlink:href=\"#m6a01eba466\" y=\"266.473483\"/>\r\n     <use style=\"fill:#001c7f;stroke:#001c7f;\" x=\"117.564438\" xlink:href=\"#m6a01eba466\" y=\"320.522854\"/>\r\n     <use style=\"fill:#001c7f;stroke:#001c7f;\" x=\"117.564438\" xlink:href=\"#m6a01eba466\" y=\"268.897736\"/>\r\n     <use style=\"fill:#001c7f;stroke:#001c7f;\" x=\"117.564438\" xlink:href=\"#m6a01eba466\" y=\"262.124683\"/>\r\n     <use style=\"fill:#001c7f;stroke:#001c7f;\" x=\"117.564438\" xlink:href=\"#m6a01eba466\" y=\"260.649197\"/>\r\n     <use style=\"fill:#001c7f;stroke:#001c7f;\" x=\"117.564438\" xlink:href=\"#m6a01eba466\" y=\"271.365883\"/>\r\n     <use style=\"fill:#001c7f;stroke:#001c7f;\" x=\"117.564438\" xlink:href=\"#m6a01eba466\" y=\"265.071086\"/>\r\n     <use style=\"fill:#001c7f;stroke:#001c7f;\" x=\"118.042723\" xlink:href=\"#m6a01eba466\" y=\"313.999654\"/>\r\n     <use style=\"fill:#001c7f;stroke:#001c7f;\" x=\"118.521009\" xlink:href=\"#m6a01eba466\" y=\"265.071086\"/>\r\n     <use style=\"fill:#001c7f;stroke:#001c7f;\" x=\"118.521009\" xlink:href=\"#m6a01eba466\" y=\"274.653368\"/>\r\n     <use style=\"fill:#001c7f;stroke:#001c7f;\" x=\"118.521009\" xlink:href=\"#m6a01eba466\" y=\"260.649197\"/>\r\n     <use style=\"fill:#001c7f;stroke:#001c7f;\" x=\"118.521009\" xlink:href=\"#m6a01eba466\" y=\"315.006692\"/>\r\n     <use style=\"fill:#001c7f;stroke:#001c7f;\" x=\"118.521009\" xlink:href=\"#m6a01eba466\" y=\"279.209254\"/>\r\n     <use style=\"fill:#001c7f;stroke:#001c7f;\" x=\"118.521009\" xlink:href=\"#m6a01eba466\" y=\"264.547585\"/>\r\n     <use style=\"fill:#001c7f;stroke:#001c7f;\" x=\"118.521009\" xlink:href=\"#m6a01eba466\" y=\"295.36194\"/>\r\n     <use style=\"fill:#001c7f;stroke:#001c7f;\" x=\"118.521009\" xlink:href=\"#m6a01eba466\" y=\"282.31554\"/>\r\n     <use style=\"fill:#001c7f;stroke:#001c7f;\" x=\"118.521009\" xlink:href=\"#m6a01eba466\" y=\"143.464568\"/>\r\n     <use style=\"fill:#001c7f;stroke:#001c7f;\" x=\"118.521009\" xlink:href=\"#m6a01eba466\" y=\"262.879066\"/>\r\n     <use style=\"fill:#001c7f;stroke:#001c7f;\" x=\"119.47758\" xlink:href=\"#m6a01eba466\" y=\"265.071086\"/>\r\n     <use style=\"fill:#001c7f;stroke:#001c7f;\" x=\"119.47758\" xlink:href=\"#m6a01eba466\" y=\"268.897736\"/>\r\n     <use style=\"fill:#001c7f;stroke:#001c7f;\" x=\"119.47758\" xlink:href=\"#m6a01eba466\" y=\"284.062825\"/>\r\n     <use style=\"fill:#001c7f;stroke:#001c7f;\" x=\"119.47758\" xlink:href=\"#m6a01eba466\" y=\"274.653368\"/>\r\n     <use style=\"fill:#001c7f;stroke:#001c7f;\" x=\"120.434152\" xlink:href=\"#m6a01eba466\" y=\"256.688683\"/>\r\n     <use style=\"fill:#001c7f;stroke:#001c7f;\" x=\"120.434152\" xlink:href=\"#m6a01eba466\" y=\"257.620568\"/>\r\n     <use style=\"fill:#001c7f;stroke:#001c7f;\" x=\"120.434152\" xlink:href=\"#m6a01eba466\" y=\"313.999654\"/>\r\n     <use style=\"fill:#001c7f;stroke:#001c7f;\" x=\"120.434152\" xlink:href=\"#m6a01eba466\" y=\"268.897736\"/>\r\n     <use style=\"fill:#001c7f;stroke:#001c7f;\" x=\"120.434152\" xlink:href=\"#m6a01eba466\" y=\"265.071086\"/>\r\n     <use style=\"fill:#001c7f;stroke:#001c7f;\" x=\"120.434152\" xlink:href=\"#m6a01eba466\" y=\"265.071086\"/>\r\n     <use style=\"fill:#001c7f;stroke:#001c7f;\" x=\"120.434152\" xlink:href=\"#m6a01eba466\" y=\"264.547585\"/>\r\n     <use style=\"fill:#001c7f;stroke:#001c7f;\" x=\"121.390723\" xlink:href=\"#m6a01eba466\" y=\"265.071086\"/>\r\n     <use style=\"fill:#001c7f;stroke:#001c7f;\" x=\"121.390723\" xlink:href=\"#m6a01eba466\" y=\"308.839117\"/>\r\n     <use style=\"fill:#001c7f;stroke:#001c7f;\" x=\"121.390723\" xlink:href=\"#m6a01eba466\" y=\"242.244454\"/>\r\n     <use style=\"fill:#001c7f;stroke:#001c7f;\" x=\"121.390723\" xlink:href=\"#m6a01eba466\" y=\"267.405368\"/>\r\n     <use style=\"fill:#001c7f;stroke:#001c7f;\" x=\"121.390723\" xlink:href=\"#m6a01eba466\" y=\"268.897736\"/>\r\n     <use style=\"fill:#001c7f;stroke:#001c7f;\" x=\"121.390723\" xlink:href=\"#m6a01eba466\" y=\"261.814054\"/>\r\n     <use style=\"fill:#001c7f;stroke:#001c7f;\" x=\"121.390723\" xlink:href=\"#m6a01eba466\" y=\"265.071086\"/>\r\n     <use style=\"fill:#001c7f;stroke:#001c7f;\" x=\"122.347295\" xlink:href=\"#m6a01eba466\" y=\"273.928568\"/>\r\n     <use style=\"fill:#001c7f;stroke:#001c7f;\" x=\"122.347295\" xlink:href=\"#m6a01eba466\" y=\"274.653368\"/>\r\n     <use style=\"fill:#001c7f;stroke:#001c7f;\" x=\"122.347295\" xlink:href=\"#m6a01eba466\" y=\"265.541597\"/>\r\n     <use style=\"fill:#001c7f;stroke:#001c7f;\" x=\"122.347295\" xlink:href=\"#m6a01eba466\" y=\"273.928568\"/>\r\n     <use style=\"fill:#001c7f;stroke:#001c7f;\" x=\"122.347295\" xlink:href=\"#m6a01eba466\" y=\"265.071086\"/>\r\n     <use style=\"fill:#001c7f;stroke:#001c7f;\" x=\"122.347295\" xlink:href=\"#m6a01eba466\" y=\"283.734548\"/>\r\n     <use style=\"fill:#001c7f;stroke:#001c7f;\" x=\"122.82558\" xlink:href=\"#m6a01eba466\" y=\"255.13554\"/>\r\n     <use style=\"fill:#001c7f;stroke:#001c7f;\" x=\"123.303866\" xlink:href=\"#m6a01eba466\" y=\"274.4877\"/>\r\n     <use style=\"fill:#001c7f;stroke:#001c7f;\" x=\"123.303866\" xlink:href=\"#m6a01eba466\" y=\"264.547585\"/>\r\n     <use style=\"fill:#001c7f;stroke:#001c7f;\" x=\"123.303866\" xlink:href=\"#m6a01eba466\" y=\"262.879066\"/>\r\n     <use style=\"fill:#001c7f;stroke:#001c7f;\" x=\"123.303866\" xlink:href=\"#m6a01eba466\" y=\"259.950283\"/>\r\n     <use style=\"fill:#001c7f;stroke:#001c7f;\" x=\"123.303866\" xlink:href=\"#m6a01eba466\" y=\"280.451768\"/>\r\n     <use style=\"fill:#001c7f;stroke:#001c7f;\" x=\"123.303866\" xlink:href=\"#m6a01eba466\" y=\"268.897736\"/>\r\n     <use style=\"fill:#001c7f;stroke:#001c7f;\" x=\"124.260438\" xlink:href=\"#m6a01eba466\" y=\"305.75829\"/>\r\n     <use style=\"fill:#001c7f;stroke:#001c7f;\" x=\"124.738723\" xlink:href=\"#m6a01eba466\" y=\"265.071086\"/>\r\n     <use style=\"fill:#001c7f;stroke:#001c7f;\" x=\"125.217009\" xlink:href=\"#m6a01eba466\" y=\"265.071086\"/>\r\n     <use style=\"fill:#001c7f;stroke:#001c7f;\" x=\"125.217009\" xlink:href=\"#m6a01eba466\" y=\"262.879066\"/>\r\n     <use style=\"fill:#001c7f;stroke:#001c7f;\" x=\"125.217009\" xlink:href=\"#m6a01eba466\" y=\"260.549352\"/>\r\n     <use style=\"fill:#001c7f;stroke:#001c7f;\" x=\"125.217009\" xlink:href=\"#m6a01eba466\" y=\"260.549352\"/>\r\n     <use style=\"fill:#001c7f;stroke:#001c7f;\" x=\"125.217009\" xlink:href=\"#m6a01eba466\" y=\"265.071086\"/>\r\n     <use style=\"fill:#001c7f;stroke:#001c7f;\" x=\"125.217009\" xlink:href=\"#m6a01eba466\" y=\"265.071086\"/>\r\n     <use style=\"fill:#001c7f;stroke:#001c7f;\" x=\"125.217009\" xlink:href=\"#m6a01eba466\" y=\"279.519883\"/>\r\n     <use style=\"fill:#001c7f;stroke:#001c7f;\" x=\"126.17358\" xlink:href=\"#m6a01eba466\" y=\"249.566413\"/>\r\n     <use style=\"fill:#001c7f;stroke:#001c7f;\" x=\"126.17358\" xlink:href=\"#m6a01eba466\" y=\"262.879066\"/>\r\n     <use style=\"fill:#001c7f;stroke:#001c7f;\" x=\"126.17358\" xlink:href=\"#m6a01eba466\" y=\"262.879066\"/>\r\n     <use style=\"fill:#001c7f;stroke:#001c7f;\" x=\"126.17358\" xlink:href=\"#m6a01eba466\" y=\"254.824911\"/>\r\n     <use style=\"fill:#001c7f;stroke:#001c7f;\" x=\"126.17358\" xlink:href=\"#m6a01eba466\" y=\"248.767654\"/>\r\n     <use style=\"fill:#001c7f;stroke:#001c7f;\" x=\"127.130152\" xlink:href=\"#m6a01eba466\" y=\"231.559358\"/>\r\n     <use style=\"fill:#001c7f;stroke:#001c7f;\" x=\"127.130152\" xlink:href=\"#m6a01eba466\" y=\"228.44367\"/>\r\n     <use style=\"fill:#001c7f;stroke:#001c7f;\" x=\"127.608438\" xlink:href=\"#m6a01eba466\" y=\"270.259268\"/>\r\n     <use style=\"fill:#001c7f;stroke:#001c7f;\" x=\"128.086723\" xlink:href=\"#m6a01eba466\" y=\"255.290854\"/>\r\n     <use style=\"fill:#001c7f;stroke:#001c7f;\" x=\"128.086723\" xlink:href=\"#m6a01eba466\" y=\"321.033888\"/>\r\n     <use style=\"fill:#001c7f;stroke:#001c7f;\" x=\"128.086723\" xlink:href=\"#m6a01eba466\" y=\"229.198054\"/>\r\n     <use style=\"fill:#001c7f;stroke:#001c7f;\" x=\"128.086723\" xlink:href=\"#m6a01eba466\" y=\"313.999654\"/>\r\n     <use style=\"fill:#001c7f;stroke:#001c7f;\" x=\"128.086723\" xlink:href=\"#m6a01eba466\" y=\"278.587997\"/>\r\n     <use style=\"fill:#001c7f;stroke:#001c7f;\" x=\"129.043295\" xlink:href=\"#m6a01eba466\" y=\"257.154625\"/>\r\n     <use style=\"fill:#001c7f;stroke:#001c7f;\" x=\"129.043295\" xlink:href=\"#m6a01eba466\" y=\"268.897736\"/>\r\n     <use style=\"fill:#001c7f;stroke:#001c7f;\" x=\"129.043295\" xlink:href=\"#m6a01eba466\" y=\"236.057768\"/>\r\n     <use style=\"fill:#001c7f;stroke:#001c7f;\" x=\"129.043295\" xlink:href=\"#m6a01eba466\" y=\"265.071086\"/>\r\n     <use style=\"fill:#001c7f;stroke:#001c7f;\" x=\"129.999866\" xlink:href=\"#m6a01eba466\" y=\"259.833797\"/>\r\n     <use style=\"fill:#001c7f;stroke:#001c7f;\" x=\"129.999866\" xlink:href=\"#m6a01eba466\" y=\"249.566413\"/>\r\n     <use style=\"fill:#001c7f;stroke:#001c7f;\" x=\"129.999866\" xlink:href=\"#m6a01eba466\" y=\"255.290854\"/>\r\n     <use style=\"fill:#001c7f;stroke:#001c7f;\" x=\"129.999866\" xlink:href=\"#m6a01eba466\" y=\"257.154625\"/>\r\n     <use style=\"fill:#001c7f;stroke:#001c7f;\" x=\"129.999866\" xlink:href=\"#m6a01eba466\" y=\"314.106921\"/>\r\n     <use style=\"fill:#001c7f;stroke:#001c7f;\" x=\"130.956437\" xlink:href=\"#m6a01eba466\" y=\"255.13554\"/>\r\n     <use style=\"fill:#001c7f;stroke:#001c7f;\" x=\"130.956437\" xlink:href=\"#m6a01eba466\" y=\"252.495197\"/>\r\n     <use style=\"fill:#001c7f;stroke:#001c7f;\" x=\"130.956437\" xlink:href=\"#m6a01eba466\" y=\"265.684964\"/>\r\n     <use style=\"fill:#001c7f;stroke:#001c7f;\" x=\"131.434723\" xlink:href=\"#m6a01eba466\" y=\"246.204968\"/>\r\n     <use style=\"fill:#001c7f;stroke:#001c7f;\" x=\"131.913009\" xlink:href=\"#m6a01eba466\" y=\"215.219768\"/>\r\n     <use style=\"fill:#001c7f;stroke:#001c7f;\" x=\"131.913009\" xlink:href=\"#m6a01eba466\" y=\"254.04834\"/>\r\n     <use style=\"fill:#001c7f;stroke:#001c7f;\" x=\"131.913009\" xlink:href=\"#m6a01eba466\" y=\"262.124683\"/>\r\n     <use style=\"fill:#001c7f;stroke:#001c7f;\" x=\"131.913009\" xlink:href=\"#m6a01eba466\" y=\"253.427083\"/>\r\n     <use style=\"fill:#001c7f;stroke:#001c7f;\" x=\"131.913009\" xlink:href=\"#m6a01eba466\" y=\"255.290854\"/>\r\n     <use style=\"fill:#001c7f;stroke:#001c7f;\" x=\"132.86958\" xlink:href=\"#m6a01eba466\" y=\"268.897736\"/>\r\n     <use style=\"fill:#001c7f;stroke:#001c7f;\" x=\"132.86958\" xlink:href=\"#m6a01eba466\" y=\"250.631425\"/>\r\n     <use style=\"fill:#001c7f;stroke:#001c7f;\" x=\"133.826152\" xlink:href=\"#m6a01eba466\" y=\"260.549352\"/>\r\n     <use style=\"fill:#001c7f;stroke:#001c7f;\" x=\"133.826152\" xlink:href=\"#m6a01eba466\" y=\"209.721643\"/>\r\n     <use style=\"fill:#001c7f;stroke:#001c7f;\" x=\"134.782723\" xlink:href=\"#m6a01eba466\" y=\"268.897736\"/>\r\n     <use style=\"fill:#001c7f;stroke:#001c7f;\" x=\"134.782723\" xlink:href=\"#m6a01eba466\" y=\"273.928568\"/>\r\n     <use style=\"fill:#001c7f;stroke:#001c7f;\" x=\"135.739295\" xlink:href=\"#m6a01eba466\" y=\"272.025968\"/>\r\n     <use style=\"fill:#001c7f;stroke:#001c7f;\" x=\"135.739295\" xlink:href=\"#m6a01eba466\" y=\"227.334283\"/>\r\n     <use style=\"fill:#001c7f;stroke:#001c7f;\" x=\"135.739295\" xlink:href=\"#m6a01eba466\" y=\"283.806557\"/>\r\n     <use style=\"fill:#001c7f;stroke:#001c7f;\" x=\"135.739295\" xlink:href=\"#m6a01eba466\" y=\"250.631425\"/>\r\n     <use style=\"fill:#001c7f;stroke:#001c7f;\" x=\"136.21758\" xlink:href=\"#m6a01eba466\" y=\"247.369825\"/>\r\n     <use style=\"fill:#001c7f;stroke:#001c7f;\" x=\"136.21758\" xlink:href=\"#m6a01eba466\" y=\"264.454397\"/>\r\n     <use style=\"fill:#001c7f;stroke:#001c7f;\" x=\"136.695866\" xlink:href=\"#m6a01eba466\" y=\"240.846625\"/>\r\n     <use style=\"fill:#001c7f;stroke:#001c7f;\" x=\"136.695866\" xlink:href=\"#m6a01eba466\" y=\"276.724225\"/>\r\n     <use style=\"fill:#001c7f;stroke:#001c7f;\" x=\"136.695866\" xlink:href=\"#m6a01eba466\" y=\"244.108225\"/>\r\n     <use style=\"fill:#001c7f;stroke:#001c7f;\" x=\"137.652438\" xlink:href=\"#m6a01eba466\" y=\"245.040111\"/>\r\n     <use style=\"fill:#001c7f;stroke:#001c7f;\" x=\"137.652438\" xlink:href=\"#m6a01eba466\" y=\"246.204968\"/>\r\n     <use style=\"fill:#001c7f;stroke:#001c7f;\" x=\"137.652438\" xlink:href=\"#m6a01eba466\" y=\"246.204968\"/>\r\n     <use style=\"fill:#001c7f;stroke:#001c7f;\" x=\"137.652438\" xlink:href=\"#m6a01eba466\" y=\"249.566413\"/>\r\n     <use style=\"fill:#001c7f;stroke:#001c7f;\" x=\"139.56558\" xlink:href=\"#m6a01eba466\" y=\"273.928568\"/>\r\n     <use style=\"fill:#001c7f;stroke:#001c7f;\" x=\"139.56558\" xlink:href=\"#m6a01eba466\" y=\"272.686054\"/>\r\n     <use style=\"fill:#001c7f;stroke:#001c7f;\" x=\"139.56558\" xlink:href=\"#m6a01eba466\" y=\"243.17634\"/>\r\n     <use style=\"fill:#001c7f;stroke:#001c7f;\" x=\"140.043866\" xlink:href=\"#m6a01eba466\" y=\"248.900781\"/>\r\n     <use style=\"fill:#001c7f;stroke:#001c7f;\" x=\"140.522152\" xlink:href=\"#m6a01eba466\" y=\"245.506054\"/>\r\n     <use style=\"fill:#001c7f;stroke:#001c7f;\" x=\"140.522152\" xlink:href=\"#m6a01eba466\" y=\"236.057768\"/>\r\n     <use style=\"fill:#001c7f;stroke:#001c7f;\" x=\"140.522152\" xlink:href=\"#m6a01eba466\" y=\"248.767654\"/>\r\n     <use style=\"fill:#001c7f;stroke:#001c7f;\" x=\"141.478723\" xlink:href=\"#m6a01eba466\" y=\"227.334283\"/>\r\n     <use style=\"fill:#001c7f;stroke:#001c7f;\" x=\"141.478723\" xlink:href=\"#m6a01eba466\" y=\"241.498945\"/>\r\n     <use style=\"fill:#001c7f;stroke:#001c7f;\" x=\"141.478723\" xlink:href=\"#m6a01eba466\" y=\"245.971997\"/>\r\n     <use style=\"fill:#001c7f;stroke:#001c7f;\" x=\"142.435295\" xlink:href=\"#m6a01eba466\" y=\"238.756942\"/>\r\n     <use style=\"fill:#001c7f;stroke:#001c7f;\" x=\"142.435295\" xlink:href=\"#m6a01eba466\" y=\"279.209254\"/>\r\n     <use style=\"fill:#001c7f;stroke:#001c7f;\" x=\"142.435295\" xlink:href=\"#m6a01eba466\" y=\"249.566413\"/>\r\n     <use style=\"fill:#001c7f;stroke:#001c7f;\" x=\"143.391866\" xlink:href=\"#m6a01eba466\" y=\"224.538625\"/>\r\n     <use style=\"fill:#001c7f;stroke:#001c7f;\" x=\"143.391866\" xlink:href=\"#m6a01eba466\" y=\"246.204968\"/>\r\n     <use style=\"fill:#001c7f;stroke:#001c7f;\" x=\"143.391866\" xlink:href=\"#m6a01eba466\" y=\"238.756942\"/>\r\n     <use style=\"fill:#001c7f;stroke:#001c7f;\" x=\"143.391866\" xlink:href=\"#m6a01eba466\" y=\"285.362089\"/>\r\n     <use style=\"fill:#001c7f;stroke:#001c7f;\" x=\"143.391866\" xlink:href=\"#m6a01eba466\" y=\"265.541597\"/>\r\n     <use style=\"fill:#001c7f;stroke:#001c7f;\" x=\"143.391866\" xlink:href=\"#m6a01eba466\" y=\"254.358968\"/>\r\n     <use style=\"fill:#001c7f;stroke:#001c7f;\" x=\"144.348437\" xlink:href=\"#m6a01eba466\" y=\"254.242483\"/>\r\n     <use style=\"fill:#001c7f;stroke:#001c7f;\" x=\"144.348437\" xlink:href=\"#m6a01eba466\" y=\"238.756942\"/>\r\n     <use style=\"fill:#001c7f;stroke:#001c7f;\" x=\"144.348437\" xlink:href=\"#m6a01eba466\" y=\"178.410283\"/>\r\n     <use style=\"fill:#001c7f;stroke:#001c7f;\" x=\"144.348437\" xlink:href=\"#m6a01eba466\" y=\"248.900781\"/>\r\n     <use style=\"fill:#001c7f;stroke:#001c7f;\" x=\"144.348437\" xlink:href=\"#m6a01eba466\" y=\"239.448797\"/>\r\n     <use style=\"fill:#001c7f;stroke:#001c7f;\" x=\"144.348437\" xlink:href=\"#m6a01eba466\" y=\"321.033888\"/>\r\n     <use style=\"fill:#001c7f;stroke:#001c7f;\" x=\"145.305009\" xlink:href=\"#m6a01eba466\" y=\"246.204968\"/>\r\n     <use style=\"fill:#001c7f;stroke:#001c7f;\" x=\"146.26158\" xlink:href=\"#m6a01eba466\" y=\"256.22274\"/>\r\n     <use style=\"fill:#001c7f;stroke:#001c7f;\" x=\"146.26158\" xlink:href=\"#m6a01eba466\" y=\"257.154625\"/>\r\n     <use style=\"fill:#001c7f;stroke:#001c7f;\" x=\"146.26158\" xlink:href=\"#m6a01eba466\" y=\"242.244454\"/>\r\n     <use style=\"fill:#001c7f;stroke:#001c7f;\" x=\"146.26158\" xlink:href=\"#m6a01eba466\" y=\"250.631425\"/>\r\n     <use style=\"fill:#001c7f;stroke:#001c7f;\" x=\"147.218152\" xlink:href=\"#m6a01eba466\" y=\"277.190168\"/>\r\n     <use style=\"fill:#001c7f;stroke:#001c7f;\" x=\"147.218152\" xlink:href=\"#m6a01eba466\" y=\"255.290854\"/>\r\n     <use style=\"fill:#001c7f;stroke:#001c7f;\" x=\"147.218152\" xlink:href=\"#m6a01eba466\" y=\"236.187197\"/>\r\n     <use style=\"fill:#001c7f;stroke:#001c7f;\" x=\"147.218152\" xlink:href=\"#m6a01eba466\" y=\"236.65314\"/>\r\n     <use style=\"fill:#001c7f;stroke:#001c7f;\" x=\"148.174723\" xlink:href=\"#m6a01eba466\" y=\"227.334283\"/>\r\n     <use style=\"fill:#001c7f;stroke:#001c7f;\" x=\"149.131295\" xlink:href=\"#m6a01eba466\" y=\"216.202716\"/>\r\n     <use style=\"fill:#001c7f;stroke:#001c7f;\" x=\"149.131295\" xlink:href=\"#m6a01eba466\" y=\"280.762397\"/>\r\n     <use style=\"fill:#001c7f;stroke:#001c7f;\" x=\"149.131295\" xlink:href=\"#m6a01eba466\" y=\"231.559358\"/>\r\n     <use style=\"fill:#001c7f;stroke:#001c7f;\" x=\"150.087866\" xlink:href=\"#m6a01eba466\" y=\"209.628454\"/>\r\n     <use style=\"fill:#001c7f;stroke:#001c7f;\" x=\"150.087866\" xlink:href=\"#m6a01eba466\" y=\"233.857483\"/>\r\n     <use style=\"fill:#001c7f;stroke:#001c7f;\" x=\"150.087866\" xlink:href=\"#m6a01eba466\" y=\"196.768431\"/>\r\n     <use style=\"fill:#001c7f;stroke:#001c7f;\" x=\"151.044438\" xlink:href=\"#m6a01eba466\" y=\"289.770625\"/>\r\n     <use style=\"fill:#001c7f;stroke:#001c7f;\" x=\"151.044438\" xlink:href=\"#m6a01eba466\" y=\"232.925597\"/>\r\n     <use style=\"fill:#001c7f;stroke:#001c7f;\" x=\"151.044438\" xlink:href=\"#m6a01eba466\" y=\"228.44367\"/>\r\n     <use style=\"fill:#001c7f;stroke:#001c7f;\" x=\"152.001009\" xlink:href=\"#m6a01eba466\" y=\"236.057768\"/>\r\n     <use style=\"fill:#001c7f;stroke:#001c7f;\" x=\"152.95758\" xlink:href=\"#m6a01eba466\" y=\"258.086511\"/>\r\n     <use style=\"fill:#001c7f;stroke:#001c7f;\" x=\"153.914152\" xlink:href=\"#m6a01eba466\" y=\"229.04274\"/>\r\n     <use style=\"fill:#001c7f;stroke:#001c7f;\" x=\"153.914152\" xlink:href=\"#m6a01eba466\" y=\"227.476091\"/>\r\n     <use style=\"fill:#001c7f;stroke:#001c7f;\" x=\"154.870723\" xlink:href=\"#m6a01eba466\" y=\"227.476091\"/>\r\n     <use style=\"fill:#001c7f;stroke:#001c7f;\" x=\"155.827295\" xlink:href=\"#m6a01eba466\" y=\"231.559358\"/>\r\n     <use style=\"fill:#001c7f;stroke:#001c7f;\" x=\"156.783866\" xlink:href=\"#m6a01eba466\" y=\"228.44367\"/>\r\n     <use style=\"fill:#001c7f;stroke:#001c7f;\" x=\"156.783866\" xlink:href=\"#m6a01eba466\" y=\"213.355997\"/>\r\n     <use style=\"fill:#001c7f;stroke:#001c7f;\" x=\"156.783866\" xlink:href=\"#m6a01eba466\" y=\"228.44367\"/>\r\n     <use style=\"fill:#001c7f;stroke:#001c7f;\" x=\"156.783866\" xlink:href=\"#m6a01eba466\" y=\"219.296768\"/>\r\n     <use style=\"fill:#001c7f;stroke:#001c7f;\" x=\"156.783866\" xlink:href=\"#m6a01eba466\" y=\"230.12994\"/>\r\n     <use style=\"fill:#001c7f;stroke:#001c7f;\" x=\"156.783866\" xlink:href=\"#m6a01eba466\" y=\"227.334283\"/>\r\n     <use style=\"fill:#001c7f;stroke:#001c7f;\" x=\"157.740438\" xlink:href=\"#m6a01eba466\" y=\"249.566413\"/>\r\n     <use style=\"fill:#001c7f;stroke:#001c7f;\" x=\"157.740438\" xlink:href=\"#m6a01eba466\" y=\"226.402397\"/>\r\n     <use style=\"fill:#001c7f;stroke:#001c7f;\" x=\"158.218723\" xlink:href=\"#m6a01eba466\" y=\"222.830168\"/>\r\n     <use style=\"fill:#001c7f;stroke:#001c7f;\" x=\"158.697009\" xlink:href=\"#m6a01eba466\" y=\"225.470511\"/>\r\n     <use style=\"fill:#001c7f;stroke:#001c7f;\" x=\"158.697009\" xlink:href=\"#m6a01eba466\" y=\"216.202716\"/>\r\n     <use style=\"fill:#001c7f;stroke:#001c7f;\" x=\"159.65358\" xlink:href=\"#m6a01eba466\" y=\"168.15954\"/>\r\n     <use style=\"fill:#001c7f;stroke:#001c7f;\" x=\"160.131866\" xlink:href=\"#m6a01eba466\" y=\"265.071086\"/>\r\n     <use style=\"fill:#001c7f;stroke:#001c7f;\" x=\"160.131866\" xlink:href=\"#m6a01eba466\" y=\"207.764683\"/>\r\n     <use style=\"fill:#001c7f;stroke:#001c7f;\" x=\"160.610152\" xlink:href=\"#m6a01eba466\" y=\"228.44367\"/>\r\n     <use style=\"fill:#001c7f;stroke:#001c7f;\" x=\"160.610152\" xlink:href=\"#m6a01eba466\" y=\"219.296768\"/>\r\n     <use style=\"fill:#001c7f;stroke:#001c7f;\" x=\"161.566723\" xlink:href=\"#m6a01eba466\" y=\"227.476091\"/>\r\n     <use style=\"fill:#001c7f;stroke:#001c7f;\" x=\"161.566723\" xlink:href=\"#m6a01eba466\" y=\"216.202716\"/>\r\n     <use style=\"fill:#001c7f;stroke:#001c7f;\" x=\"161.566723\" xlink:href=\"#m6a01eba466\" y=\"227.476091\"/>\r\n     <use style=\"fill:#001c7f;stroke:#001c7f;\" x=\"162.523295\" xlink:href=\"#m6a01eba466\" y=\"236.057768\"/>\r\n     <use style=\"fill:#001c7f;stroke:#001c7f;\" x=\"163.479866\" xlink:href=\"#m6a01eba466\" y=\"219.679507\"/>\r\n     <use style=\"fill:#001c7f;stroke:#001c7f;\" x=\"163.479866\" xlink:href=\"#m6a01eba466\" y=\"216.202716\"/>\r\n     <use style=\"fill:#001c7f;stroke:#001c7f;\" x=\"163.479866\" xlink:href=\"#m6a01eba466\" y=\"220.811083\"/>\r\n     <use style=\"fill:#001c7f;stroke:#001c7f;\" x=\"163.958152\" xlink:href=\"#m6a01eba466\" y=\"220.927568\"/>\r\n     <use style=\"fill:#001c7f;stroke:#001c7f;\" x=\"164.436438\" xlink:href=\"#m6a01eba466\" y=\"216.202716\"/>\r\n     <use style=\"fill:#001c7f;stroke:#001c7f;\" x=\"164.436438\" xlink:href=\"#m6a01eba466\" y=\"216.202716\"/>\r\n     <use style=\"fill:#001c7f;stroke:#001c7f;\" x=\"164.436438\" xlink:href=\"#m6a01eba466\" y=\"231.559358\"/>\r\n     <use style=\"fill:#001c7f;stroke:#001c7f;\" x=\"165.393009\" xlink:href=\"#m6a01eba466\" y=\"256.688683\"/>\r\n     <use style=\"fill:#001c7f;stroke:#001c7f;\" x=\"166.34958\" xlink:href=\"#m6a01eba466\" y=\"281.383654\"/>\r\n     <use style=\"fill:#001c7f;stroke:#001c7f;\" x=\"167.306152\" xlink:href=\"#m6a01eba466\" y=\"228.158643\"/>\r\n     <use style=\"fill:#001c7f;stroke:#001c7f;\" x=\"167.306152\" xlink:href=\"#m6a01eba466\" y=\"228.158643\"/>\r\n     <use style=\"fill:#001c7f;stroke:#001c7f;\" x=\"167.306152\" xlink:href=\"#m6a01eba466\" y=\"216.202716\"/>\r\n     <use style=\"fill:#001c7f;stroke:#001c7f;\" x=\"167.306152\" xlink:href=\"#m6a01eba466\" y=\"248.767654\"/>\r\n     <use style=\"fill:#001c7f;stroke:#001c7f;\" x=\"167.306152\" xlink:href=\"#m6a01eba466\" y=\"216.202716\"/>\r\n     <use style=\"fill:#001c7f;stroke:#001c7f;\" x=\"168.262723\" xlink:href=\"#m6a01eba466\" y=\"216.202716\"/>\r\n     <use style=\"fill:#001c7f;stroke:#001c7f;\" x=\"168.262723\" xlink:href=\"#m6a01eba466\" y=\"225.470511\"/>\r\n     <use style=\"fill:#001c7f;stroke:#001c7f;\" x=\"170.175866\" xlink:href=\"#m6a01eba466\" y=\"219.679507\"/>\r\n     <use style=\"fill:#001c7f;stroke:#001c7f;\" x=\"170.175866\" xlink:href=\"#m6a01eba466\" y=\"216.202716\"/>\r\n     <use style=\"fill:#001c7f;stroke:#001c7f;\" x=\"170.175866\" xlink:href=\"#m6a01eba466\" y=\"204.969025\"/>\r\n     <use style=\"fill:#001c7f;stroke:#001c7f;\" x=\"171.132438\" xlink:href=\"#m6a01eba466\" y=\"269.502111\"/>\r\n     <use style=\"fill:#001c7f;stroke:#001c7f;\" x=\"171.132438\" xlink:href=\"#m6a01eba466\" y=\"207.672906\"/>\r\n     <use style=\"fill:#001c7f;stroke:#001c7f;\" x=\"172.089009\" xlink:href=\"#m6a01eba466\" y=\"188.195083\"/>\r\n     <use style=\"fill:#001c7f;stroke:#001c7f;\" x=\"173.04558\" xlink:href=\"#m6a01eba466\" y=\"207.672906\"/>\r\n     <use style=\"fill:#001c7f;stroke:#001c7f;\" x=\"173.523866\" xlink:href=\"#m6a01eba466\" y=\"216.202716\"/>\r\n     <use style=\"fill:#001c7f;stroke:#001c7f;\" x=\"173.523866\" xlink:href=\"#m6a01eba466\" y=\"211.026283\"/>\r\n     <use style=\"fill:#001c7f;stroke:#001c7f;\" x=\"174.002152\" xlink:href=\"#m6a01eba466\" y=\"194.718283\"/>\r\n     <use style=\"fill:#001c7f;stroke:#001c7f;\" x=\"174.002152\" xlink:href=\"#m6a01eba466\" y=\"209.721643\"/>\r\n     <use style=\"fill:#001c7f;stroke:#001c7f;\" x=\"174.002152\" xlink:href=\"#m6a01eba466\" y=\"209.721643\"/>\r\n     <use style=\"fill:#001c7f;stroke:#001c7f;\" x=\"174.958723\" xlink:href=\"#m6a01eba466\" y=\"207.672906\"/>\r\n     <use style=\"fill:#001c7f;stroke:#001c7f;\" x=\"174.958723\" xlink:href=\"#m6a01eba466\" y=\"209.628454\"/>\r\n     <use style=\"fill:#001c7f;stroke:#001c7f;\" x=\"174.958723\" xlink:href=\"#m6a01eba466\" y=\"231.559358\"/>\r\n     <use style=\"fill:#001c7f;stroke:#001c7f;\" x=\"174.958723\" xlink:href=\"#m6a01eba466\" y=\"207.672906\"/>\r\n     <use style=\"fill:#001c7f;stroke:#001c7f;\" x=\"175.915295\" xlink:href=\"#m6a01eba466\" y=\"198.445825\"/>\r\n     <use style=\"fill:#001c7f;stroke:#001c7f;\" x=\"176.871866\" xlink:href=\"#m6a01eba466\" y=\"208.137437\"/>\r\n     <use style=\"fill:#001c7f;stroke:#001c7f;\" x=\"176.871866\" xlink:href=\"#m6a01eba466\" y=\"171.088323\"/>\r\n     <use style=\"fill:#001c7f;stroke:#001c7f;\" x=\"176.871866\" xlink:href=\"#m6a01eba466\" y=\"316.404636\"/>\r\n     <use style=\"fill:#001c7f;stroke:#001c7f;\" x=\"177.828438\" xlink:href=\"#m6a01eba466\" y=\"206.832797\"/>\r\n     <use style=\"fill:#001c7f;stroke:#001c7f;\" x=\"177.828438\" xlink:href=\"#m6a01eba466\" y=\"208.137437\"/>\r\n     <use style=\"fill:#001c7f;stroke:#001c7f;\" x=\"179.263295\" xlink:href=\"#m6a01eba466\" y=\"209.721643\"/>\r\n     <use style=\"fill:#001c7f;stroke:#001c7f;\" x=\"179.74158\" xlink:href=\"#m6a01eba466\" y=\"205.357311\"/>\r\n     <use style=\"fill:#001c7f;stroke:#001c7f;\" x=\"179.74158\" xlink:href=\"#m6a01eba466\" y=\"204.969025\"/>\r\n     <use style=\"fill:#001c7f;stroke:#001c7f;\" x=\"179.74158\" xlink:href=\"#m6a01eba466\" y=\"209.721643\"/>\r\n     <use style=\"fill:#001c7f;stroke:#001c7f;\" x=\"179.74158\" xlink:href=\"#m6a01eba466\" y=\"204.969025\"/>\r\n     <use style=\"fill:#001c7f;stroke:#001c7f;\" x=\"179.74158\" xlink:href=\"#m6a01eba466\" y=\"204.969025\"/>\r\n     <use style=\"fill:#001c7f;stroke:#001c7f;\" x=\"180.698152\" xlink:href=\"#m6a01eba466\" y=\"207.672906\"/>\r\n     <use style=\"fill:#001c7f;stroke:#001c7f;\" x=\"181.654723\" xlink:href=\"#m6a01eba466\" y=\"207.672906\"/>\r\n     <use style=\"fill:#001c7f;stroke:#001c7f;\" x=\"181.654723\" xlink:href=\"#m6a01eba466\" y=\"207.672906\"/>\r\n     <use style=\"fill:#001c7f;stroke:#001c7f;\" x=\"182.611295\" xlink:href=\"#m6a01eba466\" y=\"198.073071\"/>\r\n     <use style=\"fill:#001c7f;stroke:#001c7f;\" x=\"182.611295\" xlink:href=\"#m6a01eba466\" y=\"203.105254\"/>\r\n     <use style=\"fill:#001c7f;stroke:#001c7f;\" x=\"182.611295\" xlink:href=\"#m6a01eba466\" y=\"207.672906\"/>\r\n     <use style=\"fill:#001c7f;stroke:#001c7f;\" x=\"183.567866\" xlink:href=\"#m6a01eba466\" y=\"201.241483\"/>\r\n     <use style=\"fill:#001c7f;stroke:#001c7f;\" x=\"183.567866\" xlink:href=\"#m6a01eba466\" y=\"204.658397\"/>\r\n     <use style=\"fill:#001c7f;stroke:#001c7f;\" x=\"183.567866\" xlink:href=\"#m6a01eba466\" y=\"209.721643\"/>\r\n     <use style=\"fill:#001c7f;stroke:#001c7f;\" x=\"183.567866\" xlink:href=\"#m6a01eba466\" y=\"204.658397\"/>\r\n     <use style=\"fill:#001c7f;stroke:#001c7f;\" x=\"183.567866\" xlink:href=\"#m6a01eba466\" y=\"204.658397\"/>\r\n     <use style=\"fill:#001c7f;stroke:#001c7f;\" x=\"184.524437\" xlink:href=\"#m6a01eba466\" y=\"238.756942\"/>\r\n     <use style=\"fill:#001c7f;stroke:#001c7f;\" x=\"184.524437\" xlink:href=\"#m6a01eba466\" y=\"178.410283\"/>\r\n     <use style=\"fill:#001c7f;stroke:#001c7f;\" x=\"184.524437\" xlink:href=\"#m6a01eba466\" y=\"201.326199\"/>\r\n     <use style=\"fill:#001c7f;stroke:#001c7f;\" x=\"184.524437\" xlink:href=\"#m6a01eba466\" y=\"201.326199\"/>\r\n     <use style=\"fill:#001c7f;stroke:#001c7f;\" x=\"185.481009\" xlink:href=\"#m6a01eba466\" y=\"209.721643\"/>\r\n     <use style=\"fill:#001c7f;stroke:#001c7f;\" x=\"185.481009\" xlink:href=\"#m6a01eba466\" y=\"199.377711\"/>\r\n     <use style=\"fill:#001c7f;stroke:#001c7f;\" x=\"186.43758\" xlink:href=\"#m6a01eba466\" y=\"260.649197\"/>\r\n     <use style=\"fill:#001c7f;stroke:#001c7f;\" x=\"186.43758\" xlink:href=\"#m6a01eba466\" y=\"198.445825\"/>\r\n     <use style=\"fill:#001c7f;stroke:#001c7f;\" x=\"186.43758\" xlink:href=\"#m6a01eba466\" y=\"157.629231\"/>\r\n     <use style=\"fill:#001c7f;stroke:#001c7f;\" x=\"186.43758\" xlink:href=\"#m6a01eba466\" y=\"209.721643\"/>\r\n     <use style=\"fill:#001c7f;stroke:#001c7f;\" x=\"186.43758\" xlink:href=\"#m6a01eba466\" y=\"198.445825\"/>\r\n     <use style=\"fill:#001c7f;stroke:#001c7f;\" x=\"186.915866\" xlink:href=\"#m6a01eba466\" y=\"196.768431\"/>\r\n     <use style=\"fill:#001c7f;stroke:#001c7f;\" x=\"189.307295\" xlink:href=\"#m6a01eba466\" y=\"195.650168\"/>\r\n     <use style=\"fill:#001c7f;stroke:#001c7f;\" x=\"190.263866\" xlink:href=\"#m6a01eba466\" y=\"194.718283\"/>\r\n     <use style=\"fill:#001c7f;stroke:#001c7f;\" x=\"191.220438\" xlink:href=\"#m6a01eba466\" y=\"193.786397\"/>\r\n     <use style=\"fill:#001c7f;stroke:#001c7f;\" x=\"191.220438\" xlink:href=\"#m6a01eba466\" y=\"174.68274\"/>\r\n     <use style=\"fill:#001c7f;stroke:#001c7f;\" x=\"191.220438\" xlink:href=\"#m6a01eba466\" y=\"188.195083\"/>\r\n     <use style=\"fill:#001c7f;stroke:#001c7f;\" x=\"191.220438\" xlink:href=\"#m6a01eba466\" y=\"207.672906\"/>\r\n     <use style=\"fill:#001c7f;stroke:#001c7f;\" x=\"191.220438\" xlink:href=\"#m6a01eba466\" y=\"193.786397\"/>\r\n     <use style=\"fill:#001c7f;stroke:#001c7f;\" x=\"191.220438\" xlink:href=\"#m6a01eba466\" y=\"207.672906\"/>\r\n     <use style=\"fill:#001c7f;stroke:#001c7f;\" x=\"191.220438\" xlink:href=\"#m6a01eba466\" y=\"193.786397\"/>\r\n     <use style=\"fill:#001c7f;stroke:#001c7f;\" x=\"192.177009\" xlink:href=\"#m6a01eba466\" y=\"192.854511\"/>\r\n     <use style=\"fill:#001c7f;stroke:#001c7f;\" x=\"192.177009\" xlink:href=\"#m6a01eba466\" y=\"228.44367\"/>\r\n     <use style=\"fill:#001c7f;stroke:#001c7f;\" x=\"192.177009\" xlink:href=\"#m6a01eba466\" y=\"192.854511\"/>\r\n     <use style=\"fill:#001c7f;stroke:#001c7f;\" x=\"192.177009\" xlink:href=\"#m6a01eba466\" y=\"208.696568\"/>\r\n     <use style=\"fill:#001c7f;stroke:#001c7f;\" x=\"193.13358\" xlink:href=\"#m6a01eba466\" y=\"191.922625\"/>\r\n     <use style=\"fill:#001c7f;stroke:#001c7f;\" x=\"194.090152\" xlink:href=\"#m6a01eba466\" y=\"207.672906\"/>\r\n     <use style=\"fill:#001c7f;stroke:#001c7f;\" x=\"194.090152\" xlink:href=\"#m6a01eba466\" y=\"228.44367\"/>\r\n     <use style=\"fill:#001c7f;stroke:#001c7f;\" x=\"195.046723\" xlink:href=\"#m6a01eba466\" y=\"217.08354\"/>\r\n     <use style=\"fill:#001c7f;stroke:#001c7f;\" x=\"196.959866\" xlink:href=\"#m6a01eba466\" y=\"170.023311\"/>\r\n     <use style=\"fill:#001c7f;stroke:#001c7f;\" x=\"197.916438\" xlink:href=\"#m6a01eba466\" y=\"216.202716\"/>\r\n     <use style=\"fill:#001c7f;stroke:#001c7f;\" x=\"197.916438\" xlink:href=\"#m6a01eba466\" y=\"193.786397\"/>\r\n     <use style=\"fill:#001c7f;stroke:#001c7f;\" x=\"198.873009\" xlink:href=\"#m6a01eba466\" y=\"187.884454\"/>\r\n     <use style=\"fill:#001c7f;stroke:#001c7f;\" x=\"199.82958\" xlink:href=\"#m6a01eba466\" y=\"185.399425\"/>\r\n     <use style=\"fill:#001c7f;stroke:#001c7f;\" x=\"199.82958\" xlink:href=\"#m6a01eba466\" y=\"185.399425\"/>\r\n     <use style=\"fill:#001c7f;stroke:#001c7f;\" x=\"202.699295\" xlink:href=\"#m6a01eba466\" y=\"182.603768\"/>\r\n     <use style=\"fill:#001c7f;stroke:#001c7f;\" x=\"205.090723\" xlink:href=\"#m6a01eba466\" y=\"180.274054\"/>\r\n     <use style=\"fill:#001c7f;stroke:#001c7f;\" x=\"206.047295\" xlink:href=\"#m6a01eba466\" y=\"184.001597\"/>\r\n     <use style=\"fill:#001c7f;stroke:#001c7f;\" x=\"208.438723\" xlink:href=\"#m6a01eba466\" y=\"177.012454\"/>\r\n     <use style=\"fill:#001c7f;stroke:#001c7f;\" x=\"208.438723\" xlink:href=\"#m6a01eba466\" y=\"177.012454\"/>\r\n     <use style=\"fill:#001c7f;stroke:#001c7f;\" x=\"209.395295\" xlink:href=\"#m6a01eba466\" y=\"175.381654\"/>\r\n     <use style=\"fill:#001c7f;stroke:#001c7f;\" x=\"213.699866\" xlink:href=\"#m6a01eba466\" y=\"167.693597\"/>\r\n     <use style=\"fill:#001c7f;stroke:#001c7f;\" x=\"214.178152\" xlink:href=\"#m6a01eba466\" y=\"171.42114\"/>\r\n     <use style=\"fill:#001c7f;stroke:#001c7f;\" x=\"214.178152\" xlink:href=\"#m6a01eba466\" y=\"170.489254\"/>\r\n     <use style=\"fill:#001c7f;stroke:#001c7f;\" x=\"214.178152\" xlink:href=\"#m6a01eba466\" y=\"171.088323\"/>\r\n     <use style=\"fill:#001c7f;stroke:#001c7f;\" x=\"214.178152\" xlink:href=\"#m6a01eba466\" y=\"170.955197\"/>\r\n     <use style=\"fill:#001c7f;stroke:#001c7f;\" x=\"214.656438\" xlink:href=\"#m6a01eba466\" y=\"171.088323\"/>\r\n     <use style=\"fill:#001c7f;stroke:#001c7f;\" x=\"216.091295\" xlink:href=\"#m6a01eba466\" y=\"169.557368\"/>\r\n     <use style=\"fill:#001c7f;stroke:#001c7f;\" x=\"217.047866\" xlink:href=\"#m6a01eba466\" y=\"171.088323\"/>\r\n     <use style=\"fill:#001c7f;stroke:#001c7f;\" x=\"217.047866\" xlink:href=\"#m6a01eba466\" y=\"195.650168\"/>\r\n     <use style=\"fill:#001c7f;stroke:#001c7f;\" x=\"217.526152\" xlink:href=\"#m6a01eba466\" y=\"168.15954\"/>\r\n     <use style=\"fill:#001c7f;stroke:#001c7f;\" x=\"217.526152\" xlink:href=\"#m6a01eba466\" y=\"168.15954\"/>\r\n     <use style=\"fill:#001c7f;stroke:#001c7f;\" x=\"219.439295\" xlink:href=\"#m6a01eba466\" y=\"180.739997\"/>\r\n     <use style=\"fill:#001c7f;stroke:#001c7f;\" x=\"223.26558\" xlink:href=\"#m6a01eba466\" y=\"164.89794\"/>\r\n     <use style=\"fill:#001c7f;stroke:#001c7f;\" x=\"223.26558\" xlink:href=\"#m6a01eba466\" y=\"132.28194\"/>\r\n     <use style=\"fill:#001c7f;stroke:#001c7f;\" x=\"228.526723\" xlink:href=\"#m6a01eba466\" y=\"157.629231\"/>\r\n     <use style=\"fill:#001c7f;stroke:#001c7f;\" x=\"230.439866\" xlink:href=\"#m6a01eba466\" y=\"143.464568\"/>\r\n     <use style=\"fill:#001c7f;stroke:#001c7f;\" x=\"234.744438\" xlink:href=\"#m6a01eba466\" y=\"151.385597\"/>\r\n     <use style=\"fill:#001c7f;stroke:#001c7f;\" x=\"236.65758\" xlink:href=\"#m6a01eba466\" y=\"166.295768\"/>\r\n     <use style=\"fill:#001c7f;stroke:#001c7f;\" x=\"238.092438\" xlink:href=\"#m6a01eba466\" y=\"143.464568\"/>\r\n     <use style=\"fill:#001c7f;stroke:#001c7f;\" x=\"242.875295\" xlink:href=\"#m6a01eba466\" y=\"177.571585\"/>\r\n     <use style=\"fill:#001c7f;stroke:#001c7f;\" x=\"346.185009\" xlink:href=\"#m6a01eba466\" y=\"42.820911\"/>\r\n    </g>\r\n   </g>\r\n   <g id=\"patch_3\">\r\n    <path d=\"M 43.908438 337.296797 \r\nL 43.908438 11.136797 \r\n\" style=\"fill:none;stroke:#262626;stroke-linecap:square;stroke-linejoin:miter;stroke-width:1.25;\"/>\r\n   </g>\r\n   <g id=\"patch_4\">\r\n    <path d=\"M 378.708438 337.296797 \r\nL 378.708438 11.136797 \r\n\" style=\"fill:none;stroke:#262626;stroke-linecap:square;stroke-linejoin:miter;stroke-width:1.25;\"/>\r\n   </g>\r\n   <g id=\"patch_5\">\r\n    <path d=\"M 43.908438 337.296797 \r\nL 378.708438 337.296797 \r\n\" style=\"fill:none;stroke:#262626;stroke-linecap:square;stroke-linejoin:miter;stroke-width:1.25;\"/>\r\n   </g>\r\n   <g id=\"patch_6\">\r\n    <path d=\"M 43.908438 11.136797 \r\nL 378.708438 11.136797 \r\n\" style=\"fill:none;stroke:#262626;stroke-linecap:square;stroke-linejoin:miter;stroke-width:1.25;\"/>\r\n   </g>\r\n   <g id=\"legend_1\">\r\n    <g id=\"patch_7\">\r\n     <path d=\"M 302.794688 35.496641 \r\nL 371.008438 35.496641 \r\nQ 373.208438 35.496641 373.208438 33.296641 \r\nL 373.208438 18.836797 \r\nQ 373.208438 16.636797 371.008438 16.636797 \r\nL 302.794688 16.636797 \r\nQ 300.594688 16.636797 300.594688 18.836797 \r\nL 300.594688 33.296641 \r\nQ 300.594688 35.496641 302.794688 35.496641 \r\nz\r\n\" style=\"fill:#ffffff;opacity:0.8;stroke:#cccccc;stroke-linejoin:miter;\"/>\r\n    </g>\r\n    <g id=\"line2d_2\"/>\r\n    <g id=\"line2d_3\">\r\n     <g>\r\n      <use style=\"fill:#001c7f;stroke:#001c7f;\" x=\"315.994687\" xlink:href=\"#m6a01eba466\" y=\"25.060391\"/>\r\n     </g>\r\n    </g>\r\n    <g id=\"text_19\">\r\n     <!-- predict -->\r\n     <g style=\"fill:#262626;\" transform=\"translate(335.794688 28.910391)scale(0.11 -0.11)\">\r\n      <defs>\r\n       <path d=\"M 6.59375 -19.875 \r\nL 6.59375 51.859375 \r\nL 14.59375 51.859375 \r\nL 14.59375 45.125 \r\nQ 17.4375 49.078125 21 51.046875 \r\nQ 24.5625 53.03125 29.640625 53.03125 \r\nQ 36.28125 53.03125 41.359375 49.609375 \r\nQ 46.4375 46.1875 49.015625 39.953125 \r\nQ 51.609375 33.734375 51.609375 26.3125 \r\nQ 51.609375 18.359375 48.75 11.984375 \r\nQ 45.90625 5.609375 40.453125 2.21875 \r\nQ 35.015625 -1.171875 29 -1.171875 \r\nQ 24.609375 -1.171875 21.109375 0.6875 \r\nQ 17.625 2.546875 15.375 5.375 \r\nL 15.375 -19.875 \r\nz\r\nM 14.546875 25.640625 \r\nQ 14.546875 15.625 18.59375 10.84375 \r\nQ 22.65625 6.0625 28.421875 6.0625 \r\nQ 34.28125 6.0625 38.453125 11.015625 \r\nQ 42.625 15.96875 42.625 26.375 \r\nQ 42.625 36.28125 38.546875 41.203125 \r\nQ 34.46875 46.140625 28.8125 46.140625 \r\nQ 23.1875 46.140625 18.859375 40.890625 \r\nQ 14.546875 35.640625 14.546875 25.640625 \r\nz\r\n\" id=\"ArialMT-112\"/>\r\n      </defs>\r\n      <use xlink:href=\"#ArialMT-112\"/>\r\n      <use x=\"55.615234\" xlink:href=\"#ArialMT-114\"/>\r\n      <use x=\"88.916016\" xlink:href=\"#ArialMT-101\"/>\r\n      <use x=\"144.53125\" xlink:href=\"#ArialMT-100\"/>\r\n      <use x=\"200.146484\" xlink:href=\"#ArialMT-105\"/>\r\n      <use x=\"222.363281\" xlink:href=\"#ArialMT-99\"/>\r\n      <use x=\"272.363281\" xlink:href=\"#ArialMT-116\"/>\r\n     </g>\r\n    </g>\r\n   </g>\r\n  </g>\r\n </g>\r\n <defs>\r\n  <clipPath id=\"p3e015b566c\">\r\n   <rect height=\"326.16\" width=\"334.8\" x=\"43.908438\" y=\"11.136797\"/>\r\n  </clipPath>\r\n </defs>\r\n</svg>\r\n",
      "image/png": "[encoded data removed]"
     },
     "metadata": {}
    }
   ],
   "source": [
    "fig = plt.figure(figsize=(6,6))\n",
    "ax = plt.axes()\n",
    "\n",
    "ph_test_predict = pd.DataFrame({'test':y_test.values,\n",
    "                                'predict': y_test_pred_gr_sugar}).set_index('test').sort_index()\n",
    "\n",
    "ph_test_predict.plot(marker='o', ls='', ax=ax)\n",
    "ax.set(xlabel='Test', ylabel='Predict', xlim=(0,35), ylim=(0,35));"
   ]
  },
  {
   "cell_type": "markdown",
   "metadata": {},
   "source": [
    "## Question 6 *(Optional)*\n",
    "\n",
    "This question is optional as it requires an additional command line program (GraphViz) and Python library (PyDotPlus). GraphViz can be installed with a package manager on Linux and Mac. For PyDotPlus, either `pip` or `conda` (`conda install -c conda-forge pydotplus`) can be used to install the library.\n",
    "\n",
    "Once these programs are installed:\n",
    "\n",
    "* Create a visualization of the decision tree from question 3, where wine color was predicted and the number of features and/or splits are not limited.\n",
    "* Create a visualization of the decision tree from question 4, where wine color was predicted but a grid search was used to find the optimal depth and number of features.\n",
    "\n",
    "The decision tree from question 5 will likely have too many nodes to visualize."
   ]
  },
  {
   "cell_type": "code",
   "execution_count": 141,
   "metadata": {
    "ExecuteTime": {
     "end_time": "2017-05-09T23:59:29.435753Z",
     "start_time": "2017-05-09T23:59:29.417461Z"
    },
    "collapsed": true
   },
   "outputs": [
    {
     "output_type": "stream",
     "name": "stdout",
     "text": [
      "PyDotPlus must be installed to execute the remainder of the cells associated with this question.\nPlease see the instructions for this question for details.\n"
     ]
    }
   ],
   "source": [
    "from io import StringIO\n",
    "from IPython.display import Image, display\n",
    "\n",
    "from sklearn.tree import export_graphviz\n",
    "\n",
    "try:\n",
    "    import pydotplus\n",
    "    pydotplus_installed = True\n",
    "    \n",
    "except:\n",
    "    print('PyDotPlus must be installed to execute the remainder of the cells associated with this question.')\n",
    "    print('Please see the instructions for this question for details.')\n",
    "    pydotplus_installed = False"
   ]
  },
  {
   "cell_type": "markdown",
   "metadata": {},
   "source": [
    "The tree from question 3."
   ]
  },
  {
   "cell_type": "code",
   "execution_count": 142,
   "metadata": {
    "ExecuteTime": {
     "end_time": "2017-05-09T23:59:31.771292Z",
     "start_time": "2017-05-09T23:59:29.437977Z"
    }
   },
   "outputs": [
    {
     "output_type": "stream",
     "name": "stdout",
     "text": [
      "This cell not executed because PyDotPlus could not be loaded.\n"
     ]
    }
   ],
   "source": [
    "if pydotplus_installed:\n",
    "    \n",
    "    # Create an output destination for the file\n",
    "    dot_data = StringIO()\n",
    "\n",
    "    export_graphviz(dt, out_file=dot_data, filled=True)\n",
    "    graph = pydotplus.graph_from_dot_data(dot_data.getvalue())\n",
    "    print(graph)\n",
    "    # View the tree image\n",
    "    filename = 'wine_tree.png'\n",
    "    graph.write_png(filename)\n",
    "    img = Image(filename=filename)\n",
    "    display(img)\n",
    "    \n",
    "else:\n",
    "    print('This cell not executed because PyDotPlus could not be loaded.')"
   ]
  },
  {
   "cell_type": "markdown",
   "metadata": {},
   "source": [
    "The tree fit with cross validation from question 4. This tree is much shallower than the previous one."
   ]
  },
  {
   "cell_type": "code",
   "execution_count": 143,
   "metadata": {
    "ExecuteTime": {
     "end_time": "2017-05-09T23:59:34.027107Z",
     "start_time": "2017-05-09T23:59:31.773741Z"
    }
   },
   "outputs": [
    {
     "output_type": "stream",
     "name": "stdout",
     "text": [
      "This cell not executed because PyDotPlus could not be loaded.\n"
     ]
    }
   ],
   "source": [
    "if pydotplus_installed:\n",
    "    \n",
    "    # Create an output destination for the file\n",
    "    dot_data = StringIO()\n",
    "\n",
    "    export_graphviz(GR.best_estimator_, out_file=dot_data, filled=True)\n",
    "    graph = pydotplus.graph_from_dot_data(dot_data.getvalue())\n",
    "\n",
    "    # View the tree image\n",
    "    filename = 'wine_tree_prune.png'\n",
    "    graph.write_png(filename)\n",
    "    img = Image(filename=filename) \n",
    "    display(img)\n",
    "    \n",
    "else:\n",
    "    print('This cell not executed because PyDotPlus could not be loaded.')"
   ]
  },
  {
   "cell_type": "markdown",
   "metadata": {
    "collapsed": true
   },
   "source": [
    "## Question 7\n",
    "* Import the iris data and examine the features.\n",
    "* We will be using all of them to predict species, but the species feature will need to be integer encoded."
   ]
  },
  {
   "cell_type": "code",
   "execution_count": 144,
   "metadata": {
    "collapsed": true
   },
   "outputs": [
    {
     "output_type": "execute_result",
     "data": {
      "text/plain": [
       "   sepal_length  sepal_width  petal_length  petal_width      species\n",
       "0           5.1          3.5           1.4          0.2  Iris-setosa\n",
       "1           4.9          3.0           1.4          0.2  Iris-setosa\n",
       "2           4.7          3.2           1.3          0.2  Iris-setosa\n",
       "3           4.6          3.1           1.5          0.2  Iris-setosa\n",
       "4           5.0          3.6           1.4          0.2  Iris-setosa"
      ],
      "text/html": "<div>\n<style scoped>\n    .dataframe tbody tr th:only-of-type {\n        vertical-align: middle;\n    }\n\n    .dataframe tbody tr th {\n        vertical-align: top;\n    }\n\n    .dataframe thead th {\n        text-align: right;\n    }\n</style>\n<table border=\"1\" class=\"dataframe\">\n  <thead>\n    <tr style=\"text-align: right;\">\n      <th></th>\n      <th>sepal_length</th>\n      <th>sepal_width</th>\n      <th>petal_length</th>\n      <th>petal_width</th>\n      <th>species</th>\n    </tr>\n  </thead>\n  <tbody>\n    <tr>\n      <th>0</th>\n      <td>5.1</td>\n      <td>3.5</td>\n      <td>1.4</td>\n      <td>0.2</td>\n      <td>Iris-setosa</td>\n    </tr>\n    <tr>\n      <th>1</th>\n      <td>4.9</td>\n      <td>3.0</td>\n      <td>1.4</td>\n      <td>0.2</td>\n      <td>Iris-setosa</td>\n    </tr>\n    <tr>\n      <th>2</th>\n      <td>4.7</td>\n      <td>3.2</td>\n      <td>1.3</td>\n      <td>0.2</td>\n      <td>Iris-setosa</td>\n    </tr>\n    <tr>\n      <th>3</th>\n      <td>4.6</td>\n      <td>3.1</td>\n      <td>1.5</td>\n      <td>0.2</td>\n      <td>Iris-setosa</td>\n    </tr>\n    <tr>\n      <th>4</th>\n      <td>5.0</td>\n      <td>3.6</td>\n      <td>1.4</td>\n      <td>0.2</td>\n      <td>Iris-setosa</td>\n    </tr>\n  </tbody>\n</table>\n</div>"
     },
     "metadata": {},
     "execution_count": 144
    }
   ],
   "source": [
    "from __future__ import print_function\n",
    "import os\n",
    "data_path = ['data']\n",
    "\n",
    "import pandas as pd\n",
    "import numpy as np\n",
    "\n",
    "filepath2 = os.sep.join(data_path + ['Iris_Data.csv'])\n",
    "irisData = pd.read_csv(filepath2, sep=',')\n",
    "\n",
    "irisData.head()\n"
   ]
  },
  {
   "cell_type": "markdown",
   "metadata": {},
   "source": [
    "Convert the species feature to an integer. This is a quick way to do it using Pandas."
   ]
  },
  {
   "cell_type": "code",
   "execution_count": 145,
   "metadata": {
    "ExecuteTime": {
     "end_time": "2017-05-09T23:59:21.265375Z",
     "start_time": "2017-05-09T23:59:21.255260Z"
    },
    "collapsed": true
   },
   "outputs": [
    {
     "output_type": "execute_result",
     "data": {
      "text/plain": [
       "sepal_length    float64\n",
       "sepal_width     float64\n",
       "petal_length    float64\n",
       "petal_width     float64\n",
       "species          object\n",
       "dtype: object"
      ]
     },
     "metadata": {},
     "execution_count": 145
    }
   ],
   "source": [
    "irisData.dtypes"
   ]
  },
  {
   "cell_type": "markdown",
   "metadata": {},
   "source": [
    "## Question 8\n",
    "\n",
    "* Use `StratifiedShuffleSplit` to split data into train and test sets that are stratified by species. If possible, preserve the indices of the split for question 11 below.\n",
    "* Check the percent composition of each species level for both the train and test data sets."
   ]
  },
  {
   "cell_type": "code",
   "execution_count": 146,
   "metadata": {
    "ExecuteTime": {
     "end_time": "2017-05-09T23:59:21.274460Z",
     "start_time": "2017-05-09T23:59:21.270038Z"
    },
    "collapsed": true
   },
   "outputs": [],
   "source": [
    "# All data columns except for species\n",
    "iris_cols = [x for x in irisData.columns if x not in 'species']"
   ]
  },
  {
   "cell_type": "code",
   "execution_count": 147,
   "metadata": {
    "ExecuteTime": {
     "end_time": "2017-05-09T23:59:21.627973Z",
     "start_time": "2017-05-09T23:59:21.283564Z"
    },
    "collapsed": true
   },
   "outputs": [],
   "source": [
    "from sklearn.model_selection import StratifiedShuffleSplit\n",
    "\n",
    "# This creates a generator\n",
    "strat_shuff_split_iris = StratifiedShuffleSplit(n_splits=1, test_size=0.2, random_state=42)\n",
    "\n",
    "# Get the index values from the generator\n",
    "iris_train_idx, iris_test_idx = next(strat_shuff_split_iris.split(irisData[iris_cols], irisData['species']))\n",
    "\n",
    "# Create the data sets\n",
    "iris_X_train = irisData.loc[iris_train_idx, iris_cols]\n",
    "iris_y_train = irisData.loc[iris_train_idx, 'species']\n",
    "\n",
    "iris_X_test = irisData.loc[iris_test_idx, iris_cols]\n",
    "iris_y_test = irisData.loc[iris_test_idx, 'species']"
   ]
  },
  {
   "cell_type": "markdown",
   "metadata": {},
   "source": [
    "Now check the percent composition of each species in the train and test iris_data sets. The iris_data set is equally distributed, as can be seen below."
   ]
  },
  {
   "cell_type": "code",
   "execution_count": 148,
   "metadata": {
    "ExecuteTime": {
     "end_time": "2017-05-09T23:59:21.639032Z",
     "start_time": "2017-05-09T23:59:21.629538Z"
    },
    "collapsed": true
   },
   "outputs": [
    {
     "output_type": "execute_result",
     "data": {
      "text/plain": [
       "Iris-setosa        0.333333\n",
       "Iris-versicolor    0.333333\n",
       "Iris-virginica     0.333333\n",
       "Name: species, dtype: float64"
      ]
     },
     "metadata": {},
     "execution_count": 148
    }
   ],
   "source": [
    "iris_y_train.value_counts(normalize=True).sort_index()"
   ]
  },
  {
   "cell_type": "code",
   "execution_count": 149,
   "metadata": {
    "ExecuteTime": {
     "end_time": "2017-05-09T23:59:21.648983Z",
     "start_time": "2017-05-09T23:59:21.641824Z"
    },
    "collapsed": true
   },
   "outputs": [
    {
     "output_type": "execute_result",
     "data": {
      "text/plain": [
       "Iris-setosa        0.333333\n",
       "Iris-versicolor    0.333333\n",
       "Iris-virginica     0.333333\n",
       "Name: species, dtype: float64"
      ]
     },
     "metadata": {},
     "execution_count": 149
    }
   ],
   "source": [
    "iris_y_test.value_counts(normalize=True).sort_index()"
   ]
  },
  {
   "cell_type": "markdown",
   "metadata": {},
   "source": [
    "## Question 9\n",
    "\n",
    "* Fit a decision tree classifier with no set limits on maximum depth, features, or leaves.\n",
    "* Determine how many nodes are present and what the depth of this (very large) tree is.\n",
    "* Using this tree, measure the prediction error in the train and test iris_data sets. What do you think is going on here based on the differences in prediction error?"
   ]
  },
  {
   "cell_type": "code",
   "execution_count": 150,
   "metadata": {
    "ExecuteTime": {
     "end_time": "2017-05-09T23:59:21.711217Z",
     "start_time": "2017-05-09T23:59:21.651488Z"
    },
    "collapsed": true
   },
   "outputs": [],
   "source": [
    "from sklearn.tree import DecisionTreeClassifier\n",
    "\n",
    "dt_iris = DecisionTreeClassifier(random_state=42)\n",
    "dt_iris = dt_iris.fit(iris_X_train, iris_y_train)"
   ]
  },
  {
   "cell_type": "markdown",
   "metadata": {},
   "source": [
    "The number of nodes and the maximum actual depth."
   ]
  },
  {
   "cell_type": "code",
   "execution_count": 151,
   "metadata": {
    "ExecuteTime": {
     "end_time": "2017-05-09T23:59:21.717346Z",
     "start_time": "2017-05-09T23:59:21.712743Z"
    },
    "collapsed": true
   },
   "outputs": [
    {
     "output_type": "execute_result",
     "data": {
      "text/plain": [
       "(15, 5)"
      ]
     },
     "metadata": {},
     "execution_count": 151
    }
   ],
   "source": [
    "dt_iris.tree_.node_count, dt_iris.tree_.max_depth"
   ]
  },
  {
   "cell_type": "markdown",
   "metadata": {},
   "source": [
    "A function to return error metrics.\n",
    "#### HINT: This is not a binary classification problem, IRIS data set has 3 classes in target column. Check on score functions"
   ]
  },
  {
   "cell_type": "code",
   "execution_count": 152,
   "metadata": {
    "ExecuteTime": {
     "end_time": "2017-05-09T23:59:21.730535Z",
     "start_time": "2017-05-09T23:59:21.723077Z"
    },
    "collapsed": true
   },
   "outputs": [],
   "source": [
    "from sklearn.metrics import accuracy_score, precision_score, recall_score, f1_score\n",
    "\n",
    "def measure_error(y_true, y_pred, label):\n",
    "    return pd.Series({'accuracy':accuracy_score(y_true, y_pred),\n",
    "                      'precision': precision_score(y_true, y_pred, average = None),\n",
    "                      'recall': recall_score(y_true, y_pred, average = None),\n",
    "                      'f1': f1_score(y_true, y_pred, average = None)},\n",
    "                      name=label)"
   ]
  },
  {
   "cell_type": "markdown",
   "metadata": {},
   "source": [
    "The decision tree predicts a little better on the training iris_data than the test iris_data, which is consistent with (mild)  overfitting. Also notice the perfect recall score for the training iris_data. In many instances, this prediction difference is even greater than that seen here. "
   ]
  },
  {
   "cell_type": "code",
   "execution_count": 153,
   "metadata": {
    "ExecuteTime": {
     "end_time": "2017-05-09T23:59:21.751859Z",
     "start_time": "2017-05-09T23:59:21.732680Z"
    },
    "collapsed": true
   },
   "outputs": [
    {
     "output_type": "execute_result",
     "data": {
      "text/plain": [
       "                     train             test\n",
       "accuracy                 1         0.933333\n",
       "precision  [1.0, 1.0, 1.0]  [1.0, 0.9, 0.9]\n",
       "recall     [1.0, 1.0, 1.0]  [1.0, 0.9, 0.9]\n",
       "f1         [1.0, 1.0, 1.0]  [1.0, 0.9, 0.9]"
      ],
      "text/html": "<div>\n<style scoped>\n    .dataframe tbody tr th:only-of-type {\n        vertical-align: middle;\n    }\n\n    .dataframe tbody tr th {\n        vertical-align: top;\n    }\n\n    .dataframe thead th {\n        text-align: right;\n    }\n</style>\n<table border=\"1\" class=\"dataframe\">\n  <thead>\n    <tr style=\"text-align: right;\">\n      <th></th>\n      <th>train</th>\n      <th>test</th>\n    </tr>\n  </thead>\n  <tbody>\n    <tr>\n      <th>accuracy</th>\n      <td>1</td>\n      <td>0.933333</td>\n    </tr>\n    <tr>\n      <th>precision</th>\n      <td>[1.0, 1.0, 1.0]</td>\n      <td>[1.0, 0.9, 0.9]</td>\n    </tr>\n    <tr>\n      <th>recall</th>\n      <td>[1.0, 1.0, 1.0]</td>\n      <td>[1.0, 0.9, 0.9]</td>\n    </tr>\n    <tr>\n      <th>f1</th>\n      <td>[1.0, 1.0, 1.0]</td>\n      <td>[1.0, 0.9, 0.9]</td>\n    </tr>\n  </tbody>\n</table>\n</div>"
     },
     "metadata": {},
     "execution_count": 153
    }
   ],
   "source": [
    "# The error on the training and test data sets\n",
    "iris_y_train_pred = dt_iris.predict(iris_X_train)\n",
    "iris_y_test_pred = dt_iris.predict(iris_X_test)\n",
    "\n",
    "train_test_full_error_iris = pd.concat([measure_error(iris_y_train, iris_y_train_pred, 'train'),\n",
    "                              measure_error(iris_y_test, iris_y_test_pred, 'test')],\n",
    "                              axis=1)\n",
    "\n",
    "train_test_full_error_iris"
   ]
  },
  {
   "cell_type": "markdown",
   "metadata": {},
   "source": [
    "## Question 10\n",
    "\n",
    "* Using grid search with cross validation, find a decision tree that performs well on the test iris_data set. Use a different variable name for this decision tree model than in question 9 so that both can be used in question 12.\n",
    "* Determine the number of nodes and the depth of this tree.\n",
    "* Measure the errors on the training and test sets as before and compare them to those from the tree in question 9."
   ]
  },
  {
   "cell_type": "code",
   "execution_count": 154,
   "metadata": {
    "ExecuteTime": {
     "end_time": "2017-05-09T23:59:24.274020Z",
     "start_time": "2017-05-09T23:59:21.753343Z"
    },
    "collapsed": true
   },
   "outputs": [],
   "source": [
    "from sklearn.model_selection import GridSearchCV\n",
    "\n",
    "param_grid = {'max_depth':range(1, dt_iris.tree_.max_depth+1, 2),\n",
    "              'max_features': range(1, len(dt_iris.feature_importances_)+1)}\n",
    "\n",
    "GR_iris = GridSearchCV(DecisionTreeClassifier(random_state=42),\n",
    "                  param_grid=param_grid,\n",
    "                  scoring='accuracy',\n",
    "                  n_jobs=-1)\n",
    "\n",
    "GR_iris = GR_iris.fit(iris_X_train, iris_y_train)"
   ]
  },
  {
   "cell_type": "markdown",
   "metadata": {},
   "source": [
    "The number of nodes and the maximum depth of the tree."
   ]
  },
  {
   "cell_type": "code",
   "execution_count": 155,
   "metadata": {
    "ExecuteTime": {
     "end_time": "2017-05-09T23:59:24.280804Z",
     "start_time": "2017-05-09T23:59:24.275977Z"
    },
    "collapsed": true
   },
   "outputs": [
    {
     "output_type": "execute_result",
     "data": {
      "text/plain": [
       "(9, 3)"
      ]
     },
     "metadata": {},
     "execution_count": 155
    }
   ],
   "source": [
    "GR_iris.best_estimator_.tree_.node_count, GR_iris.best_estimator_.tree_.max_depth"
   ]
  },
  {
   "cell_type": "markdown",
   "metadata": {},
   "source": [
    "These test errors are a little better than the previous ones. So it would seem the previous example overfit the iris_data, but only slightly so."
   ]
  },
  {
   "cell_type": "code",
   "execution_count": 156,
   "metadata": {
    "ExecuteTime": {
     "end_time": "2017-05-09T23:59:24.295309Z",
     "start_time": "2017-05-09T23:59:24.282493Z"
    },
    "collapsed": true
   },
   "outputs": [
    {
     "output_type": "execute_result",
     "data": {
      "text/plain": [
       "                                                   train             test\n",
       "accuracy                                        0.966667         0.933333\n",
       "precision  [1.0, 0.9285714285714286, 0.9736842105263158]  [1.0, 0.9, 0.9]\n",
       "recall                               [1.0, 0.975, 0.925]  [1.0, 0.9, 0.9]\n",
       "f1          [1.0, 0.951219512195122, 0.9487179487179489]  [1.0, 0.9, 0.9]"
      ],
      "text/html": "<div>\n<style scoped>\n    .dataframe tbody tr th:only-of-type {\n        vertical-align: middle;\n    }\n\n    .dataframe tbody tr th {\n        vertical-align: top;\n    }\n\n    .dataframe thead th {\n        text-align: right;\n    }\n</style>\n<table border=\"1\" class=\"dataframe\">\n  <thead>\n    <tr style=\"text-align: right;\">\n      <th></th>\n      <th>train</th>\n      <th>test</th>\n    </tr>\n  </thead>\n  <tbody>\n    <tr>\n      <th>accuracy</th>\n      <td>0.966667</td>\n      <td>0.933333</td>\n    </tr>\n    <tr>\n      <th>precision</th>\n      <td>[1.0, 0.9285714285714286, 0.9736842105263158]</td>\n      <td>[1.0, 0.9, 0.9]</td>\n    </tr>\n    <tr>\n      <th>recall</th>\n      <td>[1.0, 0.975, 0.925]</td>\n      <td>[1.0, 0.9, 0.9]</td>\n    </tr>\n    <tr>\n      <th>f1</th>\n      <td>[1.0, 0.951219512195122, 0.9487179487179489]</td>\n      <td>[1.0, 0.9, 0.9]</td>\n    </tr>\n  </tbody>\n</table>\n</div>"
     },
     "metadata": {},
     "execution_count": 156
    }
   ],
   "source": [
    "iris_y_train_pred_gr = GR_iris.predict(iris_X_train)\n",
    "iris_y_test_pred_gr = GR_iris.predict(iris_X_test)\n",
    "\n",
    "train_test_gr_error_iris = pd.concat([measure_error(iris_y_train, iris_y_train_pred_gr, 'train'),\n",
    "                                 measure_error(iris_y_test, iris_y_test_pred_gr, 'test')],\n",
    "                                axis=1)\n",
    "train_test_gr_error_iris"
   ]
  },
  {
   "cell_type": "markdown",
   "metadata": {},
   "source": [
    "# Question 11\n",
    "\n",
    "* Re-split the iris_data into `X` and `y` parts, this time with `species` being the predicted (`y`) iris_data. *Note:* if the indices were preserved from the `StratifiedShuffleSplit` output in question 8, they can be used again to split the iris_data.\n",
    "* Using grid search with cross validation, find a decision tree **regression** model that performs well on the test iris_data set.\n",
    "* Measure the errors on the training and test sets using mean squared error.\n",
    "* Make a plot of actual *vs* predicted species."
   ]
  },
  {
   "cell_type": "code",
   "execution_count": 157,
   "metadata": {
    "ExecuteTime": {
     "end_time": "2017-05-09T23:59:24.317443Z",
     "start_time": "2017-05-09T23:59:24.305043Z"
    },
    "collapsed": true
   },
   "outputs": [],
   "source": [
    "from sklearn.preprocessing import LabelEncoder\n",
    "\n",
    "iris_cols = [x for x in irisData.columns if x != 'species']\n",
    "\n",
    "# Create the data sets\n",
    "iris_X_train2 = irisData.loc[iris_train_idx, iris_cols]\n",
    "iris_y_train2 = irisData.loc[iris_train_idx, 'species']\n",
    "\n",
    "iris_X_test2 = irisData.loc[iris_test_idx, iris_cols]\n",
    "iris_y_test2 = irisData.loc[iris_test_idx, 'species']\n",
    "\n",
    "le1 = LabelEncoder()\n",
    "le1 = le1.fit(iris_y_train2)\n",
    "iris_y_train2 = le1.transform(iris_y_train2)\n",
    "\n",
    "le2 = LabelEncoder()\n",
    "le2 = le2.fit(iris_y_test2)\n",
    "iris_y_test2 = le2.transform(iris_y_test2)"
   ]
  },
  {
   "cell_type": "markdown",
   "metadata": {},
   "source": [
    "The number of nodes and the maximum depth of the tree. This tree has lots of nodes, which is not so surprising given the continuous iris_data."
   ]
  },
  {
   "cell_type": "code",
   "execution_count": 158,
   "metadata": {
    "ExecuteTime": {
     "end_time": "2017-05-09T23:59:28.941182Z",
     "start_time": "2017-05-09T23:59:28.933876Z"
    },
    "collapsed": true
   },
   "outputs": [
    {
     "output_type": "execute_result",
     "data": {
      "text/plain": [
       "(9, 3)"
      ]
     },
     "metadata": {},
     "execution_count": 158
    }
   ],
   "source": [
    "from sklearn.tree import DecisionTreeRegressor\n",
    "\n",
    "dr_iris = DecisionTreeRegressor().fit(iris_X_train2, iris_y_train2)\n",
    "\n",
    "param_grid = {'max_depth':range(1, dr_iris.tree_.max_depth+1, 2),\n",
    "              'max_features': range(1, len(dr_iris.feature_importances_)+1)}\n",
    "\n",
    "GR_species = GridSearchCV(DecisionTreeRegressor(random_state=42),\n",
    "                     param_grid=param_grid,\n",
    "                     scoring='neg_mean_squared_error',\n",
    "                      n_jobs=-1)\n",
    "\n",
    "GR_species = GR_species.fit(iris_X_train2, iris_y_train2)\n",
    "\n",
    "GR_species.best_estimator_.tree_.node_count, GR_species.best_estimator_.tree_.max_depth"
   ]
  },
  {
   "cell_type": "markdown",
   "metadata": {},
   "source": [
    "The error on train and test iris_data sets. Since this is continuous, we will use mean squared error."
   ]
  },
  {
   "cell_type": "code",
   "execution_count": 159,
   "metadata": {
    "ExecuteTime": {
     "end_time": "2017-05-09T23:59:28.962134Z",
     "start_time": "2017-05-09T23:59:28.943461Z"
    },
    "collapsed": true
   },
   "outputs": [
    {
     "output_type": "execute_result",
     "data": {
      "text/plain": [
       "        train      test\n",
       "MSE  0.026522  0.072513"
      ],
      "text/html": "<div>\n<style scoped>\n    .dataframe tbody tr th:only-of-type {\n        vertical-align: middle;\n    }\n\n    .dataframe tbody tr th {\n        vertical-align: top;\n    }\n\n    .dataframe thead th {\n        text-align: right;\n    }\n</style>\n<table border=\"1\" class=\"dataframe\">\n  <thead>\n    <tr style=\"text-align: right;\">\n      <th></th>\n      <th>train</th>\n      <th>test</th>\n    </tr>\n  </thead>\n  <tbody>\n    <tr>\n      <th>MSE</th>\n      <td>0.026522</td>\n      <td>0.072513</td>\n    </tr>\n  </tbody>\n</table>\n</div>"
     },
     "metadata": {},
     "execution_count": 159
    }
   ],
   "source": [
    "from sklearn.metrics import mean_squared_error\n",
    "\n",
    "iris_y_train_pred_gr_species = GR_species.predict(iris_X_train2)\n",
    "iris_y_test_pred_gr_species  = GR_species.predict(iris_X_test2)\n",
    "\n",
    "train_test_gr_species_error = pd.Series({'train': mean_squared_error(iris_y_train2, iris_y_train_pred_gr_species),\n",
    "                                         'test':  mean_squared_error(iris_y_test2, iris_y_test_pred_gr_species)},\n",
    "                                          name='MSE').to_frame().T\n",
    "\n",
    "train_test_gr_species_error"
   ]
  },
  {
   "cell_type": "markdown",
   "metadata": {},
   "source": [
    "A plot of actual vs predicted species."
   ]
  },
  {
   "cell_type": "code",
   "execution_count": 160,
   "metadata": {
    "ExecuteTime": {
     "end_time": "2017-05-09T23:59:29.415847Z",
     "start_time": "2017-05-09T23:59:29.174948Z"
    },
    "collapsed": true
   },
   "outputs": [],
   "source": [
    "import matplotlib.pyplot as plt\n",
    "import seaborn as sns\n",
    "\n",
    "sns.set_context('notebook')\n",
    "sns.set_style('white')\n",
    "sns.set_palette('dark')\n",
    "\n",
    "%matplotlib inline"
   ]
  },
  {
   "cell_type": "code",
   "execution_count": 164,
   "metadata": {},
   "outputs": [
    {
     "output_type": "display_data",
     "data": {
      "text/plain": "<Figure size 432x432 with 1 Axes>",
      "image/svg+xml": "<?xml version=\"1.0\" encoding=\"utf-8\" standalone=\"no\"?>\r\n<!DOCTYPE svg PUBLIC \"-//W3C//DTD SVG 1.1//EN\"\r\n  \"http://www.w3.org/Graphics/SVG/1.1/DTD/svg11.dtd\">\r\n<!-- Created with matplotlib (https://matplotlib.org/) -->\r\n<svg height=\"379.031016pt\" version=\"1.1\" viewBox=\"0 0 382.849922 379.031016\" width=\"382.849922pt\" xmlns=\"http://www.w3.org/2000/svg\" xmlns:xlink=\"http://www.w3.org/1999/xlink\">\r\n <metadata>\r\n  <rdf:RDF xmlns:cc=\"http://creativecommons.org/ns#\" xmlns:dc=\"http://purl.org/dc/elements/1.1/\" xmlns:rdf=\"http://www.w3.org/1999/02/22-rdf-syntax-ns#\">\r\n   <cc:Work>\r\n    <dc:type rdf:resource=\"http://purl.org/dc/dcmitype/StillImage\"/>\r\n    <dc:date>2021-01-05T12:23:21.786258</dc:date>\r\n    <dc:format>image/svg+xml</dc:format>\r\n    <dc:creator>\r\n     <cc:Agent>\r\n      <dc:title>Matplotlib v3.3.2, https://matplotlib.org/</dc:title>\r\n     </cc:Agent>\r\n    </dc:creator>\r\n   </cc:Work>\r\n  </rdf:RDF>\r\n </metadata>\r\n <defs>\r\n  <style type=\"text/css\">*{stroke-linecap:butt;stroke-linejoin:round;}</style>\r\n </defs>\r\n <g id=\"figure_1\">\r\n  <g id=\"patch_1\">\r\n   <path d=\"M 0 379.031016 \r\nL 382.849922 379.031016 \r\nL 382.849922 0 \r\nL 0 0 \r\nz\r\n\" style=\"fill:none;\"/>\r\n  </g>\r\n  <g id=\"axes_1\">\r\n   <g id=\"patch_2\">\r\n    <path d=\"M 37.791406 337.296797 \r\nL 372.591406 337.296797 \r\nL 372.591406 11.136797 \r\nL 37.791406 11.136797 \r\nz\r\n\" style=\"fill:#ffffff;\"/>\r\n   </g>\r\n   <g id=\"matplotlib.axis_1\">\r\n    <g id=\"xtick_1\">\r\n     <g id=\"text_1\">\r\n      <!-- 0 -->\r\n      <g style=\"fill:#262626;\" transform=\"translate(34.732891 354.670391)scale(0.11 -0.11)\">\r\n       <defs>\r\n        <path d=\"M 4.15625 35.296875 \r\nQ 4.15625 48 6.765625 55.734375 \r\nQ 9.375 63.484375 14.515625 67.671875 \r\nQ 19.671875 71.875 27.484375 71.875 \r\nQ 33.25 71.875 37.59375 69.546875 \r\nQ 41.9375 67.234375 44.765625 62.859375 \r\nQ 47.609375 58.5 49.21875 52.21875 \r\nQ 50.828125 45.953125 50.828125 35.296875 \r\nQ 50.828125 22.703125 48.234375 14.96875 \r\nQ 45.65625 7.234375 40.5 3 \r\nQ 35.359375 -1.21875 27.484375 -1.21875 \r\nQ 17.140625 -1.21875 11.234375 6.203125 \r\nQ 4.15625 15.140625 4.15625 35.296875 \r\nz\r\nM 13.1875 35.296875 \r\nQ 13.1875 17.671875 17.3125 11.828125 \r\nQ 21.4375 6 27.484375 6 \r\nQ 33.546875 6 37.671875 11.859375 \r\nQ 41.796875 17.71875 41.796875 35.296875 \r\nQ 41.796875 52.984375 37.671875 58.78125 \r\nQ 33.546875 64.59375 27.390625 64.59375 \r\nQ 21.34375 64.59375 17.71875 59.46875 \r\nQ 13.1875 52.9375 13.1875 35.296875 \r\nz\r\n\" id=\"ArialMT-48\"/>\r\n       </defs>\r\n       <use xlink:href=\"#ArialMT-48\"/>\r\n      </g>\r\n     </g>\r\n    </g>\r\n    <g id=\"xtick_2\">\r\n     <g id=\"text_2\">\r\n      <!-- 1 -->\r\n      <g style=\"fill:#262626;\" transform=\"translate(101.692891 354.670391)scale(0.11 -0.11)\">\r\n       <defs>\r\n        <path d=\"M 37.25 0 \r\nL 28.46875 0 \r\nL 28.46875 56 \r\nQ 25.296875 52.984375 20.140625 49.953125 \r\nQ 14.984375 46.921875 10.890625 45.40625 \r\nL 10.890625 53.90625 \r\nQ 18.265625 57.375 23.78125 62.296875 \r\nQ 29.296875 67.234375 31.59375 71.875 \r\nL 37.25 71.875 \r\nz\r\n\" id=\"ArialMT-49\"/>\r\n       </defs>\r\n       <use xlink:href=\"#ArialMT-49\"/>\r\n      </g>\r\n     </g>\r\n    </g>\r\n    <g id=\"xtick_3\">\r\n     <g id=\"text_3\">\r\n      <!-- 2 -->\r\n      <g style=\"fill:#262626;\" transform=\"translate(168.652891 354.670391)scale(0.11 -0.11)\">\r\n       <defs>\r\n        <path d=\"M 50.34375 8.453125 \r\nL 50.34375 0 \r\nL 3.03125 0 \r\nQ 2.9375 3.171875 4.046875 6.109375 \r\nQ 5.859375 10.9375 9.828125 15.625 \r\nQ 13.8125 20.3125 21.34375 26.46875 \r\nQ 33.015625 36.03125 37.109375 41.625 \r\nQ 41.21875 47.21875 41.21875 52.203125 \r\nQ 41.21875 57.421875 37.46875 61 \r\nQ 33.734375 64.59375 27.734375 64.59375 \r\nQ 21.390625 64.59375 17.578125 60.78125 \r\nQ 13.765625 56.984375 13.71875 50.25 \r\nL 4.6875 51.171875 \r\nQ 5.609375 61.28125 11.65625 66.578125 \r\nQ 17.71875 71.875 27.9375 71.875 \r\nQ 38.234375 71.875 44.234375 66.15625 \r\nQ 50.25 60.453125 50.25 52 \r\nQ 50.25 47.703125 48.484375 43.546875 \r\nQ 46.734375 39.40625 42.65625 34.8125 \r\nQ 38.578125 30.21875 29.109375 22.21875 \r\nQ 21.1875 15.578125 18.9375 13.203125 \r\nQ 16.703125 10.84375 15.234375 8.453125 \r\nz\r\n\" id=\"ArialMT-50\"/>\r\n       </defs>\r\n       <use xlink:href=\"#ArialMT-50\"/>\r\n      </g>\r\n     </g>\r\n    </g>\r\n    <g id=\"xtick_4\">\r\n     <g id=\"text_4\">\r\n      <!-- 3 -->\r\n      <g style=\"fill:#262626;\" transform=\"translate(235.612891 354.670391)scale(0.11 -0.11)\">\r\n       <defs>\r\n        <path d=\"M 4.203125 18.890625 \r\nL 12.984375 20.0625 \r\nQ 14.5 12.59375 18.140625 9.296875 \r\nQ 21.78125 6 27 6 \r\nQ 33.203125 6 37.46875 10.296875 \r\nQ 41.75 14.59375 41.75 20.953125 \r\nQ 41.75 27 37.796875 30.921875 \r\nQ 33.84375 34.859375 27.734375 34.859375 \r\nQ 25.25 34.859375 21.53125 33.890625 \r\nL 22.515625 41.609375 \r\nQ 23.390625 41.5 23.921875 41.5 \r\nQ 29.546875 41.5 34.03125 44.421875 \r\nQ 38.53125 47.359375 38.53125 53.46875 \r\nQ 38.53125 58.296875 35.25 61.46875 \r\nQ 31.984375 64.65625 26.8125 64.65625 \r\nQ 21.6875 64.65625 18.265625 61.421875 \r\nQ 14.84375 58.203125 13.875 51.765625 \r\nL 5.078125 53.328125 \r\nQ 6.6875 62.15625 12.390625 67.015625 \r\nQ 18.109375 71.875 26.609375 71.875 \r\nQ 32.46875 71.875 37.390625 69.359375 \r\nQ 42.328125 66.84375 44.9375 62.5 \r\nQ 47.5625 58.15625 47.5625 53.265625 \r\nQ 47.5625 48.640625 45.0625 44.828125 \r\nQ 42.578125 41.015625 37.703125 38.765625 \r\nQ 44.046875 37.3125 47.5625 32.6875 \r\nQ 51.078125 28.078125 51.078125 21.140625 \r\nQ 51.078125 11.765625 44.234375 5.25 \r\nQ 37.40625 -1.265625 26.953125 -1.265625 \r\nQ 17.53125 -1.265625 11.296875 4.34375 \r\nQ 5.078125 9.96875 4.203125 18.890625 \r\nz\r\n\" id=\"ArialMT-51\"/>\r\n       </defs>\r\n       <use xlink:href=\"#ArialMT-51\"/>\r\n      </g>\r\n     </g>\r\n    </g>\r\n    <g id=\"xtick_5\">\r\n     <g id=\"text_5\">\r\n      <!-- 4 -->\r\n      <g style=\"fill:#262626;\" transform=\"translate(302.572891 354.670391)scale(0.11 -0.11)\">\r\n       <defs>\r\n        <path d=\"M 32.328125 0 \r\nL 32.328125 17.140625 \r\nL 1.265625 17.140625 \r\nL 1.265625 25.203125 \r\nL 33.9375 71.578125 \r\nL 41.109375 71.578125 \r\nL 41.109375 25.203125 \r\nL 50.78125 25.203125 \r\nL 50.78125 17.140625 \r\nL 41.109375 17.140625 \r\nL 41.109375 0 \r\nz\r\nM 32.328125 25.203125 \r\nL 32.328125 57.46875 \r\nL 9.90625 25.203125 \r\nz\r\n\" id=\"ArialMT-52\"/>\r\n       </defs>\r\n       <use xlink:href=\"#ArialMT-52\"/>\r\n      </g>\r\n     </g>\r\n    </g>\r\n    <g id=\"xtick_6\">\r\n     <g id=\"text_6\">\r\n      <!-- 5 -->\r\n      <g style=\"fill:#262626;\" transform=\"translate(369.532891 354.670391)scale(0.11 -0.11)\">\r\n       <defs>\r\n        <path d=\"M 4.15625 18.75 \r\nL 13.375 19.53125 \r\nQ 14.40625 12.796875 18.140625 9.390625 \r\nQ 21.875 6 27.15625 6 \r\nQ 33.5 6 37.890625 10.78125 \r\nQ 42.28125 15.578125 42.28125 23.484375 \r\nQ 42.28125 31 38.0625 35.34375 \r\nQ 33.84375 39.703125 27 39.703125 \r\nQ 22.75 39.703125 19.328125 37.765625 \r\nQ 15.921875 35.84375 13.96875 32.765625 \r\nL 5.71875 33.84375 \r\nL 12.640625 70.609375 \r\nL 48.25 70.609375 \r\nL 48.25 62.203125 \r\nL 19.671875 62.203125 \r\nL 15.828125 42.96875 \r\nQ 22.265625 47.46875 29.34375 47.46875 \r\nQ 38.71875 47.46875 45.15625 40.96875 \r\nQ 51.609375 34.46875 51.609375 24.265625 \r\nQ 51.609375 14.546875 45.953125 7.46875 \r\nQ 39.0625 -1.21875 27.15625 -1.21875 \r\nQ 17.390625 -1.21875 11.203125 4.25 \r\nQ 5.03125 9.71875 4.15625 18.75 \r\nz\r\n\" id=\"ArialMT-53\"/>\r\n       </defs>\r\n       <use xlink:href=\"#ArialMT-53\"/>\r\n      </g>\r\n     </g>\r\n    </g>\r\n    <g id=\"text_7\">\r\n     <!-- Tesrt -->\r\n     <g style=\"fill:#262626;\" transform=\"translate(192.192969 369.446016)scale(0.12 -0.12)\">\r\n      <defs>\r\n       <path d=\"M 25.921875 0 \r\nL 25.921875 63.140625 \r\nL 2.34375 63.140625 \r\nL 2.34375 71.578125 \r\nL 59.078125 71.578125 \r\nL 59.078125 63.140625 \r\nL 35.40625 63.140625 \r\nL 35.40625 0 \r\nz\r\n\" id=\"ArialMT-84\"/>\r\n       <path d=\"M 42.09375 16.703125 \r\nL 51.171875 15.578125 \r\nQ 49.03125 7.625 43.21875 3.21875 \r\nQ 37.40625 -1.171875 28.375 -1.171875 \r\nQ 17 -1.171875 10.328125 5.828125 \r\nQ 3.65625 12.84375 3.65625 25.484375 \r\nQ 3.65625 38.578125 10.390625 45.796875 \r\nQ 17.140625 53.03125 27.875 53.03125 \r\nQ 38.28125 53.03125 44.875 45.953125 \r\nQ 51.46875 38.875 51.46875 26.03125 \r\nQ 51.46875 25.25 51.421875 23.6875 \r\nL 12.75 23.6875 \r\nQ 13.234375 15.140625 17.578125 10.59375 \r\nQ 21.921875 6.0625 28.421875 6.0625 \r\nQ 33.25 6.0625 36.671875 8.59375 \r\nQ 40.09375 11.140625 42.09375 16.703125 \r\nz\r\nM 13.234375 30.90625 \r\nL 42.1875 30.90625 \r\nQ 41.609375 37.453125 38.875 40.71875 \r\nQ 34.671875 45.796875 27.984375 45.796875 \r\nQ 21.921875 45.796875 17.796875 41.75 \r\nQ 13.671875 37.703125 13.234375 30.90625 \r\nz\r\n\" id=\"ArialMT-101\"/>\r\n       <path d=\"M 3.078125 15.484375 \r\nL 11.765625 16.84375 \r\nQ 12.5 11.625 15.84375 8.84375 \r\nQ 19.1875 6.0625 25.203125 6.0625 \r\nQ 31.25 6.0625 34.171875 8.515625 \r\nQ 37.109375 10.984375 37.109375 14.3125 \r\nQ 37.109375 17.28125 34.515625 19 \r\nQ 32.71875 20.171875 25.53125 21.96875 \r\nQ 15.875 24.421875 12.140625 26.203125 \r\nQ 8.40625 27.984375 6.46875 31.125 \r\nQ 4.546875 34.28125 4.546875 38.09375 \r\nQ 4.546875 41.546875 6.125 44.5 \r\nQ 7.71875 47.46875 10.453125 49.421875 \r\nQ 12.5 50.921875 16.03125 51.96875 \r\nQ 19.578125 53.03125 23.640625 53.03125 \r\nQ 29.734375 53.03125 34.34375 51.265625 \r\nQ 38.96875 49.515625 41.15625 46.5 \r\nQ 43.359375 43.5 44.1875 38.484375 \r\nL 35.59375 37.3125 \r\nQ 35.015625 41.3125 32.203125 43.546875 \r\nQ 29.390625 45.796875 24.265625 45.796875 \r\nQ 18.21875 45.796875 15.625 43.796875 \r\nQ 13.03125 41.796875 13.03125 39.109375 \r\nQ 13.03125 37.40625 14.109375 36.03125 \r\nQ 15.1875 34.625 17.484375 33.6875 \r\nQ 18.796875 33.203125 25.25 31.453125 \r\nQ 34.578125 28.953125 38.25 27.359375 \r\nQ 41.9375 25.78125 44.03125 22.75 \r\nQ 46.140625 19.734375 46.140625 15.234375 \r\nQ 46.140625 10.84375 43.578125 6.953125 \r\nQ 41.015625 3.078125 36.171875 0.953125 \r\nQ 31.34375 -1.171875 25.25 -1.171875 \r\nQ 15.140625 -1.171875 9.84375 3.03125 \r\nQ 4.546875 7.234375 3.078125 15.484375 \r\nz\r\n\" id=\"ArialMT-115\"/>\r\n       <path d=\"M 6.5 0 \r\nL 6.5 51.859375 \r\nL 14.40625 51.859375 \r\nL 14.40625 44 \r\nQ 17.4375 49.515625 20 51.265625 \r\nQ 22.5625 53.03125 25.640625 53.03125 \r\nQ 30.078125 53.03125 34.671875 50.203125 \r\nL 31.640625 42.046875 \r\nQ 28.421875 43.953125 25.203125 43.953125 \r\nQ 22.3125 43.953125 20.015625 42.21875 \r\nQ 17.71875 40.484375 16.75 37.40625 \r\nQ 15.28125 32.71875 15.28125 27.15625 \r\nL 15.28125 0 \r\nz\r\n\" id=\"ArialMT-114\"/>\r\n       <path d=\"M 25.78125 7.859375 \r\nL 27.046875 0.09375 \r\nQ 23.34375 -0.6875 20.40625 -0.6875 \r\nQ 15.625 -0.6875 12.984375 0.828125 \r\nQ 10.359375 2.34375 9.28125 4.8125 \r\nQ 8.203125 7.28125 8.203125 15.1875 \r\nL 8.203125 45.015625 \r\nL 1.765625 45.015625 \r\nL 1.765625 51.859375 \r\nL 8.203125 51.859375 \r\nL 8.203125 64.703125 \r\nL 16.9375 69.96875 \r\nL 16.9375 51.859375 \r\nL 25.78125 51.859375 \r\nL 25.78125 45.015625 \r\nL 16.9375 45.015625 \r\nL 16.9375 14.703125 \r\nQ 16.9375 10.9375 17.40625 9.859375 \r\nQ 17.875 8.796875 18.921875 8.15625 \r\nQ 19.96875 7.515625 21.921875 7.515625 \r\nQ 23.390625 7.515625 25.78125 7.859375 \r\nz\r\n\" id=\"ArialMT-116\"/>\r\n      </defs>\r\n      <use xlink:href=\"#ArialMT-84\"/>\r\n      <use x=\"49.958984\" xlink:href=\"#ArialMT-101\"/>\r\n      <use x=\"105.574219\" xlink:href=\"#ArialMT-115\"/>\r\n      <use x=\"155.574219\" xlink:href=\"#ArialMT-114\"/>\r\n      <use x=\"188.875\" xlink:href=\"#ArialMT-116\"/>\r\n     </g>\r\n    </g>\r\n   </g>\r\n   <g id=\"matplotlib.axis_2\">\r\n    <g id=\"ytick_1\">\r\n     <g id=\"text_8\">\r\n      <!-- 0 -->\r\n      <g style=\"fill:#262626;\" transform=\"translate(22.174375 341.233594)scale(0.11 -0.11)\">\r\n       <use xlink:href=\"#ArialMT-48\"/>\r\n      </g>\r\n     </g>\r\n    </g>\r\n    <g id=\"ytick_2\">\r\n     <g id=\"text_9\">\r\n      <!-- 1 -->\r\n      <g style=\"fill:#262626;\" transform=\"translate(22.174375 276.001594)scale(0.11 -0.11)\">\r\n       <use xlink:href=\"#ArialMT-49\"/>\r\n      </g>\r\n     </g>\r\n    </g>\r\n    <g id=\"ytick_3\">\r\n     <g id=\"text_10\">\r\n      <!-- 2 -->\r\n      <g style=\"fill:#262626;\" transform=\"translate(22.174375 210.769594)scale(0.11 -0.11)\">\r\n       <use xlink:href=\"#ArialMT-50\"/>\r\n      </g>\r\n     </g>\r\n    </g>\r\n    <g id=\"ytick_4\">\r\n     <g id=\"text_11\">\r\n      <!-- 3 -->\r\n      <g style=\"fill:#262626;\" transform=\"translate(22.174375 145.537594)scale(0.11 -0.11)\">\r\n       <use xlink:href=\"#ArialMT-51\"/>\r\n      </g>\r\n     </g>\r\n    </g>\r\n    <g id=\"ytick_5\">\r\n     <g id=\"text_12\">\r\n      <!-- 4 -->\r\n      <g style=\"fill:#262626;\" transform=\"translate(22.174375 80.305594)scale(0.11 -0.11)\">\r\n       <use xlink:href=\"#ArialMT-52\"/>\r\n      </g>\r\n     </g>\r\n    </g>\r\n    <g id=\"ytick_6\">\r\n     <g id=\"text_13\">\r\n      <!-- 5 -->\r\n      <g style=\"fill:#262626;\" transform=\"translate(22.174375 15.073594)scale(0.11 -0.11)\">\r\n       <use xlink:href=\"#ArialMT-53\"/>\r\n      </g>\r\n     </g>\r\n    </g>\r\n    <g id=\"text_14\">\r\n     <!-- Predict -->\r\n     <g style=\"fill:#262626;\" transform=\"translate(15.789375 192.889922)rotate(-90)scale(0.12 -0.12)\">\r\n      <defs>\r\n       <path d=\"M 7.71875 0 \r\nL 7.71875 71.578125 \r\nL 34.71875 71.578125 \r\nQ 41.84375 71.578125 45.609375 70.90625 \r\nQ 50.875 70.015625 54.4375 67.546875 \r\nQ 58.015625 65.09375 60.1875 60.640625 \r\nQ 62.359375 56.203125 62.359375 50.875 \r\nQ 62.359375 41.75 56.546875 35.421875 \r\nQ 50.734375 29.109375 35.546875 29.109375 \r\nL 17.1875 29.109375 \r\nL 17.1875 0 \r\nz\r\nM 17.1875 37.546875 \r\nL 35.6875 37.546875 \r\nQ 44.875 37.546875 48.734375 40.96875 \r\nQ 52.59375 44.390625 52.59375 50.59375 \r\nQ 52.59375 55.078125 50.3125 58.265625 \r\nQ 48.046875 61.46875 44.34375 62.5 \r\nQ 41.9375 63.140625 35.5 63.140625 \r\nL 17.1875 63.140625 \r\nz\r\n\" id=\"ArialMT-80\"/>\r\n       <path d=\"M 40.234375 0 \r\nL 40.234375 6.546875 \r\nQ 35.296875 -1.171875 25.734375 -1.171875 \r\nQ 19.53125 -1.171875 14.328125 2.25 \r\nQ 9.125 5.671875 6.265625 11.796875 \r\nQ 3.421875 17.921875 3.421875 25.875 \r\nQ 3.421875 33.640625 6 39.96875 \r\nQ 8.59375 46.296875 13.765625 49.65625 \r\nQ 18.953125 53.03125 25.34375 53.03125 \r\nQ 30.03125 53.03125 33.6875 51.046875 \r\nQ 37.359375 49.078125 39.65625 45.90625 \r\nL 39.65625 71.578125 \r\nL 48.390625 71.578125 \r\nL 48.390625 0 \r\nz\r\nM 12.453125 25.875 \r\nQ 12.453125 15.921875 16.640625 10.984375 \r\nQ 20.84375 6.0625 26.5625 6.0625 \r\nQ 32.328125 6.0625 36.34375 10.765625 \r\nQ 40.375 15.484375 40.375 25.140625 \r\nQ 40.375 35.796875 36.265625 40.765625 \r\nQ 32.171875 45.75 26.171875 45.75 \r\nQ 20.3125 45.75 16.375 40.96875 \r\nQ 12.453125 36.1875 12.453125 25.875 \r\nz\r\n\" id=\"ArialMT-100\"/>\r\n       <path d=\"M 6.640625 61.46875 \r\nL 6.640625 71.578125 \r\nL 15.4375 71.578125 \r\nL 15.4375 61.46875 \r\nz\r\nM 6.640625 0 \r\nL 6.640625 51.859375 \r\nL 15.4375 51.859375 \r\nL 15.4375 0 \r\nz\r\n\" id=\"ArialMT-105\"/>\r\n       <path d=\"M 40.4375 19 \r\nL 49.078125 17.875 \r\nQ 47.65625 8.9375 41.8125 3.875 \r\nQ 35.984375 -1.171875 27.484375 -1.171875 \r\nQ 16.84375 -1.171875 10.375 5.78125 \r\nQ 3.90625 12.75 3.90625 25.734375 \r\nQ 3.90625 34.125 6.6875 40.421875 \r\nQ 9.46875 46.734375 15.15625 49.875 \r\nQ 20.84375 53.03125 27.546875 53.03125 \r\nQ 35.984375 53.03125 41.359375 48.75 \r\nQ 46.734375 44.484375 48.25 36.625 \r\nL 39.703125 35.296875 \r\nQ 38.484375 40.53125 35.375 43.15625 \r\nQ 32.28125 45.796875 27.875 45.796875 \r\nQ 21.234375 45.796875 17.078125 41.03125 \r\nQ 12.9375 36.28125 12.9375 25.984375 \r\nQ 12.9375 15.53125 16.9375 10.796875 \r\nQ 20.953125 6.0625 27.390625 6.0625 \r\nQ 32.5625 6.0625 36.03125 9.234375 \r\nQ 39.5 12.40625 40.4375 19 \r\nz\r\n\" id=\"ArialMT-99\"/>\r\n      </defs>\r\n      <use xlink:href=\"#ArialMT-80\"/>\r\n      <use x=\"66.699219\" xlink:href=\"#ArialMT-114\"/>\r\n      <use x=\"100\" xlink:href=\"#ArialMT-101\"/>\r\n      <use x=\"155.615234\" xlink:href=\"#ArialMT-100\"/>\r\n      <use x=\"211.230469\" xlink:href=\"#ArialMT-105\"/>\r\n      <use x=\"233.447266\" xlink:href=\"#ArialMT-99\"/>\r\n      <use x=\"283.447266\" xlink:href=\"#ArialMT-116\"/>\r\n     </g>\r\n    </g>\r\n   </g>\r\n   <g id=\"line2d_1\">\r\n    <defs>\r\n     <path d=\"M 0 3 \r\nC 0.795609 3 1.55874 2.683901 2.12132 2.12132 \r\nC 2.683901 1.55874 3 0.795609 3 0 \r\nC 3 -0.795609 2.683901 -1.55874 2.12132 -2.12132 \r\nC 1.55874 -2.683901 0.795609 -3 0 -3 \r\nC -0.795609 -3 -1.55874 -2.683901 -2.12132 -2.12132 \r\nC -2.683901 -1.55874 -3 -0.795609 -3 0 \r\nC -3 0.795609 -2.683901 1.55874 -2.12132 2.12132 \r\nC -1.55874 2.683901 -0.795609 3 0 3 \r\nz\r\n\" id=\"m414a74473f\" style=\"stroke:#001c7f;\"/>\r\n    </defs>\r\n    <g clip-path=\"url(#p32cac6c059)\">\r\n     <use style=\"fill:#001c7f;stroke:#001c7f;\" x=\"37.791406\" xlink:href=\"#m414a74473f\" y=\"337.296797\"/>\r\n     <use style=\"fill:#001c7f;stroke:#001c7f;\" x=\"37.791406\" xlink:href=\"#m414a74473f\" y=\"337.296797\"/>\r\n     <use style=\"fill:#001c7f;stroke:#001c7f;\" x=\"37.791406\" xlink:href=\"#m414a74473f\" y=\"337.296797\"/>\r\n     <use style=\"fill:#001c7f;stroke:#001c7f;\" x=\"37.791406\" xlink:href=\"#m414a74473f\" y=\"337.296797\"/>\r\n     <use style=\"fill:#001c7f;stroke:#001c7f;\" x=\"37.791406\" xlink:href=\"#m414a74473f\" y=\"337.296797\"/>\r\n     <use style=\"fill:#001c7f;stroke:#001c7f;\" x=\"37.791406\" xlink:href=\"#m414a74473f\" y=\"337.296797\"/>\r\n     <use style=\"fill:#001c7f;stroke:#001c7f;\" x=\"37.791406\" xlink:href=\"#m414a74473f\" y=\"337.296797\"/>\r\n     <use style=\"fill:#001c7f;stroke:#001c7f;\" x=\"37.791406\" xlink:href=\"#m414a74473f\" y=\"337.296797\"/>\r\n     <use style=\"fill:#001c7f;stroke:#001c7f;\" x=\"37.791406\" xlink:href=\"#m414a74473f\" y=\"337.296797\"/>\r\n     <use style=\"fill:#001c7f;stroke:#001c7f;\" x=\"37.791406\" xlink:href=\"#m414a74473f\" y=\"337.296797\"/>\r\n     <use style=\"fill:#001c7f;stroke:#001c7f;\" x=\"104.751406\" xlink:href=\"#m414a74473f\" y=\"272.064797\"/>\r\n     <use style=\"fill:#001c7f;stroke:#001c7f;\" x=\"104.751406\" xlink:href=\"#m414a74473f\" y=\"206.832797\"/>\r\n     <use style=\"fill:#001c7f;stroke:#001c7f;\" x=\"104.751406\" xlink:href=\"#m414a74473f\" y=\"272.064797\"/>\r\n     <use style=\"fill:#001c7f;stroke:#001c7f;\" x=\"104.751406\" xlink:href=\"#m414a74473f\" y=\"272.064797\"/>\r\n     <use style=\"fill:#001c7f;stroke:#001c7f;\" x=\"104.751406\" xlink:href=\"#m414a74473f\" y=\"272.064797\"/>\r\n     <use style=\"fill:#001c7f;stroke:#001c7f;\" x=\"104.751406\" xlink:href=\"#m414a74473f\" y=\"272.064797\"/>\r\n     <use style=\"fill:#001c7f;stroke:#001c7f;\" x=\"104.751406\" xlink:href=\"#m414a74473f\" y=\"257.011258\"/>\r\n     <use style=\"fill:#001c7f;stroke:#001c7f;\" x=\"104.751406\" xlink:href=\"#m414a74473f\" y=\"257.011258\"/>\r\n     <use style=\"fill:#001c7f;stroke:#001c7f;\" x=\"104.751406\" xlink:href=\"#m414a74473f\" y=\"257.011258\"/>\r\n     <use style=\"fill:#001c7f;stroke:#001c7f;\" x=\"104.751406\" xlink:href=\"#m414a74473f\" y=\"272.064797\"/>\r\n     <use style=\"fill:#001c7f;stroke:#001c7f;\" x=\"171.711406\" xlink:href=\"#m414a74473f\" y=\"206.832797\"/>\r\n     <use style=\"fill:#001c7f;stroke:#001c7f;\" x=\"171.711406\" xlink:href=\"#m414a74473f\" y=\"214.986797\"/>\r\n     <use style=\"fill:#001c7f;stroke:#001c7f;\" x=\"171.711406\" xlink:href=\"#m414a74473f\" y=\"206.832797\"/>\r\n     <use style=\"fill:#001c7f;stroke:#001c7f;\" x=\"171.711406\" xlink:href=\"#m414a74473f\" y=\"206.832797\"/>\r\n     <use style=\"fill:#001c7f;stroke:#001c7f;\" x=\"171.711406\" xlink:href=\"#m414a74473f\" y=\"206.832797\"/>\r\n     <use style=\"fill:#001c7f;stroke:#001c7f;\" x=\"171.711406\" xlink:href=\"#m414a74473f\" y=\"272.064797\"/>\r\n     <use style=\"fill:#001c7f;stroke:#001c7f;\" x=\"171.711406\" xlink:href=\"#m414a74473f\" y=\"206.832797\"/>\r\n     <use style=\"fill:#001c7f;stroke:#001c7f;\" x=\"171.711406\" xlink:href=\"#m414a74473f\" y=\"206.832797\"/>\r\n     <use style=\"fill:#001c7f;stroke:#001c7f;\" x=\"171.711406\" xlink:href=\"#m414a74473f\" y=\"206.832797\"/>\r\n     <use style=\"fill:#001c7f;stroke:#001c7f;\" x=\"171.711406\" xlink:href=\"#m414a74473f\" y=\"206.832797\"/>\r\n    </g>\r\n   </g>\r\n   <g id=\"patch_3\">\r\n    <path d=\"M 37.791406 337.296797 \r\nL 37.791406 11.136797 \r\n\" style=\"fill:none;stroke:#262626;stroke-linecap:square;stroke-linejoin:miter;stroke-width:1.25;\"/>\r\n   </g>\r\n   <g id=\"patch_4\">\r\n    <path d=\"M 372.591406 337.296797 \r\nL 372.591406 11.136797 \r\n\" style=\"fill:none;stroke:#262626;stroke-linecap:square;stroke-linejoin:miter;stroke-width:1.25;\"/>\r\n   </g>\r\n   <g id=\"patch_5\">\r\n    <path d=\"M 37.791406 337.296797 \r\nL 372.591406 337.296797 \r\n\" style=\"fill:none;stroke:#262626;stroke-linecap:square;stroke-linejoin:miter;stroke-width:1.25;\"/>\r\n   </g>\r\n   <g id=\"patch_6\">\r\n    <path d=\"M 37.791406 11.136797 \r\nL 372.591406 11.136797 \r\n\" style=\"fill:none;stroke:#262626;stroke-linecap:square;stroke-linejoin:miter;stroke-width:1.25;\"/>\r\n   </g>\r\n   <g id=\"legend_1\">\r\n    <g id=\"patch_7\">\r\n     <path d=\"M 296.677656 35.496641 \r\nL 364.891406 35.496641 \r\nQ 367.091406 35.496641 367.091406 33.296641 \r\nL 367.091406 18.836797 \r\nQ 367.091406 16.636797 364.891406 16.636797 \r\nL 296.677656 16.636797 \r\nQ 294.477656 16.636797 294.477656 18.836797 \r\nL 294.477656 33.296641 \r\nQ 294.477656 35.496641 296.677656 35.496641 \r\nz\r\n\" style=\"fill:#ffffff;opacity:0.8;stroke:#cccccc;stroke-linejoin:miter;\"/>\r\n    </g>\r\n    <g id=\"line2d_2\"/>\r\n    <g id=\"line2d_3\">\r\n     <g>\r\n      <use style=\"fill:#001c7f;stroke:#001c7f;\" x=\"309.877656\" xlink:href=\"#m414a74473f\" y=\"25.060391\"/>\r\n     </g>\r\n    </g>\r\n    <g id=\"text_15\">\r\n     <!-- predict -->\r\n     <g style=\"fill:#262626;\" transform=\"translate(329.677656 28.910391)scale(0.11 -0.11)\">\r\n      <defs>\r\n       <path d=\"M 6.59375 -19.875 \r\nL 6.59375 51.859375 \r\nL 14.59375 51.859375 \r\nL 14.59375 45.125 \r\nQ 17.4375 49.078125 21 51.046875 \r\nQ 24.5625 53.03125 29.640625 53.03125 \r\nQ 36.28125 53.03125 41.359375 49.609375 \r\nQ 46.4375 46.1875 49.015625 39.953125 \r\nQ 51.609375 33.734375 51.609375 26.3125 \r\nQ 51.609375 18.359375 48.75 11.984375 \r\nQ 45.90625 5.609375 40.453125 2.21875 \r\nQ 35.015625 -1.171875 29 -1.171875 \r\nQ 24.609375 -1.171875 21.109375 0.6875 \r\nQ 17.625 2.546875 15.375 5.375 \r\nL 15.375 -19.875 \r\nz\r\nM 14.546875 25.640625 \r\nQ 14.546875 15.625 18.59375 10.84375 \r\nQ 22.65625 6.0625 28.421875 6.0625 \r\nQ 34.28125 6.0625 38.453125 11.015625 \r\nQ 42.625 15.96875 42.625 26.375 \r\nQ 42.625 36.28125 38.546875 41.203125 \r\nQ 34.46875 46.140625 28.8125 46.140625 \r\nQ 23.1875 46.140625 18.859375 40.890625 \r\nQ 14.546875 35.640625 14.546875 25.640625 \r\nz\r\n\" id=\"ArialMT-112\"/>\r\n      </defs>\r\n      <use xlink:href=\"#ArialMT-112\"/>\r\n      <use x=\"55.615234\" xlink:href=\"#ArialMT-114\"/>\r\n      <use x=\"88.916016\" xlink:href=\"#ArialMT-101\"/>\r\n      <use x=\"144.53125\" xlink:href=\"#ArialMT-100\"/>\r\n      <use x=\"200.146484\" xlink:href=\"#ArialMT-105\"/>\r\n      <use x=\"222.363281\" xlink:href=\"#ArialMT-99\"/>\r\n      <use x=\"272.363281\" xlink:href=\"#ArialMT-116\"/>\r\n     </g>\r\n    </g>\r\n   </g>\r\n  </g>\r\n </g>\r\n <defs>\r\n  <clipPath id=\"p32cac6c059\">\r\n   <rect height=\"326.16\" width=\"334.8\" x=\"37.791406\" y=\"11.136797\"/>\r\n  </clipPath>\r\n </defs>\r\n</svg>\r\n",
      "image/png": "[encoded data removed]"
     },
     "metadata": {
      "needs_background": "light"
     }
    }
   ],
   "source": [
    "fig = plt.figure(figsize=(6,6))\n",
    "ax = plt.axes()\n",
    "\n",
    "ph_test_predict = pd.DataFrame({'test':iris_y_test2,\n",
    "                                'predict': iris_y_test_pred_gr_species}).set_index('test').sort_index()\n",
    "\n",
    "ph_test_predict.plot(marker='o', ls='', ax=ax)\n",
    "ax.set(xlabel='Tesrt', ylabel='Predict', xlim=(0,5), ylim=(0,5));"
   ]
  },
  {
   "cell_type": "markdown",
   "metadata": {},
   "source": [
    "## Question 12 *(Optional)*\n",
    "\n",
    "This question is optional as it requires an additional command line program (GraphViz) and Python library (PyDotPlus). GraphViz can be installed with a package manager on Linux and Mac. For PyDotPlus, either `pip` or `conda` (`conda install -c conda-forge pydotplus`) can be used to install the library.\n",
    "\n",
    "Once these programs are installed:\n",
    "\n",
    "* Create a visualization of the decision tree from question 9, where wine species was predicted and the number of features and/or splits are not limited.\n",
    "* Create a visualization of the decision tree from question 10, where wine species was predicted but a grid search was used to find the optimal depth and number of features.\n",
    "\n",
    "The decision tree from question 11 will likely have too many nodes to visualize."
   ]
  },
  {
   "cell_type": "code",
   "execution_count": null,
   "metadata": {
    "ExecuteTime": {
     "end_time": "2017-05-09T23:59:29.435753Z",
     "start_time": "2017-05-09T23:59:29.417461Z"
    },
    "collapsed": true
   },
   "outputs": [],
   "source": []
  },
  {
   "cell_type": "markdown",
   "metadata": {},
   "source": [
    "The tree from question 9."
   ]
  },
  {
   "cell_type": "code",
   "execution_count": null,
   "metadata": {
    "ExecuteTime": {
     "end_time": "2017-05-09T23:59:31.771292Z",
     "start_time": "2017-05-09T23:59:29.437977Z"
    },
    "collapsed": true
   },
   "outputs": [],
   "source": []
  },
  {
   "cell_type": "markdown",
   "metadata": {},
   "source": [
    "The tree fit with cross validation from question 10. This tree is much shallower than the previous one."
   ]
  },
  {
   "cell_type": "code",
   "execution_count": null,
   "metadata": {
    "ExecuteTime": {
     "end_time": "2017-05-09T23:59:34.027107Z",
     "start_time": "2017-05-09T23:59:31.773741Z"
    },
    "collapsed": true
   },
   "outputs": [],
   "source": []
  },
  {
   "cell_type": "code",
   "execution_count": null,
   "metadata": {
    "collapsed": true
   },
   "outputs": [],
   "source": []
  }
 ],
 "metadata": {
  "kernelspec": {
   "display_name": "Python 3",
   "language": "python",
   "name": "python3"
  },
  "language_info": {
   "codemirror_mode": {
    "name": "ipython",
    "version": 3
   },
   "file_extension": ".py",
   "mimetype": "text/x-python",
   "name": "python",
   "nbconvert_exporter": "python",
   "pygments_lexer": "ipython3",
   "version": "3.8.5-final"
  }
 },
 "nbformat": 4,
 "nbformat_minor": 2
}